{
 "cells": [
  {
   "cell_type": "markdown",
   "id": "c4e20be0",
   "metadata": {},
   "source": [
    "# TD 2 | Analyse et visualisation de données avec numpy, pandas et matplotlib\n",
    "\n",
    "\n",
    "Objectifs du TD :\n",
    "\n",
    "* découvrir la visualisation de données avec matplotlib\n",
    "* approfondir la maîtrise de numpy et pandas\n",
    "* effectuer une première analyse exploratoire de données (EDA)\n",
    "* découvrir la librairie de machine learning (ML) scikit-learn\n",
    "* appliquer des techniques basiques d'apprentissage non supervisé pour visualiser et classifier des données (PCA, $k$-means)\n",
    "\n",
    "---"
   ]
  },
  {
   "cell_type": "markdown",
   "id": "afc432b9",
   "metadata": {},
   "source": [
    "## 1. Exploratory Data Analysis (EDA) avec matplotlib\n",
    "\n",
    "<img src=\"./rc/matplotlib.png\" />\n",
    "\n",
    "La librairie la plus couramment utilisée pour visualiser des données en Python est matplotlib (https://matplotlib.org/). D'autres librairies très utilisées et permettant certaines fonctionnalités plus avancées sont plotly (https://plot.ly/python/), bokeh (https://bokeh.pydata.org/en/latest/) ou encore seaborn (https://seaborn.pydata.org/). Nous allons dans un premier temps découvrir la première, matplotlib.\n",
    "\n",
    "Le contexte permettant de tracer des graphes est `matplotlib.pyplot`, que l'on abrège souvent par `plt`, comme ci-dessous :"
   ]
  },
  {
   "cell_type": "code",
   "execution_count": 1,
   "id": "237e6bcf",
   "metadata": {},
   "outputs": [],
   "source": [
    "import matplotlib.pyplot as plt"
   ]
  },
  {
   "cell_type": "markdown",
   "id": "967b0872",
   "metadata": {},
   "source": [
    "**La documentation de pyplot : https://matplotlib.org/api/_as_gen/matplotlib.pyplot.html#module-matplotlib.pyplot**\n",
    "\n",
    "Découvrons les différents types de graphes en pratique, à l'aide du fichier `Vol010.csv`.\n",
    "\n",
    "### Chargement des données de vol"
   ]
  },
  {
   "cell_type": "code",
   "execution_count": 2,
   "id": "627e5ef3",
   "metadata": {},
   "outputs": [],
   "source": [
    "# !git clone https://github.com/MadaneA/MACS3-Statistiques-Descriptives-TDs.git"
   ]
  },
  {
   "cell_type": "code",
   "execution_count": 3,
   "id": "1d6cf7cb",
   "metadata": {},
   "outputs": [
    {
     "data": {
      "text/plain": [
       "'/home/davidson/Documents/ING_MACS/MACS3_M2/courses/macs/Stat_descriptives/TD_stats/TD2'"
      ]
     },
     "execution_count": 3,
     "metadata": {},
     "output_type": "execute_result"
    }
   ],
   "source": [
    "import os\n",
    "os.getcwd()"
   ]
  },
  {
   "cell_type": "code",
   "execution_count": 4,
   "id": "a6d5b1fe",
   "metadata": {},
   "outputs": [],
   "source": [
    "import os\n",
    "os.chdir('/home/davidson/Documents/ING_MACS/MACS3_M2/courses/macs/Stat_descriptives/TD_stats/')"
   ]
  },
  {
   "cell_type": "code",
   "execution_count": 5,
   "id": "4bad92bf",
   "metadata": {},
   "outputs": [],
   "source": [
    "import pandas as pd\n",
    "import numpy as np"
   ]
  },
  {
   "cell_type": "code",
   "execution_count": 6,
   "id": "fe53c529",
   "metadata": {},
   "outputs": [],
   "source": [
    "# Ne pas modifier\n",
    "vol = pd.read_csv(\"./data/Vol010.csv\").drop(0).dropna(how='any').iloc[::10] # On ne garde qu'un point sur 10 pour limiter les points à affichervol\n",
    "vol.index = np.arange(vol.shape[0])\n",
    "vol['t'] = pd.to_datetime(vol['t'])\n",
    "vol[vol.columns[1:]] = vol[vol.columns[1:]].apply(pd.to_numeric)\n",
    "vol['FLIGHT_MOD'] = vol['FLIGHT_MOD'].apply(int)"
   ]
  },
  {
   "cell_type": "code",
   "execution_count": 7,
   "id": "d8d4deeb",
   "metadata": {},
   "outputs": [
    {
     "data": {
      "text/plain": [
       "t             datetime64[ns]\n",
       "EGT_SEL              float64\n",
       "FLIGHT_MOD             int64\n",
       "FMV_SEL              float64\n",
       "HPTC_SEL             float64\n",
       "LPTC_SEL             float64\n",
       "N1_SEL               float64\n",
       "N2_ACTSEL            float64\n",
       "OIL_P                float64\n",
       "OIL_TEMP             float64\n",
       "PS3_SEL              float64\n",
       "PT2_SEL              float64\n",
       "P0_SEL               float64\n",
       "TAT                  float64\n",
       "TBV_SEL              float64\n",
       "TRA_SEL              float64\n",
       "T25_SEL              float64\n",
       "T3_SEL               float64\n",
       "VBV_SEL              float64\n",
       "VIB_CN1              float64\n",
       "VIB_CN2              float64\n",
       "VIB_TN1              float64\n",
       "VIB_TN2              float64\n",
       "VSV_SEL              float64\n",
       "WFM_SEL              float64\n",
       "XM                   float64\n",
       "dtype: object"
      ]
     },
     "execution_count": 7,
     "metadata": {},
     "output_type": "execute_result"
    }
   ],
   "source": [
    "vol.dtypes"
   ]
  },
  {
   "cell_type": "code",
   "execution_count": 8,
   "id": "fb2c2e71",
   "metadata": {},
   "outputs": [
    {
     "name": "stdout",
     "output_type": "stream",
     "text": [
      "(2283, 26)\n"
     ]
    },
    {
     "data": {
      "text/html": [
       "<div>\n",
       "<style scoped>\n",
       "    .dataframe tbody tr th:only-of-type {\n",
       "        vertical-align: middle;\n",
       "    }\n",
       "\n",
       "    .dataframe tbody tr th {\n",
       "        vertical-align: top;\n",
       "    }\n",
       "\n",
       "    .dataframe thead th {\n",
       "        text-align: right;\n",
       "    }\n",
       "</style>\n",
       "<table border=\"1\" class=\"dataframe\">\n",
       "  <thead>\n",
       "    <tr style=\"text-align: right;\">\n",
       "      <th></th>\n",
       "      <th>t</th>\n",
       "      <th>EGT_SEL</th>\n",
       "      <th>FLIGHT_MOD</th>\n",
       "      <th>FMV_SEL</th>\n",
       "      <th>HPTC_SEL</th>\n",
       "      <th>LPTC_SEL</th>\n",
       "      <th>N1_SEL</th>\n",
       "      <th>N2_ACTSEL</th>\n",
       "      <th>OIL_P</th>\n",
       "      <th>OIL_TEMP</th>\n",
       "      <th>...</th>\n",
       "      <th>T25_SEL</th>\n",
       "      <th>T3_SEL</th>\n",
       "      <th>VBV_SEL</th>\n",
       "      <th>VIB_CN1</th>\n",
       "      <th>VIB_CN2</th>\n",
       "      <th>VIB_TN1</th>\n",
       "      <th>VIB_TN2</th>\n",
       "      <th>VSV_SEL</th>\n",
       "      <th>WFM_SEL</th>\n",
       "      <th>XM</th>\n",
       "    </tr>\n",
       "  </thead>\n",
       "  <tbody>\n",
       "    <tr>\n",
       "      <th>0</th>\n",
       "      <td>2011-09-15 14:26:02.875</td>\n",
       "      <td>335.984000</td>\n",
       "      <td>1</td>\n",
       "      <td>0.0</td>\n",
       "      <td>0.0</td>\n",
       "      <td>0.0</td>\n",
       "      <td>0.0</td>\n",
       "      <td>0.0</td>\n",
       "      <td>0.000</td>\n",
       "      <td>177.3740</td>\n",
       "      <td>...</td>\n",
       "      <td>-128.0</td>\n",
       "      <td>0.0</td>\n",
       "      <td>0.0</td>\n",
       "      <td>0.0</td>\n",
       "      <td>0.0</td>\n",
       "      <td>0.0</td>\n",
       "      <td>0.0</td>\n",
       "      <td>0.0</td>\n",
       "      <td>7679.84</td>\n",
       "      <td>0.15</td>\n",
       "    </tr>\n",
       "    <tr>\n",
       "      <th>1</th>\n",
       "      <td>2011-09-15 14:26:05.375</td>\n",
       "      <td>72.000600</td>\n",
       "      <td>1</td>\n",
       "      <td>0.0</td>\n",
       "      <td>0.0</td>\n",
       "      <td>0.0</td>\n",
       "      <td>0.0</td>\n",
       "      <td>0.0</td>\n",
       "      <td>0.000</td>\n",
       "      <td>68.0000</td>\n",
       "      <td>...</td>\n",
       "      <td>-128.0</td>\n",
       "      <td>0.0</td>\n",
       "      <td>0.0</td>\n",
       "      <td>0.0</td>\n",
       "      <td>0.0</td>\n",
       "      <td>0.0</td>\n",
       "      <td>0.0</td>\n",
       "      <td>0.0</td>\n",
       "      <td>0.00</td>\n",
       "      <td>0.15</td>\n",
       "    </tr>\n",
       "    <tr>\n",
       "      <th>2</th>\n",
       "      <td>2011-09-15 14:26:07.875</td>\n",
       "      <td>72.001100</td>\n",
       "      <td>1</td>\n",
       "      <td>0.0</td>\n",
       "      <td>0.0</td>\n",
       "      <td>0.0</td>\n",
       "      <td>0.0</td>\n",
       "      <td>0.0</td>\n",
       "      <td>0.000</td>\n",
       "      <td>68.0000</td>\n",
       "      <td>...</td>\n",
       "      <td>-128.0</td>\n",
       "      <td>0.0</td>\n",
       "      <td>0.0</td>\n",
       "      <td>0.0</td>\n",
       "      <td>0.0</td>\n",
       "      <td>0.0</td>\n",
       "      <td>0.0</td>\n",
       "      <td>0.0</td>\n",
       "      <td>0.00</td>\n",
       "      <td>0.15</td>\n",
       "    </tr>\n",
       "    <tr>\n",
       "      <th>3</th>\n",
       "      <td>2011-09-15 14:26:10.375</td>\n",
       "      <td>527.978000</td>\n",
       "      <td>1</td>\n",
       "      <td>0.0</td>\n",
       "      <td>0.0</td>\n",
       "      <td>0.0</td>\n",
       "      <td>0.0</td>\n",
       "      <td>0.0</td>\n",
       "      <td>0.000</td>\n",
       "      <td>68.0000</td>\n",
       "      <td>...</td>\n",
       "      <td>-128.0</td>\n",
       "      <td>0.0</td>\n",
       "      <td>0.0</td>\n",
       "      <td>0.0</td>\n",
       "      <td>0.0</td>\n",
       "      <td>0.0</td>\n",
       "      <td>0.0</td>\n",
       "      <td>0.0</td>\n",
       "      <td>10752.10</td>\n",
       "      <td>0.15</td>\n",
       "    </tr>\n",
       "    <tr>\n",
       "      <th>4</th>\n",
       "      <td>2011-09-15 14:26:12.875</td>\n",
       "      <td>-0.001335</td>\n",
       "      <td>1</td>\n",
       "      <td>0.0</td>\n",
       "      <td>0.0</td>\n",
       "      <td>0.0</td>\n",
       "      <td>0.0</td>\n",
       "      <td>0.0</td>\n",
       "      <td>456.002</td>\n",
       "      <td>44.6249</td>\n",
       "      <td>...</td>\n",
       "      <td>-128.0</td>\n",
       "      <td>0.0</td>\n",
       "      <td>0.0</td>\n",
       "      <td>0.0</td>\n",
       "      <td>0.0</td>\n",
       "      <td>0.0</td>\n",
       "      <td>0.0</td>\n",
       "      <td>0.0</td>\n",
       "      <td>0.00</td>\n",
       "      <td>0.15</td>\n",
       "    </tr>\n",
       "  </tbody>\n",
       "</table>\n",
       "<p>5 rows × 26 columns</p>\n",
       "</div>"
      ],
      "text/plain": [
       "                        t     EGT_SEL  FLIGHT_MOD  FMV_SEL  HPTC_SEL  \\\n",
       "0 2011-09-15 14:26:02.875  335.984000           1      0.0       0.0   \n",
       "1 2011-09-15 14:26:05.375   72.000600           1      0.0       0.0   \n",
       "2 2011-09-15 14:26:07.875   72.001100           1      0.0       0.0   \n",
       "3 2011-09-15 14:26:10.375  527.978000           1      0.0       0.0   \n",
       "4 2011-09-15 14:26:12.875   -0.001335           1      0.0       0.0   \n",
       "\n",
       "   LPTC_SEL  N1_SEL  N2_ACTSEL    OIL_P  OIL_TEMP  ...  T25_SEL  T3_SEL  \\\n",
       "0       0.0     0.0        0.0    0.000  177.3740  ...   -128.0     0.0   \n",
       "1       0.0     0.0        0.0    0.000   68.0000  ...   -128.0     0.0   \n",
       "2       0.0     0.0        0.0    0.000   68.0000  ...   -128.0     0.0   \n",
       "3       0.0     0.0        0.0    0.000   68.0000  ...   -128.0     0.0   \n",
       "4       0.0     0.0        0.0  456.002   44.6249  ...   -128.0     0.0   \n",
       "\n",
       "   VBV_SEL  VIB_CN1  VIB_CN2  VIB_TN1  VIB_TN2  VSV_SEL   WFM_SEL    XM  \n",
       "0      0.0      0.0      0.0      0.0      0.0      0.0   7679.84  0.15  \n",
       "1      0.0      0.0      0.0      0.0      0.0      0.0      0.00  0.15  \n",
       "2      0.0      0.0      0.0      0.0      0.0      0.0      0.00  0.15  \n",
       "3      0.0      0.0      0.0      0.0      0.0      0.0  10752.10  0.15  \n",
       "4      0.0      0.0      0.0      0.0      0.0      0.0      0.00  0.15  \n",
       "\n",
       "[5 rows x 26 columns]"
      ]
     },
     "execution_count": 8,
     "metadata": {},
     "output_type": "execute_result"
    }
   ],
   "source": [
    "print(vol.shape)\n",
    "vol.head()"
   ]
  },
  {
   "cell_type": "markdown",
   "id": "f97c3e56",
   "metadata": {},
   "source": [
    "### Line/Scatter plot : Visualisation d'un vol avec `plt.plot`"
   ]
  },
  {
   "cell_type": "markdown",
   "id": "bde84a90",
   "metadata": {},
   "source": [
    "La méthode `plt.plot(x=..., y=..., options)` permet de visualiser des points sur un graphique. La commande ci-dessous affiche la valeur d'une variable au cours du temps. "
   ]
  },
  {
   "cell_type": "code",
   "execution_count": 9,
   "id": "6e936290",
   "metadata": {},
   "outputs": [
    {
     "data": {
      "text/plain": [
       "[<matplotlib.lines.Line2D at 0x7fab6c7d3fd0>]"
      ]
     },
     "execution_count": 9,
     "metadata": {},
     "output_type": "execute_result"
    },
    {
     "data": {
      "image/png": "[encoded data removed]",
      "text/plain": [
       "<Figure size 432x288 with 1 Axes>"
      ]
     },
     "metadata": {
      "needs_background": "light"
     },
     "output_type": "display_data"
    }
   ],
   "source": [
    "plt.plot(vol['t'], vol['EGT_SEL'])"
   ]
  },
  {
   "cell_type": "markdown",
   "id": "2bcde177",
   "metadata": {},
   "source": [
    "Il est possible de superposer deux graphes en appelant plusieurs points plt.plot(). De plus, plot() peut recevoir une grande quantité d'options pour personnaliser l'aspect de la courbe :\n",
    "\n",
    "- ligne ou points\n",
    "- type de marqueur\n",
    "- couleurs, taille/épaisseur de trait\n",
    "- ...\n",
    "\n",
    "Certaines options peuvent être combinées et exprimées sous forme de chaîne de caractère. Par exemple, 'b^--' signifie \"marqueurs bleus en forme de triangles, reliés par un trait pointillé\"."
   ]
  },
  {
   "cell_type": "code",
   "execution_count": 10,
   "id": "d8d277d4",
   "metadata": {},
   "outputs": [
    {
     "data": {
      "text/plain": [
       "[<matplotlib.lines.Line2D at 0x7fab6c472a60>]"
      ]
     },
     "execution_count": 10,
     "metadata": {},
     "output_type": "execute_result"
    },
    {
     "data": {
      "image/png": "[encoded data removed]",
      "text/plain": [
       "<Figure size 432x288 with 1 Axes>"
      ]
     },
     "metadata": {
      "needs_background": "light"
     },
     "output_type": "display_data"
    }
   ],
   "source": [
    "plt.plot(vol['t'], vol['EGT_SEL'], 'b--', linewidth=1)\n",
    "plt.plot(vol['t'], vol['T3_SEL'], 'k-')"
   ]
  },
  {
   "cell_type": "markdown",
   "id": "9d5de9c4",
   "metadata": {},
   "source": [
    "Il est possible de visualiser plusieurs graphiques de manière juxtaposée. La méthode utilisée est plt.subplot().\n",
    "Ses paramètres sont : le nombre de lignes, le nombre de colonnes, et le sous-plot sur lequel vous vous trouvez. \n",
    "\n",
    "Ainsi, dans plt.subplot(1, 2, 1); 1, 2, 1 signifie \"une figure à 1 ligne et 2 colonnes : allez au premier sous-plot\". Ensuite, 1, 2, 2 signifie \"une figure à 1 ligne et 2 colonnes : passez au deuxième sous-plot\"\n",
    "\n",
    "plt.figure(figsize=(x,y)) permet de définir la taille des plots, avec x : longueur et y: largeur.\n",
    "\n",
    "plt.xlim(inf,sup) et plt.ylim(inf,sup) permettent de fixer la borne inférieur et supérieur respectivement de l'axe x et l'axe y."
   ]
  },
  {
   "cell_type": "code",
   "execution_count": 11,
   "id": "522e9493",
   "metadata": {
    "scrolled": true
   },
   "outputs": [
    {
     "data": {
      "text/plain": [
       "<matplotlib.legend.Legend at 0x7fab6ba8a460>"
      ]
     },
     "execution_count": 11,
     "metadata": {},
     "output_type": "execute_result"
    },
    {
     "data": {
      "image/png": "[encoded data removed]",
      "text/plain": [
       "<Figure size 1800x360 with 2 Axes>"
      ]
     },
     "metadata": {
      "needs_background": "light"
     },
     "output_type": "display_data"
    }
   ],
   "source": [
    "fig = plt.figure(figsize=(25,5))\n",
    "\n",
    "plt.subplot(1, 2, 1)\n",
    "plt.plot(vol['t'], vol['EGT_SEL'], 'b--', linewidth=1, label = 'fig1')\n",
    "plt.xlabel('Abscisse')\n",
    "plt.ylabel('Ordonné')\n",
    "plt.title('Mon titre')\n",
    "plt.ylim(-600,850)\n",
    "\n",
    "plt.subplot(1, 2, 2)\n",
    "plt.plot(vol['t'], vol['T3_SEL'], 'k-', label = 'fig2')\n",
    "plt.xlabel('Abscisse')\n",
    "plt.ylabel('Ordonné')\n",
    "plt.title('Mon titre')\n",
    "plt.ylim(-600,850)\n",
    "\n",
    "fig.legend()"
   ]
  },
  {
   "cell_type": "markdown",
   "id": "750c316f",
   "metadata": {},
   "source": [
    "### Corrélation"
   ]
  },
  {
   "cell_type": "markdown",
   "id": "2063497e",
   "metadata": {},
   "source": [
    "Utiliser la méthode corrcoef du module numpy pour calculer la corrélation entre deux variables X et Y."
   ]
  },
  {
   "cell_type": "code",
   "execution_count": 12,
   "id": "847ce02f",
   "metadata": {},
   "outputs": [
    {
     "name": "stdout",
     "output_type": "stream",
     "text": [
      "[[1.         0.93912182]\n",
      " [0.93912182 1.        ]]\n"
     ]
    }
   ],
   "source": [
    "my_rho = np.corrcoef(vol['T3_SEL'], vol['N1_SEL'])\n",
    "\n",
    "print(my_rho)"
   ]
  },
  {
   "cell_type": "markdown",
   "id": "41208b1a",
   "metadata": {},
   "source": [
    "Nuage de point entre les deux variables T3 et N1 :"
   ]
  },
  {
   "cell_type": "code",
   "execution_count": 13,
   "id": "24670312",
   "metadata": {},
   "outputs": [
    {
     "data": {
      "image/png": "[encoded data removed]",
      "text/plain": [
       "<Figure size 432x288 with 1 Axes>"
      ]
     },
     "metadata": {
      "needs_background": "light"
     },
     "output_type": "display_data"
    }
   ],
   "source": [
    "plt.scatter(vol['T3_SEL'],vol['N1_SEL'])\n",
    "plt.title('Correlation = ' + \"{:.2f}\".format(my_rho[0,1]))\n",
    "plt.show()"
   ]
  },
  {
   "cell_type": "code",
   "execution_count": 14,
   "id": "88487c50",
   "metadata": {},
   "outputs": [
    {
     "data": {
      "text/plain": [
       "[Text(0.5, 1.0, 'Mon titre'),\n",
       " Text(0.5, 113.09375, 'Abscisse'),\n",
       " Text(158.09375, 0.5, 'Ordonné')]"
      ]
     },
     "execution_count": 14,
     "metadata": {},
     "output_type": "execute_result"
    },
    {
     "data": {
      "image/png": "[encoded data removed]",
      "text/plain": [
       "<Figure size 1440x1080 with 2 Axes>"
      ]
     },
     "metadata": {
      "needs_background": "light"
     },
     "output_type": "display_data"
    }
   ],
   "source": [
    "import seaborn as sns\n",
    "\n",
    "# calculate the correlation matrix\n",
    "corr = vol.corr()\n",
    "\n",
    "# plot the heatmap\n",
    "fig = plt.figure(figsize=(20,15))\n",
    "\n",
    "myfig = sns.heatmap(corr, \n",
    "        xticklabels=corr.columns,\n",
    "        yticklabels=corr.columns, annot=False, fmt='.2f', vmin=-1, vmax=1, center=0, \n",
    "        cmap=sns.diverging_palette(20, 220, n=200))\n",
    "myfig.set(title = 'Mon titre', xlabel = 'Abscisse', ylabel = 'Ordonné')\n",
    "# Essayer avec annot=True"
   ]
  },
  {
   "cell_type": "code",
   "execution_count": 15,
   "id": "9e8e0a7f",
   "metadata": {},
   "outputs": [
    {
     "data": {
      "text/plain": [
       "'\\nEXERCICE - Plot avec titres et légende\\n\\nExplorez la documentation de pyplot pour ajouter au graphe précédent :\\n1. Un titre à la figure\\n2. Des titres aux axes\\n3. Une légende\\n'"
      ]
     },
     "execution_count": 15,
     "metadata": {},
     "output_type": "execute_result"
    }
   ],
   "source": [
    "\"\"\"\n",
    "EXERCICE - Plot avec titres et légende\n",
    "\n",
    "Explorez la documentation de pyplot pour ajouter au graphe précédent :\n",
    "1. Un titre à la figure\n",
    "2. Des titres aux axes\n",
    "3. Une légende\n",
    "\"\"\""
   ]
  },
  {
   "cell_type": "markdown",
   "id": "98b4bf02",
   "metadata": {},
   "source": [
    "### Bar plot : temps passé dans chaque phase de vol avec `plt.bar`\n",
    "\n",
    "Pour afficher un ensemble réduit de valeurs, le diagramme le plus adapté est le bar plot. Tout d'abord, il nous faut calculer le nombre de lignes du vol par phase de vol. La phase de vol est symbolisée par la variable `FLIGHT_MOD`. On suppose la correspondance suivante :\n",
    "\n",
    "`FLIGHT_MOD` | Phase de vol\n",
    "-------------|-------------\n",
    "1 | taxi\n",
    "2 | take_off\n",
    "3 | begin_climb\n",
    "4 | climb\n",
    "5 | cruise_climb\n",
    "6 | cruise\n",
    "7 | descent\n",
    "8 | approach\n",
    "9 | flare\n",
    "10 | landing"
   ]
  },
  {
   "cell_type": "code",
   "execution_count": 16,
   "id": "1c039024",
   "metadata": {},
   "outputs": [
    {
     "data": {
      "text/plain": [
       "<matplotlib.legend.Legend at 0x7fab6b9aa340>"
      ]
     },
     "execution_count": 16,
     "metadata": {},
     "output_type": "execute_result"
    },
    {
     "data": {
      "image/png": "[encoded data removed]",
      "text/plain": [
       "<Figure size 432x288 with 1 Axes>"
      ]
     },
     "metadata": {
      "needs_background": "light"
     },
     "output_type": "display_data"
    }
   ],
   "source": [
    "plt.plot(vol['t'], vol['FLIGHT_MOD'], label='FLIGHT_MOD')\n",
    "plt.legend()"
   ]
  },
  {
   "cell_type": "code",
   "execution_count": 17,
   "id": "5d136b21",
   "metadata": {},
   "outputs": [
    {
     "data": {
      "text/html": [
       "<div>\n",
       "<style scoped>\n",
       "    .dataframe tbody tr th:only-of-type {\n",
       "        vertical-align: middle;\n",
       "    }\n",
       "\n",
       "    .dataframe tbody tr th {\n",
       "        vertical-align: top;\n",
       "    }\n",
       "\n",
       "    .dataframe thead th {\n",
       "        text-align: right;\n",
       "    }\n",
       "</style>\n",
       "<table border=\"1\" class=\"dataframe\">\n",
       "  <thead>\n",
       "    <tr style=\"text-align: right;\">\n",
       "      <th></th>\n",
       "      <th>t</th>\n",
       "      <th>EGT_SEL</th>\n",
       "      <th>FLIGHT_MOD</th>\n",
       "      <th>FMV_SEL</th>\n",
       "      <th>HPTC_SEL</th>\n",
       "      <th>LPTC_SEL</th>\n",
       "      <th>N1_SEL</th>\n",
       "      <th>N2_ACTSEL</th>\n",
       "      <th>OIL_P</th>\n",
       "      <th>OIL_TEMP</th>\n",
       "      <th>...</th>\n",
       "      <th>T3_SEL</th>\n",
       "      <th>VBV_SEL</th>\n",
       "      <th>VIB_CN1</th>\n",
       "      <th>VIB_CN2</th>\n",
       "      <th>VIB_TN1</th>\n",
       "      <th>VIB_TN2</th>\n",
       "      <th>VSV_SEL</th>\n",
       "      <th>WFM_SEL</th>\n",
       "      <th>XM</th>\n",
       "      <th>FLIGHT_PHASE</th>\n",
       "    </tr>\n",
       "  </thead>\n",
       "  <tbody>\n",
       "    <tr>\n",
       "      <th>0</th>\n",
       "      <td>2011-09-15 14:26:02.875</td>\n",
       "      <td>335.984000</td>\n",
       "      <td>1</td>\n",
       "      <td>0.0</td>\n",
       "      <td>0.0</td>\n",
       "      <td>0.0</td>\n",
       "      <td>0.0</td>\n",
       "      <td>0.0</td>\n",
       "      <td>0.000</td>\n",
       "      <td>177.3740</td>\n",
       "      <td>...</td>\n",
       "      <td>0.0</td>\n",
       "      <td>0.0</td>\n",
       "      <td>0.0</td>\n",
       "      <td>0.0</td>\n",
       "      <td>0.0</td>\n",
       "      <td>0.0</td>\n",
       "      <td>0.0</td>\n",
       "      <td>7679.84</td>\n",
       "      <td>0.15</td>\n",
       "      <td>taxi</td>\n",
       "    </tr>\n",
       "    <tr>\n",
       "      <th>1</th>\n",
       "      <td>2011-09-15 14:26:05.375</td>\n",
       "      <td>72.000600</td>\n",
       "      <td>1</td>\n",
       "      <td>0.0</td>\n",
       "      <td>0.0</td>\n",
       "      <td>0.0</td>\n",
       "      <td>0.0</td>\n",
       "      <td>0.0</td>\n",
       "      <td>0.000</td>\n",
       "      <td>68.0000</td>\n",
       "      <td>...</td>\n",
       "      <td>0.0</td>\n",
       "      <td>0.0</td>\n",
       "      <td>0.0</td>\n",
       "      <td>0.0</td>\n",
       "      <td>0.0</td>\n",
       "      <td>0.0</td>\n",
       "      <td>0.0</td>\n",
       "      <td>0.00</td>\n",
       "      <td>0.15</td>\n",
       "      <td>taxi</td>\n",
       "    </tr>\n",
       "    <tr>\n",
       "      <th>2</th>\n",
       "      <td>2011-09-15 14:26:07.875</td>\n",
       "      <td>72.001100</td>\n",
       "      <td>1</td>\n",
       "      <td>0.0</td>\n",
       "      <td>0.0</td>\n",
       "      <td>0.0</td>\n",
       "      <td>0.0</td>\n",
       "      <td>0.0</td>\n",
       "      <td>0.000</td>\n",
       "      <td>68.0000</td>\n",
       "      <td>...</td>\n",
       "      <td>0.0</td>\n",
       "      <td>0.0</td>\n",
       "      <td>0.0</td>\n",
       "      <td>0.0</td>\n",
       "      <td>0.0</td>\n",
       "      <td>0.0</td>\n",
       "      <td>0.0</td>\n",
       "      <td>0.00</td>\n",
       "      <td>0.15</td>\n",
       "      <td>taxi</td>\n",
       "    </tr>\n",
       "    <tr>\n",
       "      <th>3</th>\n",
       "      <td>2011-09-15 14:26:10.375</td>\n",
       "      <td>527.978000</td>\n",
       "      <td>1</td>\n",
       "      <td>0.0</td>\n",
       "      <td>0.0</td>\n",
       "      <td>0.0</td>\n",
       "      <td>0.0</td>\n",
       "      <td>0.0</td>\n",
       "      <td>0.000</td>\n",
       "      <td>68.0000</td>\n",
       "      <td>...</td>\n",
       "      <td>0.0</td>\n",
       "      <td>0.0</td>\n",
       "      <td>0.0</td>\n",
       "      <td>0.0</td>\n",
       "      <td>0.0</td>\n",
       "      <td>0.0</td>\n",
       "      <td>0.0</td>\n",
       "      <td>10752.10</td>\n",
       "      <td>0.15</td>\n",
       "      <td>taxi</td>\n",
       "    </tr>\n",
       "    <tr>\n",
       "      <th>4</th>\n",
       "      <td>2011-09-15 14:26:12.875</td>\n",
       "      <td>-0.001335</td>\n",
       "      <td>1</td>\n",
       "      <td>0.0</td>\n",
       "      <td>0.0</td>\n",
       "      <td>0.0</td>\n",
       "      <td>0.0</td>\n",
       "      <td>0.0</td>\n",
       "      <td>456.002</td>\n",
       "      <td>44.6249</td>\n",
       "      <td>...</td>\n",
       "      <td>0.0</td>\n",
       "      <td>0.0</td>\n",
       "      <td>0.0</td>\n",
       "      <td>0.0</td>\n",
       "      <td>0.0</td>\n",
       "      <td>0.0</td>\n",
       "      <td>0.0</td>\n",
       "      <td>0.00</td>\n",
       "      <td>0.15</td>\n",
       "      <td>taxi</td>\n",
       "    </tr>\n",
       "  </tbody>\n",
       "</table>\n",
       "<p>5 rows × 27 columns</p>\n",
       "</div>"
      ],
      "text/plain": [
       "                        t     EGT_SEL  FLIGHT_MOD  FMV_SEL  HPTC_SEL  \\\n",
       "0 2011-09-15 14:26:02.875  335.984000           1      0.0       0.0   \n",
       "1 2011-09-15 14:26:05.375   72.000600           1      0.0       0.0   \n",
       "2 2011-09-15 14:26:07.875   72.001100           1      0.0       0.0   \n",
       "3 2011-09-15 14:26:10.375  527.978000           1      0.0       0.0   \n",
       "4 2011-09-15 14:26:12.875   -0.001335           1      0.0       0.0   \n",
       "\n",
       "   LPTC_SEL  N1_SEL  N2_ACTSEL    OIL_P  OIL_TEMP  ...  T3_SEL  VBV_SEL  \\\n",
       "0       0.0     0.0        0.0    0.000  177.3740  ...     0.0      0.0   \n",
       "1       0.0     0.0        0.0    0.000   68.0000  ...     0.0      0.0   \n",
       "2       0.0     0.0        0.0    0.000   68.0000  ...     0.0      0.0   \n",
       "3       0.0     0.0        0.0    0.000   68.0000  ...     0.0      0.0   \n",
       "4       0.0     0.0        0.0  456.002   44.6249  ...     0.0      0.0   \n",
       "\n",
       "   VIB_CN1  VIB_CN2  VIB_TN1  VIB_TN2  VSV_SEL   WFM_SEL    XM  FLIGHT_PHASE  \n",
       "0      0.0      0.0      0.0      0.0      0.0   7679.84  0.15          taxi  \n",
       "1      0.0      0.0      0.0      0.0      0.0      0.00  0.15          taxi  \n",
       "2      0.0      0.0      0.0      0.0      0.0      0.00  0.15          taxi  \n",
       "3      0.0      0.0      0.0      0.0      0.0  10752.10  0.15          taxi  \n",
       "4      0.0      0.0      0.0      0.0      0.0      0.00  0.15          taxi  \n",
       "\n",
       "[5 rows x 27 columns]"
      ]
     },
     "execution_count": 17,
     "metadata": {},
     "output_type": "execute_result"
    }
   ],
   "source": [
    "\"\"\"\n",
    "EXERCICE - Correpondance FLIGHT_MOD/phase de vol\n",
    "1. Créez un liste définissant la correspondance FLIGHT_MOD/phase de vol\n",
    "2. Ajoutez une nouvelle colonne 'FLIGHT_PHASE' au DataFrame contenant le nom de la phase. Une possibilité est d'utiliser la méthode \"apply\" et une fonction anonyme (lambda).\n",
    "\"\"\"\n",
    "phases = [\"taxi\",\"take_off\",\"begin_climb\",\"climb\",\"cruise_climb\",\"cruise\",\"descent\",\"approach\",\"flare\",\"landing\"]\n",
    "\n",
    "def int_to_char(i) :\n",
    "    return phases[i-1]\n",
    "\n",
    "flight_phase = vol['FLIGHT_MOD'].apply(int_to_char)\n",
    "vol = vol.assign(FLIGHT_PHASE = flight_phase)\n",
    "vol.head()"
   ]
  },
  {
   "cell_type": "code",
   "execution_count": 18,
   "id": "49630da7",
   "metadata": {},
   "outputs": [],
   "source": [
    "\"\"\"\n",
    "EXERCICE - Calcul du nombre de lignes par phase de vol\n",
    "Groupez le DataFrame par phase de vol avec groupby() et aggrégez le résultat avec size().\n",
    "\"\"\"\n",
    "time_by_phase = vol.groupby(['FLIGHT_PHASE']).size()"
   ]
  },
  {
   "cell_type": "markdown",
   "id": "0de5a38e",
   "metadata": {},
   "source": [
    "Voici enfin notre fameux bar plot :"
   ]
  },
  {
   "cell_type": "code",
   "execution_count": 19,
   "id": "1bf47fb1",
   "metadata": {},
   "outputs": [
    {
     "data": {
      "text/plain": [
       "<BarContainer object of 10 artists>"
      ]
     },
     "execution_count": 19,
     "metadata": {},
     "output_type": "execute_result"
    },
    {
     "data": {
      "image/png": "[encoded data removed]",
      "text/plain": [
       "<Figure size 720x432 with 1 Axes>"
      ]
     },
     "metadata": {
      "needs_background": "light"
     },
     "output_type": "display_data"
    }
   ],
   "source": [
    "plt.figure(figsize=(10,6)) # la méthode figure permet de créer une nouvelle figure et de configurer ses paramètres\n",
    "plt.bar(np.arange(time_by_phase.size), time_by_phase, tick_label=time_by_phase.index.tolist())"
   ]
  },
  {
   "cell_type": "code",
   "execution_count": 20,
   "id": "c1f31b2a",
   "metadata": {},
   "outputs": [
    {
     "data": {
      "text/plain": [
       "Text(0, 0.5, 'la température T25 maximale')"
      ]
     },
     "execution_count": 20,
     "metadata": {},
     "output_type": "execute_result"
    },
    {
     "data": {
      "image/png": "[encoded data removed]",
      "text/plain": [
       "<Figure size 720x432 with 1 Axes>"
      ]
     },
     "metadata": {
      "needs_background": "light"
     },
     "output_type": "display_data"
    }
   ],
   "source": [
    "\"\"\"\n",
    "EXERCICE - Affichez la température T25 maximale par phase de vol sur un bar plot de couleur rouge.\n",
    "\"\"\"\n",
    "bla = vol.groupby(['FLIGHT_PHASE']).max()\n",
    "plt.figure(figsize=(10,6)) # la méthode figure permet de créer une nouvelle figure et de configurer ses paramètres\n",
    "plt.bar(np.arange(time_by_phase.size), bla.loc[:,'T25_SEL'], tick_label=time_by_phase.index.tolist())\n",
    "plt.title('la température T25 maximale par phase de vol')\n",
    "plt.xlabel('phase de vol')\n",
    "plt.ylabel('la température T25 maximale')"
   ]
  },
  {
   "cell_type": "markdown",
   "id": "d003d457",
   "metadata": {},
   "source": [
    "### Pie plot : temps passé dans chaque phase de vol avec `plt.pie`"
   ]
  },
  {
   "cell_type": "code",
   "execution_count": 21,
   "id": "6846a9a4",
   "metadata": {},
   "outputs": [
    {
     "data": {
      "text/plain": [
       "([<matplotlib.patches.Wedge at 0x7fab68bf1c10>,\n",
       "  <matplotlib.patches.Wedge at 0x7fab68bfd130>,\n",
       "  <matplotlib.patches.Wedge at 0x7fab68bfd610>,\n",
       "  <matplotlib.patches.Wedge at 0x7fab68bfdaf0>,\n",
       "  <matplotlib.patches.Wedge at 0x7fab68bfdfd0>,\n",
       "  <matplotlib.patches.Wedge at 0x7fab68c0a4f0>,\n",
       "  <matplotlib.patches.Wedge at 0x7fab68c0a9d0>,\n",
       "  <matplotlib.patches.Wedge at 0x7fab68c0aeb0>,\n",
       "  <matplotlib.patches.Wedge at 0x7fab68c163d0>,\n",
       "  <matplotlib.patches.Wedge at 0x7fab68c168b0>],\n",
       " [Text(1.0966179683549047, 0.0861918295499135, 'approach'),\n",
       "  Text(0.9414648036306211, 0.5688971994347979, 'begin_climb'),\n",
       "  Text(0.5977693714027835, 0.9234022842795665, 'climb'),\n",
       "  Text(-0.599039474370888, 0.9225788357346218, 'cruise'),\n",
       "  Text(-0.9375282648712558, -0.5753614103913232, 'cruise_climb'),\n",
       "  Text(0.21580555057206086, -1.078623179957806, 'descent'),\n",
       "  Text(0.911291932724269, -0.616073870044548, 'flare'),\n",
       "  Text(1.0100044448512389, -0.4357648693742314, 'landing'),\n",
       "  Text(1.079359247477358, -0.21209341075363916, 'take_off'),\n",
       "  Text(1.0970757887368094, -0.0801543122202886, 'taxi')])"
      ]
     },
     "execution_count": 21,
     "metadata": {},
     "output_type": "execute_result"
    },
    {
     "data": {
      "image/png": "[encoded data removed]",
      "text/plain": [
       "<Figure size 360x360 with 1 Axes>"
      ]
     },
     "metadata": {},
     "output_type": "display_data"
    }
   ],
   "source": [
    "plt.figure(figsize=(5,5))\n",
    "plt.pie(time_by_phase, labels=time_by_phase.index.tolist())"
   ]
  },
  {
   "cell_type": "markdown",
   "id": "5cd4d79a",
   "metadata": {},
   "source": [
    "### Histogramme : représenter la distribution d'une variable\n",
    "\n",
    "La meilleur façon de visualiser la distribution statistique d'une variable est l'histogramme. La méthode s'appelle `plt.hist()`. Étudiez sa documentation, car elle a de nombreux paramètres.\n",
    "\n",
    "Voici un exemple avec la variable N1."
   ]
  },
  {
   "cell_type": "code",
   "execution_count": 22,
   "id": "efada925",
   "metadata": {},
   "outputs": [
    {
     "data": {
      "image/png": "[encoded data removed]",
      "text/plain": [
       "<Figure size 432x288 with 1 Axes>"
      ]
     },
     "metadata": {
      "needs_background": "light"
     },
     "output_type": "display_data"
    }
   ],
   "source": [
    "plt.hist(vol['N1_SEL'], bins=30, density=True); # Quel est l'effet de l'argument \"density=...\" ?"
   ]
  },
  {
   "cell_type": "markdown",
   "id": "debb4b63",
   "metadata": {},
   "source": [
    "Beaucoup d'autres types de plots existents ! À vous de les découvrir...\n",
    "\n",
    "## 2. Machine Learning non supervisé pour l'exploration de données avec scikit-learn\n",
    "\n",
    "<img src=\"rc/scikit2.png\" />\n",
    "\n",
    "Dans cette section, on continue d'explorer le jeu de données à l'aide de techniques classique :\n",
    "\n",
    "* PCA (Principal Component Analysis, https://fr.wikipedia.org/wiki/Analyse_en_composantes_principales) : permet de trouver les composantes principales d'un jeu de données, correspondant aux directions orthogonales de plus grande variabilité des données. Ce directions correspondent aux vecteurs propres de la matrice de corrélation. En pratique, cette technique statistique permet de réduire la dimensionalité des données en les projectant sur les directions principales. En réduisant la dimensionalité à 2, on peut donc visualiser les données sur un plan.\n",
    "\n",
    "<img width=\"300px\" src=\"rc/PCA_fish.png\" />\n",
    "\n",
    "* $k$-means (https://fr.wikipedia.org/wiki/K-moyennes) est l'algorithme le plus répandu de _clustering_. Le clustering consiste à partitionner les données en différents groupes (appelés _clusters_), en maximisant la similarité _intra-cluster_ (entre les points d'un même cluster) et minimisant la similarité _inter-cluster_ (entre les points de clusters différents). Le clustering est aussi appelée classification _non supervisée_ (car on ne dispose pas d'étiquettes pour chaque classe).\n",
    "\n",
    "<img width=\"300px\" src=\"rc/cluster.png\" />\n",
    "\n",
    "Ces deux algorithmes incontournables permettent de décrire nos données et répondre aux questions suivantes :\n",
    "\n",
    "* Quel est la distribution des données dans le plan des 2 première CP (composantes principales) ?\n",
    "* Y a-t-il des groupes distincts dans nos données ?\n"
   ]
  },
  {
   "cell_type": "markdown",
   "id": "2db6210b",
   "metadata": {},
   "source": [
    "#### 2.1. Préparation des données\n",
    "\n",
    "Ces algorithmes requièrent des données numériques. Il faut donc éliminer du jeu de données les variables non numérique ou les transformer en variables numériques.\n",
    "\n",
    "De plus, on essayera dans la suite de classifier les instants du vol par phase de vol en utilisant un algorithme de clustering. On élimine donc également la colonne \"FLIGHT_MOD\" du jeu de données."
   ]
  },
  {
   "cell_type": "code",
   "execution_count": 23,
   "id": "5cb632b7",
   "metadata": {},
   "outputs": [
    {
     "data": {
      "text/plain": [
       "Index(['t', 'EGT_SEL', 'FLIGHT_MOD', 'FMV_SEL', 'HPTC_SEL', 'LPTC_SEL',\n",
       "       'N1_SEL', 'N2_ACTSEL', 'OIL_P', 'OIL_TEMP', 'PS3_SEL', 'PT2_SEL',\n",
       "       'P0_SEL', 'TAT', 'TBV_SEL', 'TRA_SEL', 'T25_SEL', 'T3_SEL', 'VBV_SEL',\n",
       "       'VIB_CN1', 'VIB_CN2', 'VIB_TN1', 'VIB_TN2', 'VSV_SEL', 'WFM_SEL', 'XM',\n",
       "       'FLIGHT_PHASE'],\n",
       "      dtype='object')"
      ]
     },
     "execution_count": 23,
     "metadata": {},
     "output_type": "execute_result"
    }
   ],
   "source": [
    "\"\"\"\n",
    "EXERCICE - Préparation des données\n",
    "1. Quelles sont les variables non numériques dans les données de vol ?\n",
    "2. Supprimez ces colonnes, ainsi que le FLIGHT_MOD, et créez une variable X_vol contenant les valeurs numériques sous forme d'array numpy (on y accède via la propriété `values`).\n",
    "3. Affichez les dimensions de X_vol (nombre d'individus et de variables).\n",
    "\"\"\"\n",
    "vol.columns"
   ]
  },
  {
   "cell_type": "markdown",
   "id": "75bbc35b",
   "metadata": {},
   "source": [
    "1. Les variables non numériques sont FLIGHT_MOD et donc aussi FLIGHT_PHASE et le t"
   ]
  },
  {
   "cell_type": "code",
   "execution_count": 24,
   "id": "63600c37",
   "metadata": {},
   "outputs": [
    {
     "data": {
      "text/html": [
       "<div>\n",
       "<style scoped>\n",
       "    .dataframe tbody tr th:only-of-type {\n",
       "        vertical-align: middle;\n",
       "    }\n",
       "\n",
       "    .dataframe tbody tr th {\n",
       "        vertical-align: top;\n",
       "    }\n",
       "\n",
       "    .dataframe thead th {\n",
       "        text-align: right;\n",
       "    }\n",
       "</style>\n",
       "<table border=\"1\" class=\"dataframe\">\n",
       "  <thead>\n",
       "    <tr style=\"text-align: right;\">\n",
       "      <th></th>\n",
       "      <th>EGT_SEL</th>\n",
       "      <th>FMV_SEL</th>\n",
       "      <th>HPTC_SEL</th>\n",
       "      <th>LPTC_SEL</th>\n",
       "      <th>N1_SEL</th>\n",
       "      <th>N2_ACTSEL</th>\n",
       "      <th>OIL_P</th>\n",
       "      <th>OIL_TEMP</th>\n",
       "      <th>PS3_SEL</th>\n",
       "      <th>PT2_SEL</th>\n",
       "      <th>...</th>\n",
       "      <th>T25_SEL</th>\n",
       "      <th>T3_SEL</th>\n",
       "      <th>VBV_SEL</th>\n",
       "      <th>VIB_CN1</th>\n",
       "      <th>VIB_CN2</th>\n",
       "      <th>VIB_TN1</th>\n",
       "      <th>VIB_TN2</th>\n",
       "      <th>VSV_SEL</th>\n",
       "      <th>WFM_SEL</th>\n",
       "      <th>XM</th>\n",
       "    </tr>\n",
       "  </thead>\n",
       "  <tbody>\n",
       "    <tr>\n",
       "      <th>0</th>\n",
       "      <td>335.984000</td>\n",
       "      <td>0.0</td>\n",
       "      <td>0.0</td>\n",
       "      <td>0.0</td>\n",
       "      <td>0.0</td>\n",
       "      <td>0.0</td>\n",
       "      <td>0.000</td>\n",
       "      <td>177.3740</td>\n",
       "      <td>9.599800e+02</td>\n",
       "      <td>0.0</td>\n",
       "      <td>...</td>\n",
       "      <td>-128.0</td>\n",
       "      <td>0.0</td>\n",
       "      <td>0.0</td>\n",
       "      <td>0.0</td>\n",
       "      <td>0.0</td>\n",
       "      <td>0.0</td>\n",
       "      <td>0.0</td>\n",
       "      <td>0.0</td>\n",
       "      <td>7679.84</td>\n",
       "      <td>0.15</td>\n",
       "    </tr>\n",
       "    <tr>\n",
       "      <th>1</th>\n",
       "      <td>72.000600</td>\n",
       "      <td>0.0</td>\n",
       "      <td>0.0</td>\n",
       "      <td>0.0</td>\n",
       "      <td>0.0</td>\n",
       "      <td>0.0</td>\n",
       "      <td>0.000</td>\n",
       "      <td>68.0000</td>\n",
       "      <td>0.000000e+00</td>\n",
       "      <td>0.0</td>\n",
       "      <td>...</td>\n",
       "      <td>-128.0</td>\n",
       "      <td>0.0</td>\n",
       "      <td>0.0</td>\n",
       "      <td>0.0</td>\n",
       "      <td>0.0</td>\n",
       "      <td>0.0</td>\n",
       "      <td>0.0</td>\n",
       "      <td>0.0</td>\n",
       "      <td>0.00</td>\n",
       "      <td>0.15</td>\n",
       "    </tr>\n",
       "    <tr>\n",
       "      <th>2</th>\n",
       "      <td>72.001100</td>\n",
       "      <td>0.0</td>\n",
       "      <td>0.0</td>\n",
       "      <td>0.0</td>\n",
       "      <td>0.0</td>\n",
       "      <td>0.0</td>\n",
       "      <td>0.000</td>\n",
       "      <td>68.0000</td>\n",
       "      <td>5.930390e-07</td>\n",
       "      <td>0.0</td>\n",
       "      <td>...</td>\n",
       "      <td>-128.0</td>\n",
       "      <td>0.0</td>\n",
       "      <td>0.0</td>\n",
       "      <td>0.0</td>\n",
       "      <td>0.0</td>\n",
       "      <td>0.0</td>\n",
       "      <td>0.0</td>\n",
       "      <td>0.0</td>\n",
       "      <td>0.00</td>\n",
       "      <td>0.15</td>\n",
       "    </tr>\n",
       "    <tr>\n",
       "      <th>3</th>\n",
       "      <td>527.978000</td>\n",
       "      <td>0.0</td>\n",
       "      <td>0.0</td>\n",
       "      <td>0.0</td>\n",
       "      <td>0.0</td>\n",
       "      <td>0.0</td>\n",
       "      <td>0.000</td>\n",
       "      <td>68.0000</td>\n",
       "      <td>1.344020e+03</td>\n",
       "      <td>0.0</td>\n",
       "      <td>...</td>\n",
       "      <td>-128.0</td>\n",
       "      <td>0.0</td>\n",
       "      <td>0.0</td>\n",
       "      <td>0.0</td>\n",
       "      <td>0.0</td>\n",
       "      <td>0.0</td>\n",
       "      <td>0.0</td>\n",
       "      <td>0.0</td>\n",
       "      <td>10752.10</td>\n",
       "      <td>0.15</td>\n",
       "    </tr>\n",
       "    <tr>\n",
       "      <th>4</th>\n",
       "      <td>-0.001335</td>\n",
       "      <td>0.0</td>\n",
       "      <td>0.0</td>\n",
       "      <td>0.0</td>\n",
       "      <td>0.0</td>\n",
       "      <td>0.0</td>\n",
       "      <td>456.002</td>\n",
       "      <td>44.6249</td>\n",
       "      <td>0.000000e+00</td>\n",
       "      <td>0.0</td>\n",
       "      <td>...</td>\n",
       "      <td>-128.0</td>\n",
       "      <td>0.0</td>\n",
       "      <td>0.0</td>\n",
       "      <td>0.0</td>\n",
       "      <td>0.0</td>\n",
       "      <td>0.0</td>\n",
       "      <td>0.0</td>\n",
       "      <td>0.0</td>\n",
       "      <td>0.00</td>\n",
       "      <td>0.15</td>\n",
       "    </tr>\n",
       "  </tbody>\n",
       "</table>\n",
       "<p>5 rows × 24 columns</p>\n",
       "</div>"
      ],
      "text/plain": [
       "      EGT_SEL  FMV_SEL  HPTC_SEL  LPTC_SEL  N1_SEL  N2_ACTSEL    OIL_P  \\\n",
       "0  335.984000      0.0       0.0       0.0     0.0        0.0    0.000   \n",
       "1   72.000600      0.0       0.0       0.0     0.0        0.0    0.000   \n",
       "2   72.001100      0.0       0.0       0.0     0.0        0.0    0.000   \n",
       "3  527.978000      0.0       0.0       0.0     0.0        0.0    0.000   \n",
       "4   -0.001335      0.0       0.0       0.0     0.0        0.0  456.002   \n",
       "\n",
       "   OIL_TEMP       PS3_SEL  PT2_SEL  ...  T25_SEL  T3_SEL  VBV_SEL  VIB_CN1  \\\n",
       "0  177.3740  9.599800e+02      0.0  ...   -128.0     0.0      0.0      0.0   \n",
       "1   68.0000  0.000000e+00      0.0  ...   -128.0     0.0      0.0      0.0   \n",
       "2   68.0000  5.930390e-07      0.0  ...   -128.0     0.0      0.0      0.0   \n",
       "3   68.0000  1.344020e+03      0.0  ...   -128.0     0.0      0.0      0.0   \n",
       "4   44.6249  0.000000e+00      0.0  ...   -128.0     0.0      0.0      0.0   \n",
       "\n",
       "   VIB_CN2  VIB_TN1  VIB_TN2  VSV_SEL   WFM_SEL    XM  \n",
       "0      0.0      0.0      0.0      0.0   7679.84  0.15  \n",
       "1      0.0      0.0      0.0      0.0      0.00  0.15  \n",
       "2      0.0      0.0      0.0      0.0      0.00  0.15  \n",
       "3      0.0      0.0      0.0      0.0  10752.10  0.15  \n",
       "4      0.0      0.0      0.0      0.0      0.00  0.15  \n",
       "\n",
       "[5 rows x 24 columns]"
      ]
     },
     "execution_count": 24,
     "metadata": {},
     "output_type": "execute_result"
    }
   ],
   "source": [
    "X_vol = vol.drop(['FLIGHT_MOD', 't', 'FLIGHT_PHASE'], axis = 1)\n",
    "X_vol.head()"
   ]
  },
  {
   "cell_type": "code",
   "execution_count": 25,
   "id": "0825266a",
   "metadata": {},
   "outputs": [
    {
     "name": "stdout",
     "output_type": "stream",
     "text": [
      "Le nombre d'individu est :  2283\n",
      "Le nombre de variable est :  24\n"
     ]
    }
   ],
   "source": [
    "print(\"Le nombre d'individu est : \",X_vol.shape[0])\n",
    "print(\"Le nombre de variable est : \",X_vol.shape[1])"
   ]
  },
  {
   "cell_type": "markdown",
   "id": "8544b60d",
   "metadata": {},
   "source": [
    "Ensuite, il est nécessaire en analyse de données de normaliser nos données, car les différentes variables peuvent avoir des unités et plages de valeurs très différentes les unes des autres. Par exemple, certaines variables varient entre 0 et 1, d'autre, comme les températures, peuvent varier (en gros) de 0 à 1000. Pour pouvoir les rendre comparables, on utilisera la normalisation standard suivante, appelée _standardisation_ :\n",
    "\n",
    "1. Retrait de la moyenne de chaque variable.\n",
    "2. Division par l'écart-type.\n",
    "\n",
    "Cela permet d'obtenir des variables de moyenne nulle et d'écart-type 1. Il existe bien entendu des normalisations bien plus poussées."
   ]
  },
  {
   "cell_type": "code",
   "execution_count": 26,
   "id": "d7b0c3fd",
   "metadata": {},
   "outputs": [],
   "source": [
    "\"\"\"\n",
    "EXERCICE - Standardisation\n",
    "1. Normalisez le jeu de donnée X_vol comme expliqué précédemment, et stockez le résultat dans une variable X_vol_norm.\n",
    "   Pour cela, utilisez les méthodes mean() et std() de numpy, en prenant garde à calculer selon les bonnes dimensions.\n",
    "2. Véfifiez à la fin que X_vol_norm a bien une moyenne nulle et un écart-type égal à 1 pour toutes les variables.\n",
    "3. Que renvoie `(X_vol_norm.mean(axis=0) == 0).all()` ? Pourquoi à votre avis ? Pour pailler à ce problème, documentez-vous et utilisez la méthode `np.isclose` de numpy\n",
    "   pour effectuer cette vérification.\n",
    "\"\"\"\n",
    "mean_xl = np.array(X_vol.mean())\n",
    "std_xl = np.array(X_vol.std())\n",
    "X_vol_norm = X_vol.apply(lambda x : np.divide(x - mean_xl,std_xl), axis = 1)"
   ]
  },
  {
   "cell_type": "code",
   "execution_count": 27,
   "id": "f17bc18d",
   "metadata": {},
   "outputs": [
    {
     "name": "stdout",
     "output_type": "stream",
     "text": [
      "EGT_SEL      5.708385e-15\n",
      "FMV_SEL      9.726001e-16\n",
      "HPTC_SEL     7.294501e-17\n",
      "LPTC_SEL     1.011504e-16\n",
      "N1_SEL      -9.803809e-17\n",
      "N2_ACTSEL   -3.531550e-14\n",
      "OIL_P       -5.376533e-16\n",
      "OIL_TEMP    -7.073332e-15\n",
      "PS3_SEL     -1.256405e-15\n",
      "PT2_SEL      4.746289e-17\n",
      "P0_SEL      -7.697157e-15\n",
      "TAT         -5.816149e-17\n",
      "TBV_SEL      2.519277e-15\n",
      "TRA_SEL      6.674760e-15\n",
      "T25_SEL      5.661505e-16\n",
      "T3_SEL      -2.445117e-16\n",
      "VBV_SEL     -9.245050e-15\n",
      "VIB_CN1      9.562604e-16\n",
      "VIB_CN2     -9.566884e-15\n",
      "VIB_TN1      1.518754e-14\n",
      "VIB_TN2      6.436084e-15\n",
      "VSV_SEL     -2.896987e-15\n",
      "WFM_SEL     -3.440476e-15\n",
      "XM          -2.118576e-14\n",
      "dtype: float64\n",
      "EGT_SEL      1.0\n",
      "FMV_SEL      1.0\n",
      "HPTC_SEL     1.0\n",
      "LPTC_SEL     1.0\n",
      "N1_SEL       1.0\n",
      "N2_ACTSEL    1.0\n",
      "OIL_P        1.0\n",
      "OIL_TEMP     1.0\n",
      "PS3_SEL      1.0\n",
      "PT2_SEL      1.0\n",
      "P0_SEL       1.0\n",
      "TAT          1.0\n",
      "TBV_SEL      1.0\n",
      "TRA_SEL      1.0\n",
      "T25_SEL      1.0\n",
      "T3_SEL       1.0\n",
      "VBV_SEL      1.0\n",
      "VIB_CN1      1.0\n",
      "VIB_CN2      1.0\n",
      "VIB_TN1      1.0\n",
      "VIB_TN2      1.0\n",
      "VSV_SEL      1.0\n",
      "WFM_SEL      1.0\n",
      "XM           1.0\n",
      "dtype: float64\n"
     ]
    }
   ],
   "source": [
    "print(X_vol_norm.mean(axis = 0))\n",
    "print(X_vol_norm.std(axis = 0))"
   ]
  },
  {
   "cell_type": "code",
   "execution_count": 28,
   "id": "b9ed0538",
   "metadata": {},
   "outputs": [
    {
     "data": {
      "text/html": [
       "<div>\n",
       "<style scoped>\n",
       "    .dataframe tbody tr th:only-of-type {\n",
       "        vertical-align: middle;\n",
       "    }\n",
       "\n",
       "    .dataframe tbody tr th {\n",
       "        vertical-align: top;\n",
       "    }\n",
       "\n",
       "    .dataframe thead th {\n",
       "        text-align: right;\n",
       "    }\n",
       "</style>\n",
       "<table border=\"1\" class=\"dataframe\">\n",
       "  <thead>\n",
       "    <tr style=\"text-align: right;\">\n",
       "      <th></th>\n",
       "      <th>EGT_SEL</th>\n",
       "      <th>FMV_SEL</th>\n",
       "      <th>HPTC_SEL</th>\n",
       "      <th>LPTC_SEL</th>\n",
       "      <th>N1_SEL</th>\n",
       "      <th>N2_ACTSEL</th>\n",
       "      <th>OIL_P</th>\n",
       "      <th>OIL_TEMP</th>\n",
       "      <th>PS3_SEL</th>\n",
       "      <th>PT2_SEL</th>\n",
       "      <th>...</th>\n",
       "      <th>T25_SEL</th>\n",
       "      <th>T3_SEL</th>\n",
       "      <th>VBV_SEL</th>\n",
       "      <th>VIB_CN1</th>\n",
       "      <th>VIB_CN2</th>\n",
       "      <th>VIB_TN1</th>\n",
       "      <th>VIB_TN2</th>\n",
       "      <th>VSV_SEL</th>\n",
       "      <th>WFM_SEL</th>\n",
       "      <th>XM</th>\n",
       "    </tr>\n",
       "  </thead>\n",
       "  <tbody>\n",
       "    <tr>\n",
       "      <th>0</th>\n",
       "      <td>-1.945942</td>\n",
       "      <td>-1.543647</td>\n",
       "      <td>-1.318045</td>\n",
       "      <td>-2.273119</td>\n",
       "      <td>-2.067847</td>\n",
       "      <td>-4.244082</td>\n",
       "      <td>-1.057207</td>\n",
       "      <td>2.756056</td>\n",
       "      <td>7.927242</td>\n",
       "      <td>-2.277924</td>\n",
       "      <td>...</td>\n",
       "      <td>-6.489436</td>\n",
       "      <td>-2.610189</td>\n",
       "      <td>-0.753124</td>\n",
       "      <td>-1.386358</td>\n",
       "      <td>-1.221797</td>\n",
       "      <td>-1.2603</td>\n",
       "      <td>-1.075946</td>\n",
       "      <td>-0.845515</td>\n",
       "      <td>2.760688</td>\n",
       "      <td>-1.478089</td>\n",
       "    </tr>\n",
       "    <tr>\n",
       "      <th>1</th>\n",
       "      <td>-4.044023</td>\n",
       "      <td>-1.543647</td>\n",
       "      <td>-1.318045</td>\n",
       "      <td>-2.273119</td>\n",
       "      <td>-2.067847</td>\n",
       "      <td>-4.244082</td>\n",
       "      <td>-1.057207</td>\n",
       "      <td>-1.246870</td>\n",
       "      <td>-1.087671</td>\n",
       "      <td>-2.277924</td>\n",
       "      <td>...</td>\n",
       "      <td>-6.489436</td>\n",
       "      <td>-2.610189</td>\n",
       "      <td>-0.753124</td>\n",
       "      <td>-1.386358</td>\n",
       "      <td>-1.221797</td>\n",
       "      <td>-1.2603</td>\n",
       "      <td>-1.075946</td>\n",
       "      <td>-0.845515</td>\n",
       "      <td>-1.282713</td>\n",
       "      <td>-1.478089</td>\n",
       "    </tr>\n",
       "    <tr>\n",
       "      <th>2</th>\n",
       "      <td>-4.044019</td>\n",
       "      <td>-1.543647</td>\n",
       "      <td>-1.318045</td>\n",
       "      <td>-2.273119</td>\n",
       "      <td>-2.067847</td>\n",
       "      <td>-4.244082</td>\n",
       "      <td>-1.057207</td>\n",
       "      <td>-1.246870</td>\n",
       "      <td>-1.087671</td>\n",
       "      <td>-2.277924</td>\n",
       "      <td>...</td>\n",
       "      <td>-6.489436</td>\n",
       "      <td>-2.610189</td>\n",
       "      <td>-0.753124</td>\n",
       "      <td>-1.386358</td>\n",
       "      <td>-1.221797</td>\n",
       "      <td>-1.2603</td>\n",
       "      <td>-1.075946</td>\n",
       "      <td>-0.845515</td>\n",
       "      <td>-1.282713</td>\n",
       "      <td>-1.478089</td>\n",
       "    </tr>\n",
       "    <tr>\n",
       "      <th>3</th>\n",
       "      <td>-0.420017</td>\n",
       "      <td>-1.543647</td>\n",
       "      <td>-1.318045</td>\n",
       "      <td>-2.273119</td>\n",
       "      <td>-2.067847</td>\n",
       "      <td>-4.244082</td>\n",
       "      <td>-1.057207</td>\n",
       "      <td>-1.246870</td>\n",
       "      <td>11.533658</td>\n",
       "      <td>-2.277924</td>\n",
       "      <td>...</td>\n",
       "      <td>-6.489436</td>\n",
       "      <td>-2.610189</td>\n",
       "      <td>-0.753124</td>\n",
       "      <td>-1.386358</td>\n",
       "      <td>-1.221797</td>\n",
       "      <td>-1.2603</td>\n",
       "      <td>-1.075946</td>\n",
       "      <td>-0.845515</td>\n",
       "      <td>4.378219</td>\n",
       "      <td>-1.478089</td>\n",
       "    </tr>\n",
       "    <tr>\n",
       "      <th>4</th>\n",
       "      <td>-4.616278</td>\n",
       "      <td>-1.543647</td>\n",
       "      <td>-1.318045</td>\n",
       "      <td>-2.273119</td>\n",
       "      <td>-2.067847</td>\n",
       "      <td>-4.244082</td>\n",
       "      <td>11.547579</td>\n",
       "      <td>-2.102363</td>\n",
       "      <td>-1.087671</td>\n",
       "      <td>-2.277924</td>\n",
       "      <td>...</td>\n",
       "      <td>-6.489436</td>\n",
       "      <td>-2.610189</td>\n",
       "      <td>-0.753124</td>\n",
       "      <td>-1.386358</td>\n",
       "      <td>-1.221797</td>\n",
       "      <td>-1.2603</td>\n",
       "      <td>-1.075946</td>\n",
       "      <td>-0.845515</td>\n",
       "      <td>-1.282713</td>\n",
       "      <td>-1.478089</td>\n",
       "    </tr>\n",
       "  </tbody>\n",
       "</table>\n",
       "<p>5 rows × 24 columns</p>\n",
       "</div>"
      ],
      "text/plain": [
       "    EGT_SEL   FMV_SEL  HPTC_SEL  LPTC_SEL    N1_SEL  N2_ACTSEL      OIL_P  \\\n",
       "0 -1.945942 -1.543647 -1.318045 -2.273119 -2.067847  -4.244082  -1.057207   \n",
       "1 -4.044023 -1.543647 -1.318045 -2.273119 -2.067847  -4.244082  -1.057207   \n",
       "2 -4.044019 -1.543647 -1.318045 -2.273119 -2.067847  -4.244082  -1.057207   \n",
       "3 -0.420017 -1.543647 -1.318045 -2.273119 -2.067847  -4.244082  -1.057207   \n",
       "4 -4.616278 -1.543647 -1.318045 -2.273119 -2.067847  -4.244082  11.547579   \n",
       "\n",
       "   OIL_TEMP    PS3_SEL   PT2_SEL  ...   T25_SEL    T3_SEL   VBV_SEL   VIB_CN1  \\\n",
       "0  2.756056   7.927242 -2.277924  ... -6.489436 -2.610189 -0.753124 -1.386358   \n",
       "1 -1.246870  -1.087671 -2.277924  ... -6.489436 -2.610189 -0.753124 -1.386358   \n",
       "2 -1.246870  -1.087671 -2.277924  ... -6.489436 -2.610189 -0.753124 -1.386358   \n",
       "3 -1.246870  11.533658 -2.277924  ... -6.489436 -2.610189 -0.753124 -1.386358   \n",
       "4 -2.102363  -1.087671 -2.277924  ... -6.489436 -2.610189 -0.753124 -1.386358   \n",
       "\n",
       "    VIB_CN2  VIB_TN1   VIB_TN2   VSV_SEL   WFM_SEL        XM  \n",
       "0 -1.221797  -1.2603 -1.075946 -0.845515  2.760688 -1.478089  \n",
       "1 -1.221797  -1.2603 -1.075946 -0.845515 -1.282713 -1.478089  \n",
       "2 -1.221797  -1.2603 -1.075946 -0.845515 -1.282713 -1.478089  \n",
       "3 -1.221797  -1.2603 -1.075946 -0.845515  4.378219 -1.478089  \n",
       "4 -1.221797  -1.2603 -1.075946 -0.845515 -1.282713 -1.478089  \n",
       "\n",
       "[5 rows x 24 columns]"
      ]
     },
     "execution_count": 28,
     "metadata": {},
     "output_type": "execute_result"
    }
   ],
   "source": [
    "pd.DataFrame(X_vol_norm, columns = X_vol.columns).head()"
   ]
  },
  {
   "cell_type": "code",
   "execution_count": 29,
   "id": "c9b12175",
   "metadata": {},
   "outputs": [],
   "source": [
    "(X_vol_norm.mean(axis=0) == 0).all()\n",
    "(np.isclose(X_vol_norm.mean(axis=0), 0, atol =1e-8, equal_nan= False )).all()\n",
    "tmp = X_vol_norm"
   ]
  },
  {
   "cell_type": "markdown",
   "id": "048ffc73",
   "metadata": {},
   "source": [
    "On ne ré-invente pas la roue : scikit-learn propose déjà un ensemble de méthodes de normalisation dans son module de prétraitement, `sklearn.preprocessing`."
   ]
  },
  {
   "cell_type": "code",
   "execution_count": 30,
   "id": "27b9d0d7",
   "metadata": {},
   "outputs": [
    {
     "data": {
      "text/plain": [
       "True"
      ]
     },
     "execution_count": 30,
     "metadata": {},
     "output_type": "execute_result"
    }
   ],
   "source": [
    "from sklearn.preprocessing import StandardScaler\n",
    "X_vol_norm = StandardScaler().fit_transform(X_vol)\n",
    "(np.isclose(X_vol_norm.mean(axis=0), 0, atol =1e-8, equal_nan= False )).all()"
   ]
  },
  {
   "cell_type": "code",
   "execution_count": 31,
   "id": "44574cb1",
   "metadata": {},
   "outputs": [
    {
     "name": "stdout",
     "output_type": "stream",
     "text": [
      "[[ True  True  True ...  True  True  True]\n",
      " [ True  True  True ...  True  True  True]\n",
      " [ True  True  True ...  True  True  True]\n",
      " ...\n",
      " [ True  True  True ...  True  True  True]\n",
      " [ True  True  True ...  True  True  True]\n",
      " [ True  True  True ...  True  True  True]]\n"
     ]
    }
   ],
   "source": [
    "\"\"\"\n",
    "EXERCICE - La résultat est-il bien identique ?\n",
    "\"\"\"\n",
    "print(np.isclose(X_vol_norm, tmp, atol =1e-2, equal_nan= False))"
   ]
  },
  {
   "cell_type": "code",
   "execution_count": 32,
   "id": "bcb47562",
   "metadata": {},
   "outputs": [
    {
     "data": {
      "text/html": [
       "<div>\n",
       "<style scoped>\n",
       "    .dataframe tbody tr th:only-of-type {\n",
       "        vertical-align: middle;\n",
       "    }\n",
       "\n",
       "    .dataframe tbody tr th {\n",
       "        vertical-align: top;\n",
       "    }\n",
       "\n",
       "    .dataframe thead th {\n",
       "        text-align: right;\n",
       "    }\n",
       "</style>\n",
       "<table border=\"1\" class=\"dataframe\">\n",
       "  <thead>\n",
       "    <tr style=\"text-align: right;\">\n",
       "      <th></th>\n",
       "      <th>EGT_SEL</th>\n",
       "      <th>FMV_SEL</th>\n",
       "      <th>HPTC_SEL</th>\n",
       "      <th>LPTC_SEL</th>\n",
       "      <th>N1_SEL</th>\n",
       "      <th>N2_ACTSEL</th>\n",
       "      <th>OIL_P</th>\n",
       "      <th>OIL_TEMP</th>\n",
       "      <th>PS3_SEL</th>\n",
       "      <th>PT2_SEL</th>\n",
       "      <th>...</th>\n",
       "      <th>T25_SEL</th>\n",
       "      <th>T3_SEL</th>\n",
       "      <th>VBV_SEL</th>\n",
       "      <th>VIB_CN1</th>\n",
       "      <th>VIB_CN2</th>\n",
       "      <th>VIB_TN1</th>\n",
       "      <th>VIB_TN2</th>\n",
       "      <th>VSV_SEL</th>\n",
       "      <th>WFM_SEL</th>\n",
       "      <th>XM</th>\n",
       "    </tr>\n",
       "  </thead>\n",
       "  <tbody>\n",
       "    <tr>\n",
       "      <th>0</th>\n",
       "      <td>-1.946369</td>\n",
       "      <td>-1.543986</td>\n",
       "      <td>-1.318334</td>\n",
       "      <td>-2.273617</td>\n",
       "      <td>-2.0683</td>\n",
       "      <td>-4.245012</td>\n",
       "      <td>-1.057439</td>\n",
       "      <td>2.756659</td>\n",
       "      <td>7.928979</td>\n",
       "      <td>-2.278423</td>\n",
       "      <td>...</td>\n",
       "      <td>-6.490858</td>\n",
       "      <td>-2.610761</td>\n",
       "      <td>-0.753289</td>\n",
       "      <td>-1.386662</td>\n",
       "      <td>-1.222064</td>\n",
       "      <td>-1.260576</td>\n",
       "      <td>-1.076181</td>\n",
       "      <td>-0.8457</td>\n",
       "      <td>2.761293</td>\n",
       "      <td>-1.478413</td>\n",
       "    </tr>\n",
       "    <tr>\n",
       "      <th>1</th>\n",
       "      <td>-4.044909</td>\n",
       "      <td>-1.543986</td>\n",
       "      <td>-1.318334</td>\n",
       "      <td>-2.273617</td>\n",
       "      <td>-2.0683</td>\n",
       "      <td>-4.245012</td>\n",
       "      <td>-1.057439</td>\n",
       "      <td>-1.247143</td>\n",
       "      <td>-1.087909</td>\n",
       "      <td>-2.278423</td>\n",
       "      <td>...</td>\n",
       "      <td>-6.490858</td>\n",
       "      <td>-2.610761</td>\n",
       "      <td>-0.753289</td>\n",
       "      <td>-1.386662</td>\n",
       "      <td>-1.222064</td>\n",
       "      <td>-1.260576</td>\n",
       "      <td>-1.076181</td>\n",
       "      <td>-0.8457</td>\n",
       "      <td>-1.282994</td>\n",
       "      <td>-1.478413</td>\n",
       "    </tr>\n",
       "    <tr>\n",
       "      <th>2</th>\n",
       "      <td>-4.044905</td>\n",
       "      <td>-1.543986</td>\n",
       "      <td>-1.318334</td>\n",
       "      <td>-2.273617</td>\n",
       "      <td>-2.0683</td>\n",
       "      <td>-4.245012</td>\n",
       "      <td>-1.057439</td>\n",
       "      <td>-1.247143</td>\n",
       "      <td>-1.087909</td>\n",
       "      <td>-2.278423</td>\n",
       "      <td>...</td>\n",
       "      <td>-6.490858</td>\n",
       "      <td>-2.610761</td>\n",
       "      <td>-0.753289</td>\n",
       "      <td>-1.386662</td>\n",
       "      <td>-1.222064</td>\n",
       "      <td>-1.260576</td>\n",
       "      <td>-1.076181</td>\n",
       "      <td>-0.8457</td>\n",
       "      <td>-1.282994</td>\n",
       "      <td>-1.478413</td>\n",
       "    </tr>\n",
       "    <tr>\n",
       "      <th>3</th>\n",
       "      <td>-0.420109</td>\n",
       "      <td>-1.543986</td>\n",
       "      <td>-1.318334</td>\n",
       "      <td>-2.273617</td>\n",
       "      <td>-2.0683</td>\n",
       "      <td>-4.245012</td>\n",
       "      <td>-1.057439</td>\n",
       "      <td>-1.247143</td>\n",
       "      <td>11.536185</td>\n",
       "      <td>-2.278423</td>\n",
       "      <td>...</td>\n",
       "      <td>-6.490858</td>\n",
       "      <td>-2.610761</td>\n",
       "      <td>-0.753289</td>\n",
       "      <td>-1.386662</td>\n",
       "      <td>-1.222064</td>\n",
       "      <td>-1.260576</td>\n",
       "      <td>-1.076181</td>\n",
       "      <td>-0.8457</td>\n",
       "      <td>4.379178</td>\n",
       "      <td>-1.478413</td>\n",
       "    </tr>\n",
       "    <tr>\n",
       "      <th>4</th>\n",
       "      <td>-4.617289</td>\n",
       "      <td>-1.543986</td>\n",
       "      <td>-1.318334</td>\n",
       "      <td>-2.273617</td>\n",
       "      <td>-2.0683</td>\n",
       "      <td>-4.245012</td>\n",
       "      <td>11.550109</td>\n",
       "      <td>-2.102824</td>\n",
       "      <td>-1.087909</td>\n",
       "      <td>-2.278423</td>\n",
       "      <td>...</td>\n",
       "      <td>-6.490858</td>\n",
       "      <td>-2.610761</td>\n",
       "      <td>-0.753289</td>\n",
       "      <td>-1.386662</td>\n",
       "      <td>-1.222064</td>\n",
       "      <td>-1.260576</td>\n",
       "      <td>-1.076181</td>\n",
       "      <td>-0.8457</td>\n",
       "      <td>-1.282994</td>\n",
       "      <td>-1.478413</td>\n",
       "    </tr>\n",
       "  </tbody>\n",
       "</table>\n",
       "<p>5 rows × 24 columns</p>\n",
       "</div>"
      ],
      "text/plain": [
       "    EGT_SEL   FMV_SEL  HPTC_SEL  LPTC_SEL  N1_SEL  N2_ACTSEL      OIL_P  \\\n",
       "0 -1.946369 -1.543986 -1.318334 -2.273617 -2.0683  -4.245012  -1.057439   \n",
       "1 -4.044909 -1.543986 -1.318334 -2.273617 -2.0683  -4.245012  -1.057439   \n",
       "2 -4.044905 -1.543986 -1.318334 -2.273617 -2.0683  -4.245012  -1.057439   \n",
       "3 -0.420109 -1.543986 -1.318334 -2.273617 -2.0683  -4.245012  -1.057439   \n",
       "4 -4.617289 -1.543986 -1.318334 -2.273617 -2.0683  -4.245012  11.550109   \n",
       "\n",
       "   OIL_TEMP    PS3_SEL   PT2_SEL  ...   T25_SEL    T3_SEL   VBV_SEL   VIB_CN1  \\\n",
       "0  2.756659   7.928979 -2.278423  ... -6.490858 -2.610761 -0.753289 -1.386662   \n",
       "1 -1.247143  -1.087909 -2.278423  ... -6.490858 -2.610761 -0.753289 -1.386662   \n",
       "2 -1.247143  -1.087909 -2.278423  ... -6.490858 -2.610761 -0.753289 -1.386662   \n",
       "3 -1.247143  11.536185 -2.278423  ... -6.490858 -2.610761 -0.753289 -1.386662   \n",
       "4 -2.102824  -1.087909 -2.278423  ... -6.490858 -2.610761 -0.753289 -1.386662   \n",
       "\n",
       "    VIB_CN2   VIB_TN1   VIB_TN2  VSV_SEL   WFM_SEL        XM  \n",
       "0 -1.222064 -1.260576 -1.076181  -0.8457  2.761293 -1.478413  \n",
       "1 -1.222064 -1.260576 -1.076181  -0.8457 -1.282994 -1.478413  \n",
       "2 -1.222064 -1.260576 -1.076181  -0.8457 -1.282994 -1.478413  \n",
       "3 -1.222064 -1.260576 -1.076181  -0.8457  4.379178 -1.478413  \n",
       "4 -1.222064 -1.260576 -1.076181  -0.8457 -1.282994 -1.478413  \n",
       "\n",
       "[5 rows x 24 columns]"
      ]
     },
     "execution_count": 32,
     "metadata": {},
     "output_type": "execute_result"
    }
   ],
   "source": [
    "pd.DataFrame(X_vol_norm, columns = X_vol.columns).head()"
   ]
  },
  {
   "cell_type": "markdown",
   "id": "7260cb97",
   "metadata": {},
   "source": [
    "#### 2.2. PCA"
   ]
  },
  {
   "cell_type": "code",
   "execution_count": 33,
   "id": "4b310dc7",
   "metadata": {},
   "outputs": [],
   "source": [
    "from sklearn.decomposition import PCA"
   ]
  },
  {
   "cell_type": "code",
   "execution_count": 34,
   "id": "081645ff",
   "metadata": {},
   "outputs": [],
   "source": [
    "vol_pca = PCA(n_components=2).fit(X_vol_norm)"
   ]
  },
  {
   "cell_type": "markdown",
   "id": "daea2ef1",
   "metadata": {},
   "source": [
    "#### 2.2.1. Étude de la variance expliquée\n",
    "\n",
    "Le modèle PCA permet d'obtenir la part de variance des données expliquée par les différentes CP. En général, on garde autant de CP que nécessaire pour expliquer au total par exemple 90% ou 95% de la variance des données, afin de limiter la perte d'information. Ici, on en conserve 2 pour des raisons de visualisation."
   ]
  },
  {
   "cell_type": "code",
   "execution_count": 35,
   "id": "6f0ce93b",
   "metadata": {},
   "outputs": [
    {
     "data": {
      "text/plain": [
       "\"\\nEXERCICE - Étude de la variance expliquée\\n1. Affichez les parts de variance expliquées par les 2 premières CP à l'aide de la propriété `explained_variance_ratio_` du modèle PCA. Faites varier le nombres de CP (3, 4... 25).\\n   Affichez les résultats en %.\\n2. Quel est le pourcentage de variance expliquée par les 2 premières CP ? Est-il cohérent de ne conserver que ces 2 dimensions ?\\n   Combien de composantes faudrait-il garder pour expliquer 90% de la variance ? 95% ?\\n3. Tracez un bar plot de la variance expliquée par chaque CP, en n'oubliant pas le titre, les noms des axes et les étiquettes sur l'axe des abscisses ('PC1', 'PC2', etc.).\\n   Essayez avec une échelle logarithmique.\\n\""
      ]
     },
     "execution_count": 35,
     "metadata": {},
     "output_type": "execute_result"
    }
   ],
   "source": [
    "\"\"\"\n",
    "EXERCICE - Étude de la variance expliquée\n",
    "1. Affichez les parts de variance expliquées par les 2 premières CP à l'aide de la propriété `explained_variance_ratio_` du modèle PCA. Faites varier le nombres de CP (3, 4... 25).\n",
    "   Affichez les résultats en %.\n",
    "2. Quel est le pourcentage de variance expliquée par les 2 premières CP ? Est-il cohérent de ne conserver que ces 2 dimensions ?\n",
    "   Combien de composantes faudrait-il garder pour expliquer 90% de la variance ? 95% ?\n",
    "3. Tracez un bar plot de la variance expliquée par chaque CP, en n'oubliant pas le titre, les noms des axes et les étiquettes sur l'axe des abscisses ('PC1', 'PC2', etc.).\n",
    "   Essayez avec une échelle logarithmique.\n",
    "\"\"\""
   ]
  },
  {
   "cell_type": "code",
   "execution_count": 36,
   "id": "b1c91b8e",
   "metadata": {},
   "outputs": [
    {
     "name": "stdout",
     "output_type": "stream",
     "text": [
      "Avec  1  composante on a : 53.96958965735165 %\n",
      "Avec  2  composante on a : 70.87377405296115 %\n",
      "Avec  3  composante on a : 78.36138989363816 %\n",
      "Avec  4  composante on a : 83.16185652332297 %\n",
      "Avec  5  composante on a : 86.78931994768818 %\n",
      "Avec  6  composante on a : 89.69993631117521 %\n",
      "Avec  7  composante on a : 91.96129130482763 %\n",
      "Avec  8  composante on a : 93.74184027321459 %\n",
      "Avec  9  composante on a : 94.95820569486852 %\n",
      "Avec  10  composante on a : 96.06196732925778 %\n",
      "Avec  11  composante on a : 96.86136297708616 %\n",
      "Avec  12  composante on a : 97.49293877429338 %\n",
      "Avec  13  composante on a : 97.98961682402035 %\n",
      "Avec  14  composante on a : 98.46087780760618 %\n",
      "Avec  15  composante on a : 98.84706075908811 %\n",
      "Avec  16  composante on a : 99.11336360226166 %\n",
      "Avec  17  composante on a : 99.32117697368894 %\n",
      "Avec  18  composante on a : 99.49436937431928 %\n",
      "Avec  19  composante on a : 99.64719680408822 %\n",
      "Avec  20  composante on a : 99.77505663853417 %\n",
      "Avec  21  composante on a : 99.87852303292598 %\n",
      "Avec  22  composante on a : 99.94769780970721 %\n",
      "Avec  23  composante on a : 99.99062892479814 %\n",
      "Avec  24  composante on a : 99.99999999999999 %\n"
     ]
    }
   ],
   "source": [
    "for i in range(1,25) : \n",
    "    print(\"Avec \", i, \" composante on a :\",sum(PCA(n_components=i).fit(X_vol_norm).explained_variance_ratio_) * 100, \"%\")"
   ]
  },
  {
   "cell_type": "markdown",
   "id": "1d37b11f",
   "metadata": {},
   "source": [
    "2. Avec  2  composante on a : 70.8737740529611 % de variance expliqué qui est presque trois quart des données, si on veut s'en contenter pourquoi pas.\n",
    "\n",
    "Avec  6  composante on a : 89.69993630987635 %\n",
    "Avec  7  composante on a : 91.96129130457527 %\n",
    "\n",
    "Donc il faut au moins 7/24 composantes pour dépasser le cap des 90% de variances expliqués\n",
    "\n",
    "Avec  9  composante on a : 94.95820569728936 %\n",
    "Avec  10  composante on a : 96.06196733042906 %\n",
    "\n",
    "Donc il faut au moins 10/24 composantes pour dépasser le cap des 95% de variances expliquéss"
   ]
  },
  {
   "cell_type": "code",
   "execution_count": 37,
   "id": "cfaa7b0a",
   "metadata": {},
   "outputs": [
    {
     "data": {
      "image/png": "[encoded data removed]",
      "text/plain": [
       "<Figure size 1080x1080 with 1 Axes>"
      ]
     },
     "metadata": {
      "needs_background": "light"
     },
     "output_type": "display_data"
    }
   ],
   "source": [
    "values_var_pca = PCA().fit(X_vol_norm).explained_variance_ratio_\n",
    "names_var_pca = [ (\"PC\" + str(_+1)) for _ in range(24)]\n",
    "plt.figure(figsize=(15,15))\n",
    "plt.bar(x = names_var_pca, height= values_var_pca ,log = True)\n",
    "plt.show()"
   ]
  },
  {
   "cell_type": "markdown",
   "id": "1873fb69",
   "metadata": {},
   "source": [
    "#### 2.2.2. Projection et visualisation\n",
    "\n",
    "À présent, on projette les données sur les 2 premières CP pour les visualiser sur un scatter plot. La projection s'effectue :\n",
    "\n",
    "* par produit matriciel avec les composantes principales, contenues dans l'array `vol_pca.components_`\n",
    "* via la méthode `transform(...)` du modèle PCA"
   ]
  },
  {
   "cell_type": "code",
   "execution_count": 38,
   "id": "12d73697",
   "metadata": {},
   "outputs": [],
   "source": [
    "\"\"\"\n",
    "EXERCICE - Projection et visualisation par PCA.\n",
    "1. Projettez les données sur les 2 premières CP.\n",
    "2. Affichez le résultat sur un scatter plot. Que représente chaque point ? Que représentent les axes ? \n",
    "3. Étant donné que notre jeu de données est une série temporelle, il serait intéressant de visualiser la trajectoire du vol dans le plan de la PCA.\n",
    "   Proposez et mettez en œuvre une solution permettant de visualiser cet aspect temporel sur le scatter plot.\n",
    "   \n",
    "\"\"\"\n",
    "data_proj = PCA(n_components = 2).fit(X_vol_norm).transform(X_vol_norm)"
   ]
  },
  {
   "cell_type": "code",
   "execution_count": 39,
   "id": "28295573",
   "metadata": {},
   "outputs": [],
   "source": [
    "df_proj = pd.DataFrame(data = data_proj, columns = [\"PC1\", \"PC2\"])"
   ]
  },
  {
   "cell_type": "code",
   "execution_count": 40,
   "id": "4e6cb8f0",
   "metadata": {},
   "outputs": [
    {
     "data": {
      "text/plain": [
       "<AxesSubplot:xlabel='PC1', ylabel='PC2'>"
      ]
     },
     "execution_count": 40,
     "metadata": {},
     "output_type": "execute_result"
    },
    {
     "data": {
      "image/png": "[encoded data removed]",
      "text/plain": [
       "<Figure size 432x288 with 1 Axes>"
      ]
     },
     "metadata": {
      "needs_background": "light"
     },
     "output_type": "display_data"
    }
   ],
   "source": [
    "sns.scatterplot(data = df_proj, x = \"PC1\", y = \"PC2\")"
   ]
  },
  {
   "cell_type": "code",
   "execution_count": 41,
   "id": "d037af33",
   "metadata": {},
   "outputs": [],
   "source": [
    "data_val_proj = np.matrix(data_proj)\n",
    "data_t_proj = np.matrix(range(2283))\n",
    "\n",
    "data_full = np.concatenate((data_val_proj,data_t_proj.T), axis = 1)\n",
    "\n",
    "df_proj_t = pd.DataFrame(data = data_full, columns = [\"PC1\", \"PC2\", \"t\"])"
   ]
  },
  {
   "cell_type": "code",
   "execution_count": 42,
   "id": "bf4cd5f8",
   "metadata": {},
   "outputs": [
    {
     "data": {
      "text/plain": [
       "<AxesSubplot:xlabel='PC1', ylabel='PC2'>"
      ]
     },
     "execution_count": 42,
     "metadata": {},
     "output_type": "execute_result"
    },
    {
     "data": {
      "image/png": "[encoded data removed]",
      "text/plain": [
       "<Figure size 432x288 with 1 Axes>"
      ]
     },
     "metadata": {
      "needs_background": "light"
     },
     "output_type": "display_data"
    }
   ],
   "source": [
    "sns.scatterplot(data = df_proj_t, x = \"PC1\", y = \"PC2\", hue = \"t\")"
   ]
  },
  {
   "cell_type": "markdown",
   "id": "fe7d44ef",
   "metadata": {},
   "source": [
    "Ressource utile : les color maps matplotlib https://matplotlib.org/users/colormaps.html"
   ]
  },
  {
   "cell_type": "code",
   "execution_count": 43,
   "id": "1c6de3ac",
   "metadata": {},
   "outputs": [
    {
     "data": {
      "text/plain": [
       "Text(0.5, 1.0, 'Projection PCA du vol avec phases de vol')"
      ]
     },
     "execution_count": 43,
     "metadata": {},
     "output_type": "execute_result"
    },
    {
     "data": {
      "image/png": "[encoded data removed]",
      "text/plain": [
       "<Figure size 720x720 with 1 Axes>"
      ]
     },
     "metadata": {
      "needs_background": "light"
     },
     "output_type": "display_data"
    }
   ],
   "source": [
    "\"\"\"\n",
    "EXERCICE - Projection et visualisation par PCA avec affichage de la phase de vol.\n",
    "Complétez le code matplotlib suivant afin de de colorer les points par phase de vol, avec une légende.\n",
    "\"\"\"\n",
    "df_proj[\"FLIGHT_PHASE\"] = vol.loc[:, \"FLIGHT_PHASE\"]\n",
    "plt.figure(figsize=(10,10))\n",
    "for phase in phases:\n",
    "    data = np.array(df_proj[df_proj[\"FLIGHT_PHASE\"].isin([phase])].loc[:, [\"PC1\", \"PC2\"]])\n",
    "    plt.scatter(data[:, 0], data[:, 1], label=phase)\n",
    "plt.legend()\n",
    "plt.xlabel('PC1')\n",
    "plt.ylabel('PC2')\n",
    "plt.title('Projection PCA du vol avec phases de vol')"
   ]
  },
  {
   "cell_type": "markdown",
   "id": "e4c55428",
   "metadata": {},
   "source": [
    "#### 2.3. $k$-means\n",
    "\n",
    "L'algorithme $k$-means est disponible dans le module `sklearn.clustering`, au côté d'autres algorithmes de clustering. "
   ]
  },
  {
   "cell_type": "code",
   "execution_count": 44,
   "id": "3fc5ee11",
   "metadata": {},
   "outputs": [],
   "source": [
    "from sklearn.cluster import KMeans"
   ]
  },
  {
   "cell_type": "markdown",
   "id": "a4fda900",
   "metadata": {},
   "source": [
    "#### 2.3.1. Apprentissage et visualisation des résultats"
   ]
  },
  {
   "cell_type": "code",
   "execution_count": 45,
   "id": "74658a80",
   "metadata": {},
   "outputs": [
    {
     "data": {
      "text/plain": [
       "\"\\nEXERCICE - k-means clustering\\n1. Instanciez un modèle k-means avec 10 centroïdes.\\n2. Apprenez le modèle sur le jeu de données `X_vol_norm` et récupérez les étiquettes des clusters via la méthode de prédiction.\\n3. Créez une figure composée de 2 graphiques.\\n   3.1. Sur le graphique 1, affichez le nombre d'éléments par cluster sur un bar plot (indice : la méthode `bincount` de nummy évitera d'écrire une boucle).\\n   3.2. SUr le graphique 2, affichez un scatter plot de la projection PCA en colorant les points par cluster.\\n4. Interprétez le résultat. Peut-on établir une correspondance entre les clusters trouvés par k-means et les phases de vol ?\\n\""
      ]
     },
     "execution_count": 45,
     "metadata": {},
     "output_type": "execute_result"
    }
   ],
   "source": [
    "\"\"\"\n",
    "EXERCICE - k-means clustering\n",
    "1. Instanciez un modèle k-means avec 10 centroïdes.\n",
    "2. Apprenez le modèle sur le jeu de données `X_vol_norm` et récupérez les étiquettes des clusters via la méthode de prédiction.\n",
    "3. Créez une figure composée de 2 graphiques.\n",
    "   3.1. Sur le graphique 1, affichez le nombre d'éléments par cluster sur un bar plot (indice : la méthode `bincount` de nummy évitera d'écrire une boucle).\n",
    "   3.2. SUr le graphique 2, affichez un scatter plot de la projection PCA en colorant les points par cluster.\n",
    "4. Interprétez le résultat. Peut-on établir une correspondance entre les clusters trouvés par k-means et les phases de vol ?\n",
    "\"\"\"\n"
   ]
  },
  {
   "cell_type": "code",
   "execution_count": 46,
   "id": "7dae26a6",
   "metadata": {},
   "outputs": [],
   "source": [
    "my_kmeans = KMeans(n_clusters = 10)\n",
    "\n",
    "my_kmeans.fit(X_vol_norm)\n",
    "\n",
    "my_labels = my_kmeans.predict(X_vol_norm)"
   ]
  },
  {
   "cell_type": "code",
   "execution_count": 47,
   "id": "456fd44e",
   "metadata": {},
   "outputs": [
    {
     "data": {
      "image/png": "[encoded data removed]",
      "text/plain": [
       "<Figure size 432x288 with 1 Axes>"
      ]
     },
     "metadata": {
      "needs_background": "light"
     },
     "output_type": "display_data"
    }
   ],
   "source": [
    "plt.figure()\n",
    "plt.bar(x = [(\"C\"+str(_+1)) for _ in range(10)], height = np.bincount(my_labels))\n",
    "plt.show()"
   ]
  },
  {
   "cell_type": "code",
   "execution_count": 48,
   "id": "b7831ed5",
   "metadata": {},
   "outputs": [
    {
     "data": {
      "text/plain": [
       "Text(0.5, 1.0, 'Projection PCA du vol avec cluster')"
      ]
     },
     "execution_count": 48,
     "metadata": {},
     "output_type": "execute_result"
    },
    {
     "data": {
      "image/png": "[encoded data removed]",
      "text/plain": [
       "<Figure size 720x720 with 1 Axes>"
      ]
     },
     "metadata": {
      "needs_background": "light"
     },
     "output_type": "display_data"
    }
   ],
   "source": [
    "df_proj[\"Cluster\"] = my_labels\n",
    "df_proj.head()\n",
    "plt.figure(figsize=(10,10))\n",
    "for label in range(10):\n",
    "    data = np.array(df_proj[df_proj[\"Cluster\"].isin([label])].loc[:, [\"PC1\", \"PC2\"]])\n",
    "    plt.scatter(data[:, 0], data[:, 1], label=label)\n",
    "plt.legend()\n",
    "plt.xlabel('PC1')\n",
    "plt.ylabel('PC2')\n",
    "plt.title('Projection PCA du vol avec cluster')"
   ]
  },
  {
   "cell_type": "markdown",
   "id": "cc5d3201",
   "metadata": {},
   "source": [
    "* Explication"
   ]
  },
  {
   "cell_type": "markdown",
   "id": "38c77f16",
   "metadata": {},
   "source": [
    "#### 2.3.2. Calcul de la pureté du clustering\n",
    "\n",
    "On souhaite maintenant répondre plus en détail à la question :\n",
    "    \n",
    "> Peut-on établir une correspondance entre les clusters trouvés par k-means et les phases de vol ?\n",
    "\n",
    "On commence par évaluer la capacité de notre modèle à trouver des clusters **homogènes par rapport à une variable cible**. Ici, notre variable cible sera la phase de vol. On cherche donc à mesurer si les clusters contiennent des points appartenant à une même phase de vol. Pour cela, on utilise un **indice de qualité de clustering** appelé **pureté** (_purity_). \n",
    "\n",
    "La pureté se calcule de la manière suivante :\n",
    "\n",
    "1. On associe à tous les points d'un cluster la classe (i.e. la variable cible) la plus fréquente au sein de ce cluster.\n",
    "2. On divise le nombre de points correctement associés à leur cluster par le nombre total de points.\n",
    "\n",
    "Pour un partitionnement $\\mathbf{Q} = \\{Q_k\\}, k = 1 \\ldots K$ et en notant $\\mathbf{Y} = \\{Y_j\\}, j = 1 \\ldots C$ l'ensemble des points appartenant à chaque classe, on a :\n",
    "\\begin{equation}\n",
    "    purity(\\mathbf{Q}, \\mathbf{Y}) = \\frac{1}{N} \\sum_{k=1}^K \\underset{j = 1 \\ldots C}{\\max} |Q_k \\cap Y_j|\n",
    "\\end{equation}"
   ]
  },
  {
   "cell_type": "code",
   "execution_count": 49,
   "id": "b29486f2",
   "metadata": {},
   "outputs": [
    {
     "name": "stderr",
     "output_type": "stream",
     "text": [
      "/tmp/ipykernel_9692/2656998053.py:21: UserWarning: Boolean Series key will be reindexed to match DataFrame index.\n",
      "  chose = ((df_proj[df_proj[\"Cluster\"].isin([k])])[df_proj[\"FLIGHT_PHASE\"].isin([j])]).shape[0]\n"
     ]
    },
    {
     "name": "stdout",
     "output_type": "stream",
     "text": [
      "Pureté : 78.931231 %\n"
     ]
    }
   ],
   "source": [
    "\"\"\"\n",
    "EXERCICE - Calcul de la pureté\n",
    "1. Implémentez une fonction calculant la pureté d'un clustering à partir des labels et des valeurs de la variable cible. \n",
    "2. Quelle la pureté du modèle avec 10 clusters ?\n",
    "\"\"\"\n",
    "def cluster_purity(labels, targets):\n",
    "    #Creation du cluster\n",
    "    my_machine = KMeans(n_clusters = len(labels))\n",
    "    my_labels_list = my_machine.fit(X_vol_norm).predict(X_vol_norm)\n",
    "    df_proj[\"Cluster\"] = my_labels_list\n",
    "    # ici labels sont les cluster de 0 à 9\n",
    "    # ici les targets sont les flights phases\n",
    "    # on va comment par sommer la chose\n",
    "    sum = 0\n",
    "    for k in labels :\n",
    "        max = 0\n",
    "        #recherche du max\n",
    "        for j in targets :\n",
    "            chose = 0\n",
    "            #calcul calcul\n",
    "            chose = ((df_proj[df_proj[\"Cluster\"].isin([k])])[df_proj[\"FLIGHT_PHASE\"].isin([j])]).shape[0]\n",
    "            #calcul calcul\n",
    "            if (chose > max) :\n",
    "                max = chose\n",
    "        sum = sum + max\n",
    "\n",
    "    return sum/df_proj.shape[0]\n",
    "\n",
    "pur = cluster_purity(range(10), phases)\n",
    "print('Pureté : {:f} %'.format(pur*100))"
   ]
  },
  {
   "cell_type": "code",
   "execution_count": 50,
   "id": "f3e145b3",
   "metadata": {},
   "outputs": [
    {
     "name": "stderr",
     "output_type": "stream",
     "text": [
      "/tmp/ipykernel_9692/2656998053.py:21: UserWarning: Boolean Series key will be reindexed to match DataFrame index.\n",
      "  chose = ((df_proj[df_proj[\"Cluster\"].isin([k])])[df_proj[\"FLIGHT_PHASE\"].isin([j])]).shape[0]\n",
      "/tmp/ipykernel_9692/2656998053.py:21: UserWarning: Boolean Series key will be reindexed to match DataFrame index.\n",
      "  chose = ((df_proj[df_proj[\"Cluster\"].isin([k])])[df_proj[\"FLIGHT_PHASE\"].isin([j])]).shape[0]\n",
      "/tmp/ipykernel_9692/2656998053.py:21: UserWarning: Boolean Series key will be reindexed to match DataFrame index.\n",
      "  chose = ((df_proj[df_proj[\"Cluster\"].isin([k])])[df_proj[\"FLIGHT_PHASE\"].isin([j])]).shape[0]\n",
      "/tmp/ipykernel_9692/2656998053.py:21: UserWarning: Boolean Series key will be reindexed to match DataFrame index.\n",
      "  chose = ((df_proj[df_proj[\"Cluster\"].isin([k])])[df_proj[\"FLIGHT_PHASE\"].isin([j])]).shape[0]\n",
      "/tmp/ipykernel_9692/2656998053.py:21: UserWarning: Boolean Series key will be reindexed to match DataFrame index.\n",
      "  chose = ((df_proj[df_proj[\"Cluster\"].isin([k])])[df_proj[\"FLIGHT_PHASE\"].isin([j])]).shape[0]\n",
      "/tmp/ipykernel_9692/2656998053.py:21: UserWarning: Boolean Series key will be reindexed to match DataFrame index.\n",
      "  chose = ((df_proj[df_proj[\"Cluster\"].isin([k])])[df_proj[\"FLIGHT_PHASE\"].isin([j])]).shape[0]\n",
      "/tmp/ipykernel_9692/2656998053.py:21: UserWarning: Boolean Series key will be reindexed to match DataFrame index.\n",
      "  chose = ((df_proj[df_proj[\"Cluster\"].isin([k])])[df_proj[\"FLIGHT_PHASE\"].isin([j])]).shape[0]\n"
     ]
    }
   ],
   "source": [
    "\"\"\"\n",
    "EXERCICE - Effet du nombre de clusters sur la pureté\n",
    "1. Faites varier le nombre de clusters de k-means. Quel est l'effet sur la pureté ?\n",
    "2. Tracez la pureté en fonction du nombre de clusters pour quelques valeurs de ce nombre (par exemple K=1, 2, 3, 5, 10, 20, 30, 50).\n",
    "3. Quelle est, à votre avis, la \"meilleure\" valeur de K ? Que peut-on en conclure ?\n",
    "\"\"\"\n",
    "\n",
    "K = [1,2,3,5,10,20,30,50]\n",
    "pur_evol = [ (cluster_purity(range(_), phases)) for _ in K ]"
   ]
  },
  {
   "cell_type": "code",
   "execution_count": 51,
   "id": "16335f8a",
   "metadata": {},
   "outputs": [
    {
     "data": {
      "text/plain": [
       "[0.3451598773543583,\n",
       " 0.4967148488830486,\n",
       " 0.6373193166885677,\n",
       " 0.6982041173893999,\n",
       " 0.7906263688129654,\n",
       " 0.8598335523434077,\n",
       " 0.8861147612790188,\n",
       " 0.9058256679807272]"
      ]
     },
     "execution_count": 51,
     "metadata": {},
     "output_type": "execute_result"
    }
   ],
   "source": [
    "pur_evol"
   ]
  },
  {
   "cell_type": "markdown",
   "id": "603fc252",
   "metadata": {},
   "source": [
    "* Avis"
   ]
  },
  {
   "cell_type": "markdown",
   "id": "9aaddb19",
   "metadata": {},
   "source": [
    "#### 2.3.3. Calcul de la précision de classification non supervisée (_unsupervised clustering accuracy_)\n",
    "\n",
    "Enfin, on souhaite évaluer la performance de notre modèle en tant que classificateur.\n",
    "\n",
    "**Note** : cette approche n'a de sens que si le nombre de clusters est égal au nombre de classes de la variable cible !\n",
    "\n",
    "Pour ce faire, nous allons passer par une métrique appelée **unsupervised clustering accuracy**. Celle-ci correspond à la précision de classification (i.e. proportion de points correctement classifiés), mais dans un cadre non supervisé. Cette métrique mesure la capacité à partitionner les données selon les différentes modalités d'une variable cible. La question est donc de mesurer la capacité du modèle $k$-means à partitionner les données selon la phase de vol.\n",
    "\n",
    "Cette métrique s'écrit :\n",
    "\\begin{equation}\n",
    "    acc(\\mathbf{Q}, \\mathbf{Y}) = \\frac{1}{N} \\underset{m}\\max \\sum_{k=1}^K |Q_k \\cap Y_{m(k)}|\n",
    "\\end{equation}\n",
    "\n",
    "où on cherche la meilleure association $m$ (_mapping_) deux à deux entre clusters et classes (dans notre cas, l'association entre Cluster 0, Cluster 1, etc. et les phases de vol taxi, take_off, etc.).\n",
    "\n",
    "Pour calculer cette meilleur association, un algorithme efficace est la _méthode Hongroise_ ou algorithme de Kuhn-Munkres. Celui-ci est disponible dans le module de scipy `scipy.optimize.linear_sum_assignment`."
   ]
  },
  {
   "cell_type": "code",
   "execution_count": 52,
   "id": "91c3d685",
   "metadata": {},
   "outputs": [],
   "source": [
    "from scipy.optimize import linear_sum_assignment"
   ]
  },
  {
   "cell_type": "code",
   "execution_count": 56,
   "id": "4df64779",
   "metadata": {},
   "outputs": [
    {
     "name": "stdout",
     "output_type": "stream",
     "text": [
      "Accuracy : 63.600526 %\n"
     ]
    }
   ],
   "source": [
    "def cluster_acc(labels, targets):\n",
    "    assert labels.size == targets.size\n",
    "    D = max(labels.max(), targets.max()) + 1\n",
    "    w = np.zeros((D, D))\n",
    "    for i in range(labels.size):\n",
    "        w[labels[i], targets[i]] += 1\n",
    "    row_ind, col_ind = linear_sum_assignment(w.max() - w)\n",
    "    return w[row_ind, col_ind].sum() * 1.0 / labels.size\n",
    "\n",
    "my_machine = KMeans(n_clusters = 10)\n",
    "my_labels_list = my_machine.fit(X_vol_norm).predict(X_vol_norm)\n",
    "df_proj[\"Cluster\"] = my_labels_list\n",
    "\n",
    "acc = cluster_acc(df_proj['Cluster'], vol['FLIGHT_MOD'])\n",
    "print('Accuracy : {:f} %'.format(acc*100))"
   ]
  },
  {
   "cell_type": "markdown",
   "id": "19de3209",
   "metadata": {},
   "source": [
    "#### Test Khi-2\n",
    "\n",
    "Découvrir la library scipy pour effectuer le test de chi-deux d'indépendance des variables dans un tableau de contingence.\n",
    "\n",
    "https://docs.scipy.org/doc/scipy/reference/generated/scipy.stats.chi2_contingency.html\n",
    "\n",
    "scipy.stats.chi2_contingency : fonction permet de calculer le score de khi-2 et la p-value pour le test d'hypothèse d'indépendance des fréquences observées. "
   ]
  }
 ],
 "metadata": {
  "kernelspec": {
   "display_name": "Python 3.9.12 ('base')",
   "language": "python",
   "name": "python3"
  },
  "language_info": {
   "codemirror_mode": {
    "name": "ipython",
    "version": 3
   },
   "file_extension": ".py",
   "mimetype": "text/x-python",
   "name": "python",
   "nbconvert_exporter": "python",
   "pygments_lexer": "ipython3",
   "version": "3.7.0"
  },
  "vscode": {
   "interpreter": {
    "hash": "5a0b71172837420ef09fc066387a9e35f4f202d27408b79ef2ffa6f99ff5f570"
   }
  }
 },
 "nbformat": 4,
 "nbformat_minor": 5
}
