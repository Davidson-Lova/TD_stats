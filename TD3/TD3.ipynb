{
 "cells": [
  {
   "cell_type": "markdown",
   "metadata": {},
   "source": [
    "# TD 3 | Étude de la marge EGT d'un turboréacteur\n",
    "\n",
    "---\n",
    "\n",
    "Objectifs du TD :\n",
    "\n",
    "* pratiquer sur un premier use case concret d'analyse de données de moteurs d'avion\n",
    "* fonctions glissantes pandas (_rolling_)\n",
    "* régression linéaire\n",
    "\n",
    "---"
   ]
  },
  {
   "cell_type": "markdown",
   "metadata": {},
   "source": [
    "La table fournie contient les données moteurs disposant de l'information \"marge EGT\" (egthdm) issue\n",
    "des rapports ACARS. Il s'agit donc uniquement de rapports extraits au décollage (TAKEOFF). On a\n",
    "récupéré l'ensemble des rapports des moteurs livrés depuis avril 2016."
   ]
  },
  {
   "cell_type": "markdown",
   "metadata": {},
   "source": [
    "## 1. Chargement et nettoyage des données\n",
    "\n",
    "#### 1.1. Chargez les données ACARS à l'aide de la méthode pandas `read_excel`. Explorez les propriétés générales du jeu de données.\n",
    "\n",
    "Fichier de données : `./data/accars_b.xlsx`."
   ]
  },
  {
   "cell_type": "code",
   "execution_count": 8,
   "metadata": {},
   "outputs": [],
   "source": [
    "# !git clone https://github.com/MadaneA/MACS3-Statistiques-Descriptives-TDs.git"
   ]
  },
  {
   "cell_type": "code",
   "execution_count": 9,
   "metadata": {},
   "outputs": [
    {
     "data": {
      "text/plain": [
       "'/home/davidson/Documents/ING_MACS/MACS3_M2/courses/macs/Stat_descriptives/TD_stats'"
      ]
     },
     "execution_count": 9,
     "metadata": {},
     "output_type": "execute_result"
    }
   ],
   "source": [
    "import os\n",
    "os.getcwd()"
   ]
  },
  {
   "cell_type": "code",
   "execution_count": 10,
   "metadata": {},
   "outputs": [],
   "source": [
    "import os\n",
    "os.chdir('/home/davidson/Documents/ING_MACS/MACS3_M2/courses/macs/Stat_descriptives/TD_stats')"
   ]
  },
  {
   "cell_type": "code",
   "execution_count": 11,
   "metadata": {},
   "outputs": [],
   "source": [
    "import pandas as pd\n",
    "import numpy as np\n",
    "import seaborn as sns\n",
    "import matplotlib.pyplot as plt"
   ]
  },
  {
   "cell_type": "code",
   "execution_count": 12,
   "metadata": {},
   "outputs": [],
   "source": [
    "data_accars = pd.read_excel('./data/accars_b.xlsx')"
   ]
  },
  {
   "cell_type": "code",
   "execution_count": 13,
   "metadata": {},
   "outputs": [
    {
     "data": {
      "text/html": [
       "<div>\n",
       "<style scoped>\n",
       "    .dataframe tbody tr th:only-of-type {\n",
       "        vertical-align: middle;\n",
       "    }\n",
       "\n",
       "    .dataframe tbody tr th {\n",
       "        vertical-align: top;\n",
       "    }\n",
       "\n",
       "    .dataframe thead th {\n",
       "        text-align: right;\n",
       "    }\n",
       "</style>\n",
       "<table border=\"1\" class=\"dataframe\">\n",
       "  <thead>\n",
       "    <tr style=\"text-align: right;\">\n",
       "      <th></th>\n",
       "      <th>flight_phase</th>\n",
       "      <th>engine_number</th>\n",
       "      <th>engine_type</th>\n",
       "      <th>aircraft_number</th>\n",
       "      <th>engine_position</th>\n",
       "      <th>airline_classif_environment</th>\n",
       "      <th>brat</th>\n",
       "      <th>cas</th>\n",
       "      <th>cycles</th>\n",
       "      <th>delfn</th>\n",
       "      <th>...</th>\n",
       "      <th>ztoil</th>\n",
       "      <th>zvb1f</th>\n",
       "      <th>zvb1r</th>\n",
       "      <th>zvb2f</th>\n",
       "      <th>zvb2r</th>\n",
       "      <th>zvsv</th>\n",
       "      <th>zwbp1</th>\n",
       "      <th>zwbp2</th>\n",
       "      <th>zwf36</th>\n",
       "      <th>zxm</th>\n",
       "    </tr>\n",
       "  </thead>\n",
       "  <tbody>\n",
       "    <tr>\n",
       "      <th>0</th>\n",
       "      <td>CLIMB</td>\n",
       "      <td>186</td>\n",
       "      <td>10</td>\n",
       "      <td>192</td>\n",
       "      <td>1</td>\n",
       "      <td>Neutral</td>\n",
       "      <td>1.0</td>\n",
       "      <td>151.0</td>\n",
       "      <td>6.0</td>\n",
       "      <td>-0.1146</td>\n",
       "      <td>...</td>\n",
       "      <td>88.0</td>\n",
       "      <td>0.57</td>\n",
       "      <td>0.73</td>\n",
       "      <td>0.12</td>\n",
       "      <td>0.13</td>\n",
       "      <td>8.9</td>\n",
       "      <td>5.0</td>\n",
       "      <td>5.0</td>\n",
       "      <td>5335.0</td>\n",
       "      <td>0.637</td>\n",
       "    </tr>\n",
       "    <tr>\n",
       "      <th>1</th>\n",
       "      <td>CLIMB</td>\n",
       "      <td>186</td>\n",
       "      <td>10</td>\n",
       "      <td>192</td>\n",
       "      <td>1</td>\n",
       "      <td>Neutral</td>\n",
       "      <td>1.0</td>\n",
       "      <td>143.0</td>\n",
       "      <td>7.0</td>\n",
       "      <td>-0.2464</td>\n",
       "      <td>...</td>\n",
       "      <td>90.8</td>\n",
       "      <td>0.58</td>\n",
       "      <td>0.76</td>\n",
       "      <td>0.15</td>\n",
       "      <td>0.10</td>\n",
       "      <td>9.0</td>\n",
       "      <td>5.6</td>\n",
       "      <td>5.6</td>\n",
       "      <td>4987.0</td>\n",
       "      <td>0.624</td>\n",
       "    </tr>\n",
       "    <tr>\n",
       "      <th>2</th>\n",
       "      <td>CLIMB</td>\n",
       "      <td>186</td>\n",
       "      <td>10</td>\n",
       "      <td>192</td>\n",
       "      <td>1</td>\n",
       "      <td>Neutral</td>\n",
       "      <td>1.0</td>\n",
       "      <td>163.0</td>\n",
       "      <td>8.0</td>\n",
       "      <td>NaN</td>\n",
       "      <td>...</td>\n",
       "      <td>89.0</td>\n",
       "      <td>0.28</td>\n",
       "      <td>0.48</td>\n",
       "      <td>0.16</td>\n",
       "      <td>0.05</td>\n",
       "      <td>10.1</td>\n",
       "      <td>5.0</td>\n",
       "      <td>5.2</td>\n",
       "      <td>4251.0</td>\n",
       "      <td>0.530</td>\n",
       "    </tr>\n",
       "    <tr>\n",
       "      <th>3</th>\n",
       "      <td>CLIMB</td>\n",
       "      <td>186</td>\n",
       "      <td>10</td>\n",
       "      <td>192</td>\n",
       "      <td>1</td>\n",
       "      <td>Neutral</td>\n",
       "      <td>1.0</td>\n",
       "      <td>152.0</td>\n",
       "      <td>9.0</td>\n",
       "      <td>NaN</td>\n",
       "      <td>...</td>\n",
       "      <td>87.0</td>\n",
       "      <td>0.44</td>\n",
       "      <td>0.67</td>\n",
       "      <td>0.14</td>\n",
       "      <td>0.08</td>\n",
       "      <td>8.9</td>\n",
       "      <td>5.6</td>\n",
       "      <td>5.6</td>\n",
       "      <td>5356.0</td>\n",
       "      <td>0.380</td>\n",
       "    </tr>\n",
       "    <tr>\n",
       "      <th>4</th>\n",
       "      <td>CLIMB</td>\n",
       "      <td>186</td>\n",
       "      <td>10</td>\n",
       "      <td>192</td>\n",
       "      <td>1</td>\n",
       "      <td>Neutral</td>\n",
       "      <td>1.0</td>\n",
       "      <td>154.0</td>\n",
       "      <td>10.0</td>\n",
       "      <td>NaN</td>\n",
       "      <td>...</td>\n",
       "      <td>85.3</td>\n",
       "      <td>0.26</td>\n",
       "      <td>0.48</td>\n",
       "      <td>0.25</td>\n",
       "      <td>0.06</td>\n",
       "      <td>10.5</td>\n",
       "      <td>5.6</td>\n",
       "      <td>5.6</td>\n",
       "      <td>NaN</td>\n",
       "      <td>0.543</td>\n",
       "    </tr>\n",
       "  </tbody>\n",
       "</table>\n",
       "<p>5 rows × 50 columns</p>\n",
       "</div>"
      ],
      "text/plain": [
       "  flight_phase  engine_number  engine_type  aircraft_number  engine_position  \\\n",
       "0        CLIMB            186           10              192                1   \n",
       "1        CLIMB            186           10              192                1   \n",
       "2        CLIMB            186           10              192                1   \n",
       "3        CLIMB            186           10              192                1   \n",
       "4        CLIMB            186           10              192                1   \n",
       "\n",
       "  airline_classif_environment  brat    cas  cycles   delfn  ...    ztoil  \\\n",
       "0                     Neutral   1.0  151.0     6.0 -0.1146  ...     88.0   \n",
       "1                     Neutral   1.0  143.0     7.0 -0.2464  ...     90.8   \n",
       "2                     Neutral   1.0  163.0     8.0     NaN  ...     89.0   \n",
       "3                     Neutral   1.0  152.0     9.0     NaN  ...     87.0   \n",
       "4                     Neutral   1.0  154.0    10.0     NaN  ...     85.3   \n",
       "\n",
       "   zvb1f  zvb1r  zvb2f  zvb2r  zvsv  zwbp1  zwbp2   zwf36    zxm  \n",
       "0   0.57   0.73   0.12   0.13   8.9    5.0    5.0  5335.0  0.637  \n",
       "1   0.58   0.76   0.15   0.10   9.0    5.6    5.6  4987.0  0.624  \n",
       "2   0.28   0.48   0.16   0.05  10.1    5.0    5.2  4251.0  0.530  \n",
       "3   0.44   0.67   0.14   0.08   8.9    5.6    5.6  5356.0  0.380  \n",
       "4   0.26   0.48   0.25   0.06  10.5    5.6    5.6     NaN  0.543  \n",
       "\n",
       "[5 rows x 50 columns]"
      ]
     },
     "execution_count": 13,
     "metadata": {},
     "output_type": "execute_result"
    }
   ],
   "source": [
    "data_accars.head()"
   ]
  },
  {
   "cell_type": "markdown",
   "metadata": {},
   "source": [
    "#### 1.2. Y a-t-il des valeurs manquantes ? Si oui, décrivez leur répartition et affichez le nombre de valeurs manquantes par colonne sous forme d'un bar plot."
   ]
  },
  {
   "cell_type": "markdown",
   "metadata": {},
   "source": [
    "Oui, il a des valeurs manquantes"
   ]
  },
  {
   "cell_type": "code",
   "execution_count": 14,
   "metadata": {},
   "outputs": [
    {
     "data": {
      "image/png": "[encoded data removed]",
      "text/plain": [
       "<Figure size 2160x360 with 1 Axes>"
      ]
     },
     "metadata": {
      "needs_background": "light"
     },
     "output_type": "display_data"
    }
   ],
   "source": [
    "isna_accars = data_accars.isna()\n",
    "nb_insa_col = ((np.array(isna_accars.sum()))/data_accars.shape[0])*100\n",
    "plt.figure(figsize=(30,5))\n",
    "plt.bar(x = data_accars.columns, height = nb_insa_col)\n",
    "plt.title(\"repatition des valeurs en fonctions de colonnes\")\n",
    "plt.xlabel(\"Numero de colonnes\")\n",
    "plt.ylabel(\"Pourcentage de valeur manquante\")\n",
    "plt.show()"
   ]
  },
  {
   "cell_type": "markdown",
   "metadata": {},
   "source": [
    "#### 1.3. Ne gardez que les lignes où le nombre de cycles (variable `cycles`) et la marge EGT (variable `egthdm`) sont présentes."
   ]
  },
  {
   "cell_type": "code",
   "execution_count": 15,
   "metadata": {},
   "outputs": [],
   "source": [
    "data_accars_clc = data_accars[isna_accars[\"cycles\"].isin([False])]\n",
    "isna_accars_clc = data_accars_clc.isna()\n",
    "data_accars_clean = data_accars_clc[isna_accars_clc[\"egthdm\"].isin([False])]"
   ]
  },
  {
   "cell_type": "code",
   "execution_count": 16,
   "metadata": {},
   "outputs": [
    {
     "name": "stdout",
     "output_type": "stream",
     "text": [
      "le nombre de valeurs manquantes dans la colonne cycles : 0\n",
      "le nombre de valeurs manquantes dans la colonne egthdm : 0\n"
     ]
    }
   ],
   "source": [
    "print(\"le nombre de valeurs manquantes dans la colonne cycles : {}\".format(data_accars_clean.isna().sum()[\"cycles\"]))\n",
    "print(\"le nombre de valeurs manquantes dans la colonne egthdm : {}\".format(data_accars_clean.isna().sum()[\"egthdm\"]))"
   ]
  },
  {
   "cell_type": "markdown",
   "metadata": {},
   "source": [
    "#### 1.4. Affichez les différents types de moteurs (indice : utilisez la méthode `unique()`)."
   ]
  },
  {
   "cell_type": "code",
   "execution_count": 17,
   "metadata": {},
   "outputs": [
    {
     "name": "stdout",
     "output_type": "stream",
     "text": [
      "Les types de moteurs : [ 5  7 10]\n"
     ]
    }
   ],
   "source": [
    "print(\"Les types de moteurs : {}\".format(np.unique(data_accars_clean['engine_type'])))"
   ]
  },
  {
   "cell_type": "code",
   "execution_count": 18,
   "metadata": {},
   "outputs": [
    {
     "data": {
      "text/plain": [
       "(15374, 50)"
      ]
     },
     "execution_count": 18,
     "metadata": {},
     "output_type": "execute_result"
    }
   ],
   "source": [
    "data_accars_clean.shape"
   ]
  },
  {
   "cell_type": "markdown",
   "metadata": {},
   "source": [
    "#### 1.5. Sélectionnez uniquement les moteurs de type 10. Combien y a-t-il d'avions distincts ? Combien de vols par avion ? (attention : il y a 2 moteurs sur un avion)"
   ]
  },
  {
   "cell_type": "code",
   "execution_count": 19,
   "metadata": {},
   "outputs": [
    {
     "data": {
      "text/html": [
       "<div>\n",
       "<style scoped>\n",
       "    .dataframe tbody tr th:only-of-type {\n",
       "        vertical-align: middle;\n",
       "    }\n",
       "\n",
       "    .dataframe tbody tr th {\n",
       "        vertical-align: top;\n",
       "    }\n",
       "\n",
       "    .dataframe thead th {\n",
       "        text-align: right;\n",
       "    }\n",
       "</style>\n",
       "<table border=\"1\" class=\"dataframe\">\n",
       "  <thead>\n",
       "    <tr style=\"text-align: right;\">\n",
       "      <th></th>\n",
       "      <th>flight_phase</th>\n",
       "      <th>engine_number</th>\n",
       "      <th>engine_type</th>\n",
       "      <th>aircraft_number</th>\n",
       "      <th>engine_position</th>\n",
       "      <th>airline_classif_environment</th>\n",
       "      <th>brat</th>\n",
       "      <th>cas</th>\n",
       "      <th>cycles</th>\n",
       "      <th>delfn</th>\n",
       "      <th>...</th>\n",
       "      <th>ztoil</th>\n",
       "      <th>zvb1f</th>\n",
       "      <th>zvb1r</th>\n",
       "      <th>zvb2f</th>\n",
       "      <th>zvb2r</th>\n",
       "      <th>zvsv</th>\n",
       "      <th>zwbp1</th>\n",
       "      <th>zwbp2</th>\n",
       "      <th>zwf36</th>\n",
       "      <th>zxm</th>\n",
       "    </tr>\n",
       "  </thead>\n",
       "  <tbody>\n",
       "    <tr>\n",
       "      <th>104</th>\n",
       "      <td>TAKEOFF</td>\n",
       "      <td>186</td>\n",
       "      <td>10</td>\n",
       "      <td>192</td>\n",
       "      <td>1</td>\n",
       "      <td>Neutral</td>\n",
       "      <td>0.0</td>\n",
       "      <td>88.0</td>\n",
       "      <td>5.0</td>\n",
       "      <td>23.8191</td>\n",
       "      <td>...</td>\n",
       "      <td>84.3</td>\n",
       "      <td>0.39</td>\n",
       "      <td>0.58</td>\n",
       "      <td>0.05</td>\n",
       "      <td>0.15</td>\n",
       "      <td>12.3</td>\n",
       "      <td>0.2</td>\n",
       "      <td>0.0</td>\n",
       "      <td>NaN</td>\n",
       "      <td>0.133</td>\n",
       "    </tr>\n",
       "    <tr>\n",
       "      <th>105</th>\n",
       "      <td>TAKEOFF</td>\n",
       "      <td>186</td>\n",
       "      <td>10</td>\n",
       "      <td>192</td>\n",
       "      <td>1</td>\n",
       "      <td>Neutral</td>\n",
       "      <td>0.0</td>\n",
       "      <td>93.0</td>\n",
       "      <td>6.0</td>\n",
       "      <td>25.4038</td>\n",
       "      <td>...</td>\n",
       "      <td>95.1</td>\n",
       "      <td>0.24</td>\n",
       "      <td>0.69</td>\n",
       "      <td>0.16</td>\n",
       "      <td>0.10</td>\n",
       "      <td>11.1</td>\n",
       "      <td>0.2</td>\n",
       "      <td>0.0</td>\n",
       "      <td>NaN</td>\n",
       "      <td>0.148</td>\n",
       "    </tr>\n",
       "    <tr>\n",
       "      <th>106</th>\n",
       "      <td>TAKEOFF</td>\n",
       "      <td>186</td>\n",
       "      <td>10</td>\n",
       "      <td>192</td>\n",
       "      <td>1</td>\n",
       "      <td>Neutral</td>\n",
       "      <td>0.0</td>\n",
       "      <td>92.0</td>\n",
       "      <td>7.0</td>\n",
       "      <td>22.7509</td>\n",
       "      <td>...</td>\n",
       "      <td>81.6</td>\n",
       "      <td>0.23</td>\n",
       "      <td>0.46</td>\n",
       "      <td>0.13</td>\n",
       "      <td>0.11</td>\n",
       "      <td>12.1</td>\n",
       "      <td>0.3</td>\n",
       "      <td>0.0</td>\n",
       "      <td>NaN</td>\n",
       "      <td>0.140</td>\n",
       "    </tr>\n",
       "    <tr>\n",
       "      <th>107</th>\n",
       "      <td>TAKEOFF</td>\n",
       "      <td>186</td>\n",
       "      <td>10</td>\n",
       "      <td>192</td>\n",
       "      <td>1</td>\n",
       "      <td>Neutral</td>\n",
       "      <td>0.0</td>\n",
       "      <td>87.0</td>\n",
       "      <td>8.0</td>\n",
       "      <td>22.1533</td>\n",
       "      <td>...</td>\n",
       "      <td>87.8</td>\n",
       "      <td>0.59</td>\n",
       "      <td>0.80</td>\n",
       "      <td>0.12</td>\n",
       "      <td>0.13</td>\n",
       "      <td>11.1</td>\n",
       "      <td>0.2</td>\n",
       "      <td>0.0</td>\n",
       "      <td>NaN</td>\n",
       "      <td>0.140</td>\n",
       "    </tr>\n",
       "    <tr>\n",
       "      <th>108</th>\n",
       "      <td>TAKEOFF</td>\n",
       "      <td>186</td>\n",
       "      <td>10</td>\n",
       "      <td>192</td>\n",
       "      <td>1</td>\n",
       "      <td>Neutral</td>\n",
       "      <td>0.0</td>\n",
       "      <td>88.0</td>\n",
       "      <td>9.0</td>\n",
       "      <td>23.8673</td>\n",
       "      <td>...</td>\n",
       "      <td>79.3</td>\n",
       "      <td>0.43</td>\n",
       "      <td>0.47</td>\n",
       "      <td>0.13</td>\n",
       "      <td>0.17</td>\n",
       "      <td>12.5</td>\n",
       "      <td>0.3</td>\n",
       "      <td>0.0</td>\n",
       "      <td>NaN</td>\n",
       "      <td>0.136</td>\n",
       "    </tr>\n",
       "  </tbody>\n",
       "</table>\n",
       "<p>5 rows × 50 columns</p>\n",
       "</div>"
      ],
      "text/plain": [
       "    flight_phase  engine_number  engine_type  aircraft_number  \\\n",
       "104      TAKEOFF            186           10              192   \n",
       "105      TAKEOFF            186           10              192   \n",
       "106      TAKEOFF            186           10              192   \n",
       "107      TAKEOFF            186           10              192   \n",
       "108      TAKEOFF            186           10              192   \n",
       "\n",
       "     engine_position airline_classif_environment  brat   cas  cycles    delfn  \\\n",
       "104                1                     Neutral   0.0  88.0     5.0  23.8191   \n",
       "105                1                     Neutral   0.0  93.0     6.0  25.4038   \n",
       "106                1                     Neutral   0.0  92.0     7.0  22.7509   \n",
       "107                1                     Neutral   0.0  87.0     8.0  22.1533   \n",
       "108                1                     Neutral   0.0  88.0     9.0  23.8673   \n",
       "\n",
       "     ...    ztoil  zvb1f  zvb1r  zvb2f  zvb2r  zvsv  zwbp1  zwbp2  zwf36  \\\n",
       "104  ...     84.3   0.39   0.58   0.05   0.15  12.3    0.2    0.0    NaN   \n",
       "105  ...     95.1   0.24   0.69   0.16   0.10  11.1    0.2    0.0    NaN   \n",
       "106  ...     81.6   0.23   0.46   0.13   0.11  12.1    0.3    0.0    NaN   \n",
       "107  ...     87.8   0.59   0.80   0.12   0.13  11.1    0.2    0.0    NaN   \n",
       "108  ...     79.3   0.43   0.47   0.13   0.17  12.5    0.3    0.0    NaN   \n",
       "\n",
       "       zxm  \n",
       "104  0.133  \n",
       "105  0.148  \n",
       "106  0.140  \n",
       "107  0.140  \n",
       "108  0.136  \n",
       "\n",
       "[5 rows x 50 columns]"
      ]
     },
     "execution_count": 19,
     "metadata": {},
     "output_type": "execute_result"
    }
   ],
   "source": [
    "by_egn_type = data_accars_clean[data_accars_clean[\"engine_type\"].isin([10])] \n",
    "by_egn_type.head()"
   ]
  },
  {
   "cell_type": "code",
   "execution_count": 20,
   "metadata": {},
   "outputs": [
    {
     "data": {
      "text/plain": [
       "(712, 50)"
      ]
     },
     "execution_count": 20,
     "metadata": {},
     "output_type": "execute_result"
    }
   ],
   "source": [
    "by_egn_type.shape"
   ]
  },
  {
   "cell_type": "code",
   "execution_count": 21,
   "metadata": {},
   "outputs": [
    {
     "name": "stdout",
     "output_type": "stream",
     "text": [
      "le nombre de moteur sur un avion est : 2\n",
      "le nombre d'avion distinct est : 5\n"
     ]
    }
   ],
   "source": [
    "print(\"le nombre de moteur sur un avion est : {}\".format(len(np.unique(by_egn_type[\"engine_position\"]))))\n",
    "print(\"le nombre d'avion distinct est : {}\".format(len(np.unique(by_egn_type[\"aircraft_number\"]))))"
   ]
  },
  {
   "cell_type": "code",
   "execution_count": 22,
   "metadata": {},
   "outputs": [
    {
     "name": "stdout",
     "output_type": "stream",
     "text": [
      "['TAKEOFF']\n"
     ]
    }
   ],
   "source": [
    "print(np.unique(by_egn_type[\"flight_phase\"]))"
   ]
  },
  {
   "cell_type": "markdown",
   "metadata": {},
   "source": [
    "## 2. Étude de la marge EGT de l'avion 190\n",
    "\n",
    "#### 2.1. Récupérez les variables `engine_number`, nombre de cycles (`cycles`) et marge EGT (`egthdm`) pour l'avion identifié par le numéro 190."
   ]
  },
  {
   "cell_type": "code",
   "execution_count": 23,
   "metadata": {},
   "outputs": [
    {
     "name": "stdout",
     "output_type": "stream",
     "text": [
      "       engine_number  cycles   egthdm\n",
      "11398            179    98.0  52.0118\n",
      "11399            180    69.0  57.6415\n",
      "11400            180    75.0  48.7217\n",
      "11755            179     0.0  37.6572\n",
      "11756            179     1.0  37.2208\n",
      "11757            179     2.0  40.2041\n",
      "11758            179     3.0  42.7922\n",
      "11759            179     4.0  36.3530\n",
      "11760            179     5.0  45.0178\n",
      "11761            179     6.0  40.4202\n",
      "11762            179     7.0  40.3662\n",
      "11763            179     8.0  39.4115\n",
      "11764            179     9.0  40.9293\n",
      "11765            179    10.0  38.1179\n",
      "11766            179    11.0  37.3005\n",
      "11767            179    12.0  41.3393\n",
      "11768            179    13.0  42.0082\n",
      "11769            179    14.0  38.3837\n",
      "11770            179    16.0  48.0286\n",
      "11771            179    17.0  43.8046\n",
      "11772            179    18.0  45.1652\n",
      "11773            179    19.0  39.8786\n",
      "11774            179    20.0  40.6774\n",
      "11775            179    21.0  35.7196\n",
      "11776            179    28.0  37.1110\n",
      "11777            179    29.0  34.0886\n",
      "11778            179    30.0  39.7481\n",
      "11779            179    31.0  39.1693\n",
      "11780            180     0.0  46.3442\n",
      "11781            180     1.0  43.2150\n",
      "...              ...     ...      ...\n",
      "42206            180    36.0  56.9202\n",
      "42207            180    77.0  57.7366\n",
      "42208            180   101.0  45.2692\n",
      "42514            179    57.0  53.9720\n",
      "42515            179    89.0  48.2971\n",
      "42808            179   109.0  48.5079\n",
      "42809            180    35.0  52.4632\n",
      "43706            179    22.0  57.0891\n",
      "43707            180    30.0  58.4902\n",
      "44002            179    63.0  53.4069\n",
      "44003            180    61.0  57.1343\n",
      "44004            180    98.0  54.5543\n",
      "44315            179     4.0  55.1283\n",
      "44613            179    17.0  55.2605\n",
      "44614            180    46.0  53.6161\n",
      "44930            179    31.0  53.4997\n",
      "44931            179    76.0  49.2196\n",
      "45232            179    67.0  52.4285\n",
      "45233            180     6.0  60.8084\n",
      "45234            180    38.0  59.9147\n",
      "45522            179    36.0  52.6189\n",
      "45523            179    77.0  51.8369\n",
      "45524            180    15.0  58.3166\n",
      "45525            180    45.0  58.0780\n",
      "45808            179    35.0  49.2379\n",
      "45809            180    48.0  51.9444\n",
      "45810            180    58.0  59.0032\n",
      "46111            179   163.0  45.8711\n",
      "46411            179    30.0  56.5585\n",
      "46412            179   101.0  41.0874\n",
      "\n",
      "[220 rows x 3 columns]\n"
     ]
    }
   ],
   "source": [
    "row_ = data_accars_clean[data_accars_clean[\"aircraft_number\"].isin([190])].loc[:, [\"engine_number\",\"cycles\", \"egthdm\"]]\n",
    "print(row_)"
   ]
  },
  {
   "cell_type": "markdown",
   "metadata": {},
   "source": [
    "#### 2.2. Affichez la courbe de l'évolution de la marge EGT au cours du temps pour les deux moteurs de l'avion, sur deux graphes séparés et en prenant soin d'ajouter des légendes."
   ]
  },
  {
   "cell_type": "code",
   "execution_count": 24,
   "metadata": {},
   "outputs": [],
   "source": [
    "engines_num = np.unique(row_[\"engine_number\"])\n",
    "egn1 = row_[row_[\"engine_number\"].isin([engines_num[0]])]\n",
    "egn2 = row_[row_[\"engine_number\"].isin([engines_num[1]])]"
   ]
  },
  {
   "cell_type": "code",
   "execution_count": 25,
   "metadata": {},
   "outputs": [
    {
     "data": {
      "text/plain": [
       "[Text(0.5,0,'Time'),\n",
       " Text(0.5,1,'Evolution de la marge EGT au cours du temps pour le moteur 179')]"
      ]
     },
     "execution_count": 25,
     "metadata": {},
     "output_type": "execute_result"
    },
    {
     "data": {
      "image/png": "[encoded data removed]",
      "text/plain": [
       "<Figure size 432x288 with 1 Axes>"
      ]
     },
     "metadata": {
      "needs_background": "light"
     },
     "output_type": "display_data"
    }
   ],
   "source": [
    "sns.lineplot(data = egn1, x = range(len(egn1)), y = \"egthdm\").set( xlabel = \"Time\", title = \"Evolution de la marge EGT au cours du temps pour le moteur {}\".format(engines_num[0]))"
   ]
  },
  {
   "cell_type": "code",
   "execution_count": 26,
   "metadata": {},
   "outputs": [
    {
     "data": {
      "text/plain": [
       "[Text(0.5,0,'Time'),\n",
       " Text(0.5,1,'Evolution de la marge EGT au cours du temps pour le moteur 180')]"
      ]
     },
     "execution_count": 26,
     "metadata": {},
     "output_type": "execute_result"
    },
    {
     "data": {
      "image/png": "[encoded data removed]",
      "text/plain": [
       "<Figure size 432x288 with 1 Axes>"
      ]
     },
     "metadata": {
      "needs_background": "light"
     },
     "output_type": "display_data"
    }
   ],
   "source": [
    "sns.lineplot(data = egn1, x = range(len(egn2)), y = \"egthdm\").set( xlabel = \"Time\", title = \"Evolution de la marge EGT au cours du temps pour le moteur {}\".format(engines_num[1]))"
   ]
  },
  {
   "cell_type": "markdown",
   "metadata": {},
   "source": [
    "#### 2.3. Pour la suite, on ne s'intéresse qu'au moteur 179. Quel est le nombre de vols manquant dans les données ?"
   ]
  },
  {
   "cell_type": "code",
   "execution_count": 27,
   "metadata": {},
   "outputs": [
    {
     "name": "stdout",
     "output_type": "stream",
     "text": [
      "      flight_phase  engine_number  engine_type  aircraft_number  \\\n",
      "11398      TAKEOFF            179           10              190   \n",
      "11755      TAKEOFF            179           10              190   \n",
      "11756      TAKEOFF            179           10              190   \n",
      "11757      TAKEOFF            179           10              190   \n",
      "11758      TAKEOFF            179           10              190   \n",
      "\n",
      "       engine_position airline_classif_environment  brat   cas  cycles  \\\n",
      "11398                1                     Neutral   0.0  88.0    98.0   \n",
      "11755                1                     Neutral   0.0  89.0     0.0   \n",
      "11756                1                     Neutral   0.0  85.0     1.0   \n",
      "11757                1                     Neutral   0.0  86.0     2.0   \n",
      "11758                1                     Neutral   0.0  85.0     3.0   \n",
      "\n",
      "         delfn  ...    ztoil  zvb1f  zvb1r  zvb2f  zvb2r  zvsv  zwbp1  zwbp2  \\\n",
      "11398  24.9038  ...     95.1   0.04   0.41   0.25   0.21  11.5    0.0    0.0   \n",
      "11755  23.8403  ...     82.5   0.09   0.20   0.23   0.42  12.2    0.2    0.2   \n",
      "11756  24.2280  ...     84.5   0.15   0.15   0.15   0.16  12.5    0.2    0.0   \n",
      "11757  23.6616  ...     92.6   0.14   0.24   0.18   0.20  12.5    0.2    0.0   \n",
      "11758  22.6495  ...     93.1   0.03   0.53   0.29   0.25  12.1    0.2    0.0   \n",
      "\n",
      "       zwf36    zxm  \n",
      "11398    NaN  0.143  \n",
      "11755    NaN  0.137  \n",
      "11756    NaN  0.128  \n",
      "11757    NaN  0.132  \n",
      "11758    NaN  0.130  \n",
      "\n",
      "[5 rows x 50 columns]\n"
     ]
    }
   ],
   "source": [
    "eng179 = data_accars_clean[data_accars_clean[\"engine_number\"].isin([179])]\n",
    "print(eng179.head())"
   ]
  },
  {
   "cell_type": "code",
   "execution_count": 28,
   "metadata": {},
   "outputs": [
    {
     "name": "stdout",
     "output_type": "stream",
     "text": [
      "Nb row : 110, Nb col : 50\n"
     ]
    }
   ],
   "source": [
    "dim_eng179 = eng179.shape\n",
    "print(\"Nb row : {}, Nb col : {}\".format(dim_eng179[0], dim_eng179[1]))"
   ]
  },
  {
   "cell_type": "code",
   "execution_count": 29,
   "metadata": {},
   "outputs": [
    {
     "data": {
      "text/html": [
       "<div>\n",
       "<style scoped>\n",
       "    .dataframe tbody tr th:only-of-type {\n",
       "        vertical-align: middle;\n",
       "    }\n",
       "\n",
       "    .dataframe tbody tr th {\n",
       "        vertical-align: top;\n",
       "    }\n",
       "\n",
       "    .dataframe thead th {\n",
       "        text-align: right;\n",
       "    }\n",
       "</style>\n",
       "<table border=\"1\" class=\"dataframe\">\n",
       "  <thead>\n",
       "    <tr style=\"text-align: right;\">\n",
       "      <th></th>\n",
       "      <th>Val</th>\n",
       "    </tr>\n",
       "  </thead>\n",
       "  <tbody>\n",
       "    <tr>\n",
       "      <th>tsih</th>\n",
       "      <td>100.000000</td>\n",
       "    </tr>\n",
       "    <tr>\n",
       "      <th>vbvpos</th>\n",
       "      <td>100.000000</td>\n",
       "    </tr>\n",
       "    <tr>\n",
       "      <th>wbe</th>\n",
       "      <td>100.000000</td>\n",
       "    </tr>\n",
       "    <tr>\n",
       "      <th>zphsr</th>\n",
       "      <td>100.000000</td>\n",
       "    </tr>\n",
       "    <tr>\n",
       "      <th>zwf36</th>\n",
       "      <td>97.272727</td>\n",
       "    </tr>\n",
       "  </tbody>\n",
       "</table>\n",
       "</div>"
      ],
      "text/plain": [
       "               Val\n",
       "tsih    100.000000\n",
       "vbvpos  100.000000\n",
       "wbe     100.000000\n",
       "zphsr   100.000000\n",
       "zwf36    97.272727"
      ]
     },
     "execution_count": 29,
     "metadata": {},
     "output_type": "execute_result"
    }
   ],
   "source": [
    "nbna_eng179 = pd.DataFrame(data = eng179.isna().sum().apply(lambda x : (x/ dim_eng179[0])*100), columns = [\"Val\"])\n",
    "nbna_eng179[nbna_eng179['Val']>0]"
   ]
  },
  {
   "cell_type": "code",
   "execution_count": 30,
   "metadata": {},
   "outputs": [
    {
     "name": "stdout",
     "output_type": "stream",
     "text": [
      "Les numéros de cycles pour le moteur 179 de type 10 pour l'avion 190: [  0.   1.   2.   3.   4.   5.   6.   7.   8.   9.  10.  11.  12.  13.\n",
      "  14.  15.  16.  17.  18.  19.  20.  21.  22.  23.  24.  25.  28.  29.\n",
      "  30.  31.  32.  33.  35.  36.  37.  38.  39.  40.  41.  42.  43.  45.\n",
      "  46.  47.  48.  49.  51.  52.  53.  55.  56.  57.  58.  59.  60.  61.\n",
      "  62.  63.  64.  65.  66.  67.  69.  75.  76.  77.  78.  79.  80.  81.\n",
      "  82.  83.  85.  86.  88.  89.  95.  96.  97.  98.  99. 100. 101. 102.\n",
      " 103. 105. 106. 107. 109. 114. 163.]\n",
      "Le nombre de cycles manquantes : 72.0\n"
     ]
    }
   ],
   "source": [
    "print(\"Les numéros de cycles pour le moteur 179 de type 10 pour l'avion 190: {}\".format(np.unique(eng179.loc[:, \"cycles\"])))\n",
    "print(\"Le nombre de cycles manquantes : {}\".format(max(np.unique(eng179.loc[:, \"cycles\"])) - len(np.unique(eng179.loc[:, \"cycles\"]))))"
   ]
  },
  {
   "cell_type": "markdown",
   "metadata": {},
   "source": [
    "#### 2.4. Nettoyage de la marge EGT\n",
    "\n",
    "On constate que sur un même cycle, il peut y avoir 2 valeurs de la variable `egthdm` mesurées. On ne souhaite garder que la plus grande des deux, et avoir une seule ligne par cycle, afin que l'on puisse utiliser le nombre de cycles comme index. Enfin, on veut compléter l'index pour les vols manquants, en remplissant les lignes par `NaN`. Pour cela, effectuez l'exercice suivant:\n",
    "\n",
    "1. Utilisez une aggrégation pour obtenir la plus grande valeur à chaque cycle et stockez le résultat dans une Series pandas appelée 'egt'.\n",
    "2. Ré-indexez le DataFrame pour avoir une ligne pour tout nombre de cycles (indice : passez par la méthode reindex)."
   ]
  },
  {
   "cell_type": "code",
   "execution_count": 31,
   "metadata": {},
   "outputs": [
    {
     "data": {
      "text/plain": [
       "array([37.6572, 59.1796, 56.8104, 55.2263, 55.1283, 55.8223, 58.2392,\n",
       "       59.1825, 51.9821, 54.8652, 55.9666, 37.3005, 41.3393, 52.6525,\n",
       "       38.3837, 53.8463, 58.6072, 55.2605, 54.3729, 39.8786, 53.6643,\n",
       "       52.0502, 57.0891, 55.2475, 53.1277, 55.1573, 37.111 , 53.136 ,\n",
       "       56.5585, 53.4997, 37.208 , 52.1124, 49.2379, 52.6189, 53.0653,\n",
       "       54.3706, 53.971 , 47.7868, 52.7705, 49.0169, 57.921 , 53.9663,\n",
       "       50.1553, 51.5966, 47.1519, 58.2208, 53.7566, 41.8484, 51.9282,\n",
       "       55.1813, 55.2788, 53.972 , 53.1897, 52.4616, 47.209 , 53.6384,\n",
       "       52.1189, 53.4069, 47.4024, 54.3642, 47.1774, 52.4285, 54.0566,\n",
       "       42.1785, 49.2196, 51.8369, 48.7922, 50.5765, 53.0877, 46.4414,\n",
       "       48.3512, 45.4722, 46.8141, 51.5865, 52.6245, 48.2971, 52.4962,\n",
       "       52.651 , 43.1041, 52.0118, 49.5082, 45.2487, 41.0874, 45.2393,\n",
       "       47.1277, 46.3833, 51.6519, 49.3682, 48.5079, 49.2813, 45.8711])"
      ]
     },
     "execution_count": 31,
     "metadata": {},
     "output_type": "execute_result"
    }
   ],
   "source": [
    "egt = eng179.groupby(by = [\"cycles\"]).max().loc[:,\"egthdm\"]\n",
    "np.asarray(egt)"
   ]
  },
  {
   "cell_type": "code",
   "execution_count": 32,
   "metadata": {},
   "outputs": [
    {
     "data": {
      "text/plain": [
       "array([37.6572, 59.1796, 56.8104, 55.2263, 55.1283, 55.8223, 58.2392,\n",
       "       59.1825, 51.9821, 54.8652, 55.9666, 37.3005, 41.3393, 52.6525,\n",
       "       38.3837, 53.8463, 58.6072, 55.2605, 54.3729, 39.8786, 53.6643,\n",
       "       52.0502, 57.0891, 55.2475, 53.1277, 55.1573,     nan,     nan,\n",
       "       37.111 , 53.136 , 56.5585, 53.4997, 37.208 , 52.1124,     nan,\n",
       "       49.2379, 52.6189, 53.0653, 54.3706, 53.971 , 47.7868, 52.7705,\n",
       "       49.0169, 57.921 ,     nan, 53.9663, 50.1553, 51.5966, 47.1519,\n",
       "       58.2208,     nan, 53.7566, 41.8484, 51.9282,     nan, 55.1813,\n",
       "       55.2788, 53.972 , 53.1897, 52.4616, 47.209 , 53.6384, 52.1189,\n",
       "       53.4069, 47.4024, 54.3642, 47.1774, 52.4285,     nan, 54.0566,\n",
       "           nan,     nan,     nan,     nan,     nan, 42.1785, 49.2196,\n",
       "       51.8369, 48.7922, 50.5765, 53.0877, 46.4414, 48.3512, 45.4722,\n",
       "           nan, 46.8141, 51.5865,     nan, 52.6245, 48.2971,     nan,\n",
       "           nan,     nan,     nan,     nan, 52.4962, 52.651 , 43.1041,\n",
       "       52.0118, 49.5082, 45.2487, 41.0874, 45.2393, 47.1277,     nan,\n",
       "       46.3833, 51.6519, 49.3682,     nan, 48.5079,     nan,     nan,\n",
       "           nan,     nan, 49.2813,     nan,     nan,     nan,     nan,\n",
       "           nan,     nan,     nan,     nan,     nan,     nan,     nan,\n",
       "           nan,     nan,     nan,     nan,     nan,     nan,     nan,\n",
       "           nan,     nan,     nan,     nan,     nan,     nan,     nan,\n",
       "           nan,     nan,     nan,     nan,     nan,     nan,     nan,\n",
       "           nan,     nan,     nan,     nan,     nan,     nan,     nan,\n",
       "           nan,     nan,     nan,     nan,     nan,     nan,     nan,\n",
       "           nan,     nan])"
      ]
     },
     "execution_count": 32,
     "metadata": {},
     "output_type": "execute_result"
    }
   ],
   "source": [
    "egt = egt.reindex(range(int(max(np.unique(eng179.loc[:, \"cycles\"])))))\n",
    "np.asarray(egt)"
   ]
  },
  {
   "cell_type": "markdown",
   "metadata": {},
   "source": [
    "#### 2.5. On souhaite lisser les valeurs et se débarasser des outliers à l'aide d'une médiane glissante sur 15 cycles. Affichez sur un même graphe la marge EGT brute (points) et la marge lissée (ligne).\n",
    "http://pandas.pydata.org/pandas-docs/stable/generated/pandas.Series.rolling.html#pandas.Series.rolling\n",
    "\n",
    "Utilisez une fenêtre glissante de taille 15 cycles, avec un minimum de 3 observations non-nulles par fenêtre (paramètre `min_periods`)."
   ]
  },
  {
   "cell_type": "code",
   "execution_count": 33,
   "metadata": {},
   "outputs": [
    {
     "data": {
      "text/plain": [
       "array([     nan,      nan, 56.8104 , 56.01835, 55.2263 , 55.5243 ,\n",
       "       55.8223 , 56.31635, 55.8223 , 55.5243 , 55.8223 , 55.5243 ,\n",
       "       55.2263 , 55.1773 , 55.1283 , 55.1283 , 55.1283 , 55.1283 ,\n",
       "       54.8652 , 54.3729 , 53.8463 , 53.6643 , 53.6643 , 53.8463 ,\n",
       "       53.6643 , 53.6643 , 53.7553 , 53.8463 , 53.8463 , 53.8463 ,\n",
       "       54.3729 , 53.6643 , 53.4997 , 53.136  , 53.31785, 53.13185,\n",
       "       53.13185, 53.0965 , 53.0965 , 53.10065, 52.8421 , 52.7705 ,\n",
       "       52.6947 , 52.9179 , 52.7705 , 52.7705 , 52.6189 , 52.6189 ,\n",
       "       52.6189 , 52.6947 , 52.7705 , 53.0653 , 52.7705 , 51.9282 ,\n",
       "       51.7624 , 52.34935, 52.8424 , 53.86145, 53.47315, 53.1897 ,\n",
       "       52.4616 , 53.1897 , 53.1897 , 53.4069 , 53.1897 , 53.2983 ,\n",
       "       52.82565, 52.82565, 53.1897 , 53.2983 , 53.1897 , 52.82565,\n",
       "       52.4616 , 52.44505, 52.4285 , 52.4285 , 52.1189 , 51.8369 ,\n",
       "       49.2196 , 50.5765 , 50.5765 , 50.5765 , 49.2196 , 49.0059 ,\n",
       "       48.7922 , 48.5717 , 48.7922 , 48.7922 , 49.0059 , 48.7922 ,\n",
       "       49.0059 , 48.7922 , 48.5717 , 48.3512 , 48.32415, 48.32415,\n",
       "       49.96885, 49.9418 , 51.79915, 51.5865 , 51.5865 , 49.5082 ,\n",
       "       48.90265, 47.7124 , 47.1277 , 46.7555 , 47.1277 , 48.24795,\n",
       "       48.24795, 48.5079 , 47.8178 , 47.1277 , 47.8178 , 47.1277 ,\n",
       "       47.1277 , 47.8178 , 48.5079 , 48.8946 , 49.2813 , 49.2813 ,\n",
       "       49.32475, 49.2813 ,      nan,      nan,      nan,      nan,\n",
       "            nan,      nan,      nan,      nan,      nan,      nan,\n",
       "            nan,      nan,      nan,      nan,      nan,      nan,\n",
       "            nan,      nan,      nan,      nan,      nan,      nan,\n",
       "            nan,      nan,      nan,      nan,      nan,      nan,\n",
       "            nan,      nan,      nan,      nan,      nan,      nan,\n",
       "            nan,      nan,      nan,      nan,      nan,      nan,\n",
       "            nan])"
      ]
     },
     "execution_count": 33,
     "metadata": {},
     "output_type": "execute_result"
    }
   ],
   "source": [
    "egt_lisse = egt.rolling(window = 15, min_periods= 3).median()\n",
    "np.asarray(egt_lisse)"
   ]
  },
  {
   "cell_type": "code",
   "execution_count": 34,
   "metadata": {},
   "outputs": [
    {
     "data": {
      "image/png": "[encoded data removed]",
      "text/plain": [
       "<Figure size 432x288 with 1 Axes>"
      ]
     },
     "metadata": {
      "needs_background": "light"
     },
     "output_type": "display_data"
    }
   ],
   "source": [
    "plt.figure()\n",
    "plt.plot(np.array(egt),label = \"EGT Brute\")\n",
    "plt.plot(np.array(egt_lisse), label = \"EGT Lissée\")\n",
    "plt.xlabel(\"cycles\")\n",
    "plt.ylabel(\"egthdm\")\n",
    "plt.title(\"Insert\")\n",
    "plt.legend()\n",
    "plt.show()"
   ]
  },
  {
   "cell_type": "markdown",
   "metadata": {},
   "source": [
    "#### 2.6. Nettoyage de la marge EGT lissée\n",
    "\n",
    "La marge EGT ne peut être que décroissante, sauf en cas de nettoyage moteur (waterwash) ou peut-être à cause d'éléments extérieurs, on va donc éviter de tenir compte des remontées de marge et ne prendre en considération que les points descendants. Cette estimation est pessimiste mais évite de prendre en compte ces facteurs extérieurs.\n",
    "\n",
    "1. Calculez une série ne contenant que les valeurs décroissantes de la amrge EGT lissée.\n",
    "2. Sur le graphique précédent, ajoutez ces points par-dessus la courbe."
   ]
  },
  {
   "cell_type": "code",
   "execution_count": 35,
   "metadata": {},
   "outputs": [
    {
     "data": {
      "text/html": [
       "<div>\n",
       "<style scoped>\n",
       "    .dataframe tbody tr th:only-of-type {\n",
       "        vertical-align: middle;\n",
       "    }\n",
       "\n",
       "    .dataframe tbody tr th {\n",
       "        vertical-align: top;\n",
       "    }\n",
       "\n",
       "    .dataframe thead th {\n",
       "        text-align: right;\n",
       "    }\n",
       "</style>\n",
       "<table border=\"1\" class=\"dataframe\">\n",
       "  <thead>\n",
       "    <tr style=\"text-align: right;\">\n",
       "      <th></th>\n",
       "      <th>val</th>\n",
       "    </tr>\n",
       "  </thead>\n",
       "  <tbody>\n",
       "    <tr>\n",
       "      <th>0</th>\n",
       "      <td>NaN</td>\n",
       "    </tr>\n",
       "    <tr>\n",
       "      <th>1</th>\n",
       "      <td>NaN</td>\n",
       "    </tr>\n",
       "    <tr>\n",
       "      <th>2</th>\n",
       "      <td>56.81040</td>\n",
       "    </tr>\n",
       "    <tr>\n",
       "      <th>3</th>\n",
       "      <td>56.01835</td>\n",
       "    </tr>\n",
       "    <tr>\n",
       "      <th>4</th>\n",
       "      <td>55.22630</td>\n",
       "    </tr>\n",
       "    <tr>\n",
       "      <th>5</th>\n",
       "      <td>NaN</td>\n",
       "    </tr>\n",
       "    <tr>\n",
       "      <th>6</th>\n",
       "      <td>NaN</td>\n",
       "    </tr>\n",
       "    <tr>\n",
       "      <th>7</th>\n",
       "      <td>NaN</td>\n",
       "    </tr>\n",
       "    <tr>\n",
       "      <th>8</th>\n",
       "      <td>NaN</td>\n",
       "    </tr>\n",
       "    <tr>\n",
       "      <th>9</th>\n",
       "      <td>NaN</td>\n",
       "    </tr>\n",
       "    <tr>\n",
       "      <th>10</th>\n",
       "      <td>NaN</td>\n",
       "    </tr>\n",
       "    <tr>\n",
       "      <th>11</th>\n",
       "      <td>NaN</td>\n",
       "    </tr>\n",
       "    <tr>\n",
       "      <th>12</th>\n",
       "      <td>55.22630</td>\n",
       "    </tr>\n",
       "    <tr>\n",
       "      <th>13</th>\n",
       "      <td>55.17730</td>\n",
       "    </tr>\n",
       "    <tr>\n",
       "      <th>14</th>\n",
       "      <td>55.12830</td>\n",
       "    </tr>\n",
       "    <tr>\n",
       "      <th>15</th>\n",
       "      <td>55.12830</td>\n",
       "    </tr>\n",
       "    <tr>\n",
       "      <th>16</th>\n",
       "      <td>55.12830</td>\n",
       "    </tr>\n",
       "    <tr>\n",
       "      <th>17</th>\n",
       "      <td>55.12830</td>\n",
       "    </tr>\n",
       "    <tr>\n",
       "      <th>18</th>\n",
       "      <td>54.86520</td>\n",
       "    </tr>\n",
       "    <tr>\n",
       "      <th>19</th>\n",
       "      <td>54.37290</td>\n",
       "    </tr>\n",
       "    <tr>\n",
       "      <th>20</th>\n",
       "      <td>53.84630</td>\n",
       "    </tr>\n",
       "    <tr>\n",
       "      <th>21</th>\n",
       "      <td>53.66430</td>\n",
       "    </tr>\n",
       "    <tr>\n",
       "      <th>22</th>\n",
       "      <td>53.66430</td>\n",
       "    </tr>\n",
       "    <tr>\n",
       "      <th>23</th>\n",
       "      <td>NaN</td>\n",
       "    </tr>\n",
       "    <tr>\n",
       "      <th>24</th>\n",
       "      <td>53.66430</td>\n",
       "    </tr>\n",
       "    <tr>\n",
       "      <th>25</th>\n",
       "      <td>53.66430</td>\n",
       "    </tr>\n",
       "    <tr>\n",
       "      <th>26</th>\n",
       "      <td>NaN</td>\n",
       "    </tr>\n",
       "    <tr>\n",
       "      <th>27</th>\n",
       "      <td>NaN</td>\n",
       "    </tr>\n",
       "    <tr>\n",
       "      <th>28</th>\n",
       "      <td>NaN</td>\n",
       "    </tr>\n",
       "    <tr>\n",
       "      <th>29</th>\n",
       "      <td>NaN</td>\n",
       "    </tr>\n",
       "    <tr>\n",
       "      <th>...</th>\n",
       "      <td>...</td>\n",
       "    </tr>\n",
       "    <tr>\n",
       "      <th>133</th>\n",
       "      <td>NaN</td>\n",
       "    </tr>\n",
       "    <tr>\n",
       "      <th>134</th>\n",
       "      <td>NaN</td>\n",
       "    </tr>\n",
       "    <tr>\n",
       "      <th>135</th>\n",
       "      <td>NaN</td>\n",
       "    </tr>\n",
       "    <tr>\n",
       "      <th>136</th>\n",
       "      <td>NaN</td>\n",
       "    </tr>\n",
       "    <tr>\n",
       "      <th>137</th>\n",
       "      <td>NaN</td>\n",
       "    </tr>\n",
       "    <tr>\n",
       "      <th>138</th>\n",
       "      <td>NaN</td>\n",
       "    </tr>\n",
       "    <tr>\n",
       "      <th>139</th>\n",
       "      <td>NaN</td>\n",
       "    </tr>\n",
       "    <tr>\n",
       "      <th>140</th>\n",
       "      <td>NaN</td>\n",
       "    </tr>\n",
       "    <tr>\n",
       "      <th>141</th>\n",
       "      <td>NaN</td>\n",
       "    </tr>\n",
       "    <tr>\n",
       "      <th>142</th>\n",
       "      <td>NaN</td>\n",
       "    </tr>\n",
       "    <tr>\n",
       "      <th>143</th>\n",
       "      <td>NaN</td>\n",
       "    </tr>\n",
       "    <tr>\n",
       "      <th>144</th>\n",
       "      <td>NaN</td>\n",
       "    </tr>\n",
       "    <tr>\n",
       "      <th>145</th>\n",
       "      <td>NaN</td>\n",
       "    </tr>\n",
       "    <tr>\n",
       "      <th>146</th>\n",
       "      <td>NaN</td>\n",
       "    </tr>\n",
       "    <tr>\n",
       "      <th>147</th>\n",
       "      <td>NaN</td>\n",
       "    </tr>\n",
       "    <tr>\n",
       "      <th>148</th>\n",
       "      <td>NaN</td>\n",
       "    </tr>\n",
       "    <tr>\n",
       "      <th>149</th>\n",
       "      <td>NaN</td>\n",
       "    </tr>\n",
       "    <tr>\n",
       "      <th>150</th>\n",
       "      <td>NaN</td>\n",
       "    </tr>\n",
       "    <tr>\n",
       "      <th>151</th>\n",
       "      <td>NaN</td>\n",
       "    </tr>\n",
       "    <tr>\n",
       "      <th>152</th>\n",
       "      <td>NaN</td>\n",
       "    </tr>\n",
       "    <tr>\n",
       "      <th>153</th>\n",
       "      <td>NaN</td>\n",
       "    </tr>\n",
       "    <tr>\n",
       "      <th>154</th>\n",
       "      <td>NaN</td>\n",
       "    </tr>\n",
       "    <tr>\n",
       "      <th>155</th>\n",
       "      <td>NaN</td>\n",
       "    </tr>\n",
       "    <tr>\n",
       "      <th>156</th>\n",
       "      <td>NaN</td>\n",
       "    </tr>\n",
       "    <tr>\n",
       "      <th>157</th>\n",
       "      <td>NaN</td>\n",
       "    </tr>\n",
       "    <tr>\n",
       "      <th>158</th>\n",
       "      <td>NaN</td>\n",
       "    </tr>\n",
       "    <tr>\n",
       "      <th>159</th>\n",
       "      <td>NaN</td>\n",
       "    </tr>\n",
       "    <tr>\n",
       "      <th>160</th>\n",
       "      <td>NaN</td>\n",
       "    </tr>\n",
       "    <tr>\n",
       "      <th>161</th>\n",
       "      <td>NaN</td>\n",
       "    </tr>\n",
       "    <tr>\n",
       "      <th>162</th>\n",
       "      <td>NaN</td>\n",
       "    </tr>\n",
       "  </tbody>\n",
       "</table>\n",
       "<p>163 rows × 1 columns</p>\n",
       "</div>"
      ],
      "text/plain": [
       "          val\n",
       "0         NaN\n",
       "1         NaN\n",
       "2    56.81040\n",
       "3    56.01835\n",
       "4    55.22630\n",
       "5         NaN\n",
       "6         NaN\n",
       "7         NaN\n",
       "8         NaN\n",
       "9         NaN\n",
       "10        NaN\n",
       "11        NaN\n",
       "12   55.22630\n",
       "13   55.17730\n",
       "14   55.12830\n",
       "15   55.12830\n",
       "16   55.12830\n",
       "17   55.12830\n",
       "18   54.86520\n",
       "19   54.37290\n",
       "20   53.84630\n",
       "21   53.66430\n",
       "22   53.66430\n",
       "23        NaN\n",
       "24   53.66430\n",
       "25   53.66430\n",
       "26        NaN\n",
       "27        NaN\n",
       "28        NaN\n",
       "29        NaN\n",
       "..        ...\n",
       "133       NaN\n",
       "134       NaN\n",
       "135       NaN\n",
       "136       NaN\n",
       "137       NaN\n",
       "138       NaN\n",
       "139       NaN\n",
       "140       NaN\n",
       "141       NaN\n",
       "142       NaN\n",
       "143       NaN\n",
       "144       NaN\n",
       "145       NaN\n",
       "146       NaN\n",
       "147       NaN\n",
       "148       NaN\n",
       "149       NaN\n",
       "150       NaN\n",
       "151       NaN\n",
       "152       NaN\n",
       "153       NaN\n",
       "154       NaN\n",
       "155       NaN\n",
       "156       NaN\n",
       "157       NaN\n",
       "158       NaN\n",
       "159       NaN\n",
       "160       NaN\n",
       "161       NaN\n",
       "162       NaN\n",
       "\n",
       "[163 rows x 1 columns]"
      ]
     },
     "execution_count": 35,
     "metadata": {},
     "output_type": "execute_result"
    }
   ],
   "source": [
    "egt_dec = []\n",
    "tmp = max(egt_lisse)\n",
    "for e in egt_lisse :\n",
    "    if (e>tmp) :\n",
    "        egt_dec.append(np.nan)\n",
    "    else :\n",
    "        egt_dec.append(e)\n",
    "        tmp = e\n",
    "\n",
    "egt_dec = pd.DataFrame(egt_dec, columns = [\"val\"])\n",
    "egt_dec"
   ]
  },
  {
   "cell_type": "code",
   "execution_count": 36,
   "metadata": {},
   "outputs": [
    {
     "data": {
      "text/plain": [
       "[56.8104,\n",
       " 56.01835,\n",
       " 55.2263,\n",
       " 55.2263,\n",
       " 55.1773,\n",
       " 55.1283,\n",
       " 55.1283,\n",
       " 55.1283,\n",
       " 55.1283,\n",
       " 54.8652,\n",
       " 54.3729,\n",
       " 53.8463,\n",
       " 53.6643,\n",
       " 53.6643,\n",
       " 53.6643,\n",
       " 53.6643,\n",
       " 53.6643,\n",
       " 53.4997,\n",
       " 53.136,\n",
       " 53.13185,\n",
       " 53.13185,\n",
       " 53.0965,\n",
       " 53.0965,\n",
       " 52.8421,\n",
       " 52.7705,\n",
       " 52.6947,\n",
       " 52.6189,\n",
       " 52.6189,\n",
       " 52.6189,\n",
       " 51.9282,\n",
       " 51.7624,\n",
       " 49.2196,\n",
       " 49.2196,\n",
       " 49.0059,\n",
       " 48.7922,\n",
       " 48.5717,\n",
       " 48.5717,\n",
       " 48.3512,\n",
       " 48.32415,\n",
       " 48.32415,\n",
       " 47.7124,\n",
       " 47.1277,\n",
       " 46.7555]"
      ]
     },
     "execution_count": 36,
     "metadata": {},
     "output_type": "execute_result"
    }
   ],
   "source": [
    "egt_dec_clean = egt_dec[(egt_dec.isna())[\"val\"].isin([False])]\n",
    "egt_dec_clean\n",
    "my_index = list(egt_dec_clean.index)\n",
    "my_index\n",
    "my_values = list(egt_dec_clean.loc[:,\"val\"])\n",
    "my_values"
   ]
  },
  {
   "cell_type": "code",
   "execution_count": 37,
   "metadata": {},
   "outputs": [
    {
     "data": {
      "image/png": "[encoded data removed]",
      "text/plain": [
       "<Figure size 432x288 with 1 Axes>"
      ]
     },
     "metadata": {
      "needs_background": "light"
     },
     "output_type": "display_data"
    }
   ],
   "source": [
    "plt.figure()\n",
    "plt.plot(np.array(egt),label = \"EGT Brute\")\n",
    "plt.plot(np.array(egt_lisse), label = \"EGT Lissée\")\n",
    "plt.plot(np.array(my_index),np.array(my_values), label = \"EGT Lissée décroissant\")\n",
    "plt.xlabel(\"cycles\")\n",
    "plt.ylabel(\"egthdm\")\n",
    "plt.title(\"Insert title\")\n",
    "plt.legend()\n",
    "plt.show()"
   ]
  },
  {
   "cell_type": "markdown",
   "metadata": {},
   "source": [
    "#### 2.7. Estimation de la pente de la marge EGT\n",
    "\n",
    "La pente de la marge EGT est un indicateur très intéressant de l'usure du moteur. On l'estime par régression linéaire par rapport au nombre de cycles. Pour cela, on utilise les points conservés précédemment qui constituent une estimation pessimiste.\n",
    "\n",
    "Pour la régression linéaire, on utilisera le modèle `LinearRegression` de scikit-learn. Son utilisation est similaire aux autres modèles de scikit-learn :\n",
    "```python\n",
    "lr = LinearRegression()\n",
    "model = lr.fit(X, y)\n",
    "```\n",
    "\n",
    "1. Apprenez un modèle `LinearRegression` sur les données calculées précédemment. Affichez les coefficients et l'ordonnée à l'origine (_intercept_) du modèle obtenu. Les valeurs sont-elles cohérentes ? (indices : pour passer d'un objet pandas (DataFrame ou Series) à un array numpy, utilisez la propriété `values`)\n",
    "2. Tracez la droite obtenue sur le graphe précédent."
   ]
  },
  {
   "cell_type": "code",
   "execution_count": 38,
   "metadata": {},
   "outputs": [],
   "source": [
    "from sklearn.linear_model import LinearRegression\n",
    "lr = LinearRegression()"
   ]
  },
  {
   "cell_type": "markdown",
   "metadata": {},
   "source": [
    "* Je récupère les données non invalides"
   ]
  },
  {
   "cell_type": "code",
   "execution_count": 39,
   "metadata": {},
   "outputs": [],
   "source": [
    "X = np.array(egt_dec_clean.index).reshape((-1,1))\n",
    "y = np.array(egt_dec_clean.loc[:,\"val\"])"
   ]
  },
  {
   "cell_type": "code",
   "execution_count": 40,
   "metadata": {},
   "outputs": [
    {
     "name": "stdout",
     "output_type": "stream",
     "text": [
      "Intercept : 56.19046323032169\n",
      "Slope : [-0.08532176]\n"
     ]
    }
   ],
   "source": [
    "reg = lr.fit(X,y)\n",
    "print(\"Intercept : {}\".format(reg.intercept_))\n",
    "print(\"Slope : {}\".format(reg.coef_))"
   ]
  },
  {
   "cell_type": "code",
   "execution_count": 41,
   "metadata": {},
   "outputs": [],
   "source": [
    "xl = np.array([0, 120])\n",
    "yl = xl*(reg.coef_) + reg.intercept_"
   ]
  },
  {
   "cell_type": "markdown",
   "metadata": {},
   "source": [
    "* Les valeurs sont cohérentes, la pente est bien négative, qui montre la décroissance et le intercept est proche de la première valeur de egt"
   ]
  },
  {
   "cell_type": "code",
   "execution_count": 42,
   "metadata": {},
   "outputs": [
    {
     "data": {
      "image/png": "[encoded data removed]",
      "text/plain": [
       "<Figure size 432x288 with 1 Axes>"
      ]
     },
     "metadata": {
      "needs_background": "light"
     },
     "output_type": "display_data"
    }
   ],
   "source": [
    "plt.figure()\n",
    "plt.plot(np.array(egt),label = \"EGT Brute\")\n",
    "plt.plot(np.array(egt_lisse), label = \"EGT Lissée\")\n",
    "plt.plot(np.array(my_index),np.array(my_values), label = \"EGT Lissée décroissant\")\n",
    "plt.plot(xl, yl, label = \"Droite de regression\")\n",
    "plt.xlabel(\"cycles\")\n",
    "plt.ylabel(\"egthdm\")\n",
    "plt.title(\"Insert title\")\n",
    "plt.legend()\n",
    "plt.show()"
   ]
  },
  {
   "cell_type": "markdown",
   "metadata": {},
   "source": [
    "### 3. Écriture d'une fonction de calcul de la pente EGT pour tous les moteurs\n",
    "\n",
    "Tout d'abord, bravo si vous êtes arrivés jusque là ! Toutes les opérations que l'on a effectuées ont permis d'estimer la pente de la marge EGT du moteur 179 de l'avion 190 de type 10, et donc son usure. Maintenant, on souhaite répéter ce processus sur tous les moteurs ! Pour cela, il faudra créer une fonction Python générique, prenant en entrée l'ensemble du jeu de données ACARS et produisant en sortie l'ensemble des pentes/intercept des modèles de régression linéaire appris pour chaque moteur.\n",
    "\n",
    "L'un des intérêts est de pouvoir prédire l'usure des moteurs, après un nombre de cycles donné.\n",
    "\n",
    "Voici le squelette de la fonction à écrire (en ré-utilisant et adaptant tout les morceaux de code précédents) :\n",
    "\n",
    "```python\n",
    "def regress_egt_margin(df_acars):\n",
    "    ...\n",
    "    return df_regress_models # Contient les pentes et intercept pour tous les moteurs\n",
    "```"
   ]
  },
  {
   "cell_type": "code",
   "execution_count": 43,
   "metadata": {},
   "outputs": [],
   "source": [
    "def regress_egt_margin(df_acars) : \n",
    "    \n",
    "    return df_regress_models"
   ]
  },
  {
   "cell_type": "code",
   "execution_count": 44,
   "metadata": {},
   "outputs": [
    {
     "data": {
      "text/html": [
       "<div>\n",
       "<style scoped>\n",
       "    .dataframe tbody tr th:only-of-type {\n",
       "        vertical-align: middle;\n",
       "    }\n",
       "\n",
       "    .dataframe tbody tr th {\n",
       "        vertical-align: top;\n",
       "    }\n",
       "\n",
       "    .dataframe thead th {\n",
       "        text-align: right;\n",
       "    }\n",
       "</style>\n",
       "<table border=\"1\" class=\"dataframe\">\n",
       "  <thead>\n",
       "    <tr style=\"text-align: right;\">\n",
       "      <th></th>\n",
       "      <th>flight_phase</th>\n",
       "      <th>engine_number</th>\n",
       "      <th>engine_type</th>\n",
       "      <th>aircraft_number</th>\n",
       "      <th>engine_position</th>\n",
       "      <th>airline_classif_environment</th>\n",
       "      <th>brat</th>\n",
       "      <th>cas</th>\n",
       "      <th>cycles</th>\n",
       "      <th>delfn</th>\n",
       "      <th>...</th>\n",
       "      <th>ztoil</th>\n",
       "      <th>zvb1f</th>\n",
       "      <th>zvb1r</th>\n",
       "      <th>zvb2f</th>\n",
       "      <th>zvb2r</th>\n",
       "      <th>zvsv</th>\n",
       "      <th>zwbp1</th>\n",
       "      <th>zwbp2</th>\n",
       "      <th>zwf36</th>\n",
       "      <th>zxm</th>\n",
       "    </tr>\n",
       "  </thead>\n",
       "  <tbody>\n",
       "    <tr>\n",
       "      <th>0</th>\n",
       "      <td>CLIMB</td>\n",
       "      <td>186</td>\n",
       "      <td>10</td>\n",
       "      <td>192</td>\n",
       "      <td>1</td>\n",
       "      <td>Neutral</td>\n",
       "      <td>1.0</td>\n",
       "      <td>151.0</td>\n",
       "      <td>6.0</td>\n",
       "      <td>-0.1146</td>\n",
       "      <td>...</td>\n",
       "      <td>88.0</td>\n",
       "      <td>0.57</td>\n",
       "      <td>0.73</td>\n",
       "      <td>0.12</td>\n",
       "      <td>0.13</td>\n",
       "      <td>8.9</td>\n",
       "      <td>5.0</td>\n",
       "      <td>5.0</td>\n",
       "      <td>5335.0</td>\n",
       "      <td>0.637</td>\n",
       "    </tr>\n",
       "    <tr>\n",
       "      <th>1</th>\n",
       "      <td>CLIMB</td>\n",
       "      <td>186</td>\n",
       "      <td>10</td>\n",
       "      <td>192</td>\n",
       "      <td>1</td>\n",
       "      <td>Neutral</td>\n",
       "      <td>1.0</td>\n",
       "      <td>143.0</td>\n",
       "      <td>7.0</td>\n",
       "      <td>-0.2464</td>\n",
       "      <td>...</td>\n",
       "      <td>90.8</td>\n",
       "      <td>0.58</td>\n",
       "      <td>0.76</td>\n",
       "      <td>0.15</td>\n",
       "      <td>0.10</td>\n",
       "      <td>9.0</td>\n",
       "      <td>5.6</td>\n",
       "      <td>5.6</td>\n",
       "      <td>4987.0</td>\n",
       "      <td>0.624</td>\n",
       "    </tr>\n",
       "    <tr>\n",
       "      <th>2</th>\n",
       "      <td>CLIMB</td>\n",
       "      <td>186</td>\n",
       "      <td>10</td>\n",
       "      <td>192</td>\n",
       "      <td>1</td>\n",
       "      <td>Neutral</td>\n",
       "      <td>1.0</td>\n",
       "      <td>163.0</td>\n",
       "      <td>8.0</td>\n",
       "      <td>NaN</td>\n",
       "      <td>...</td>\n",
       "      <td>89.0</td>\n",
       "      <td>0.28</td>\n",
       "      <td>0.48</td>\n",
       "      <td>0.16</td>\n",
       "      <td>0.05</td>\n",
       "      <td>10.1</td>\n",
       "      <td>5.0</td>\n",
       "      <td>5.2</td>\n",
       "      <td>4251.0</td>\n",
       "      <td>0.530</td>\n",
       "    </tr>\n",
       "    <tr>\n",
       "      <th>3</th>\n",
       "      <td>CLIMB</td>\n",
       "      <td>186</td>\n",
       "      <td>10</td>\n",
       "      <td>192</td>\n",
       "      <td>1</td>\n",
       "      <td>Neutral</td>\n",
       "      <td>1.0</td>\n",
       "      <td>152.0</td>\n",
       "      <td>9.0</td>\n",
       "      <td>NaN</td>\n",
       "      <td>...</td>\n",
       "      <td>87.0</td>\n",
       "      <td>0.44</td>\n",
       "      <td>0.67</td>\n",
       "      <td>0.14</td>\n",
       "      <td>0.08</td>\n",
       "      <td>8.9</td>\n",
       "      <td>5.6</td>\n",
       "      <td>5.6</td>\n",
       "      <td>5356.0</td>\n",
       "      <td>0.380</td>\n",
       "    </tr>\n",
       "    <tr>\n",
       "      <th>4</th>\n",
       "      <td>CLIMB</td>\n",
       "      <td>186</td>\n",
       "      <td>10</td>\n",
       "      <td>192</td>\n",
       "      <td>1</td>\n",
       "      <td>Neutral</td>\n",
       "      <td>1.0</td>\n",
       "      <td>154.0</td>\n",
       "      <td>10.0</td>\n",
       "      <td>NaN</td>\n",
       "      <td>...</td>\n",
       "      <td>85.3</td>\n",
       "      <td>0.26</td>\n",
       "      <td>0.48</td>\n",
       "      <td>0.25</td>\n",
       "      <td>0.06</td>\n",
       "      <td>10.5</td>\n",
       "      <td>5.6</td>\n",
       "      <td>5.6</td>\n",
       "      <td>NaN</td>\n",
       "      <td>0.543</td>\n",
       "    </tr>\n",
       "  </tbody>\n",
       "</table>\n",
       "<p>5 rows × 50 columns</p>\n",
       "</div>"
      ],
      "text/plain": [
       "  flight_phase  engine_number  engine_type  aircraft_number  engine_position  \\\n",
       "0        CLIMB            186           10              192                1   \n",
       "1        CLIMB            186           10              192                1   \n",
       "2        CLIMB            186           10              192                1   \n",
       "3        CLIMB            186           10              192                1   \n",
       "4        CLIMB            186           10              192                1   \n",
       "\n",
       "  airline_classif_environment  brat    cas  cycles   delfn  ...    ztoil  \\\n",
       "0                     Neutral   1.0  151.0     6.0 -0.1146  ...     88.0   \n",
       "1                     Neutral   1.0  143.0     7.0 -0.2464  ...     90.8   \n",
       "2                     Neutral   1.0  163.0     8.0     NaN  ...     89.0   \n",
       "3                     Neutral   1.0  152.0     9.0     NaN  ...     87.0   \n",
       "4                     Neutral   1.0  154.0    10.0     NaN  ...     85.3   \n",
       "\n",
       "   zvb1f  zvb1r  zvb2f  zvb2r  zvsv  zwbp1  zwbp2   zwf36    zxm  \n",
       "0   0.57   0.73   0.12   0.13   8.9    5.0    5.0  5335.0  0.637  \n",
       "1   0.58   0.76   0.15   0.10   9.0    5.6    5.6  4987.0  0.624  \n",
       "2   0.28   0.48   0.16   0.05  10.1    5.0    5.2  4251.0  0.530  \n",
       "3   0.44   0.67   0.14   0.08   8.9    5.6    5.6  5356.0  0.380  \n",
       "4   0.26   0.48   0.25   0.06  10.5    5.6    5.6     NaN  0.543  \n",
       "\n",
       "[5 rows x 50 columns]"
      ]
     },
     "execution_count": 44,
     "metadata": {},
     "output_type": "execute_result"
    }
   ],
   "source": [
    "data_accars.head()"
   ]
  },
  {
   "cell_type": "markdown",
   "metadata": {},
   "source": [
    "### 4. Comparaison de l'usure des 3 types de moteurs"
   ]
  },
  {
   "cell_type": "markdown",
   "metadata": {},
   "source": [
    "#### 4.1. Prédiction de la marge EGT au 150ème par type de moteur\n",
    "\n",
    "1. Pour chaque moteur, utilisez son modèle de régression pour prédire la valeur de la marge EGT après 150 cycles d'utilisation (indice : méthode `apply`).\n",
    "2. Représentez ces valeurs par type moteur sur un box plot. Décrivez le résultat obtenu.\n",
    "3. Calculez la moyenne de la marge au 150ème cycle par type de moteur. Quel type de moteur a la plus grande marge moyenne après 150 cycles ?"
   ]
  },
  {
   "cell_type": "code",
   "execution_count": null,
   "metadata": {},
   "outputs": [],
   "source": []
  },
  {
   "cell_type": "markdown",
   "metadata": {},
   "source": [
    "#### 4.3. Vitesse de décroissance de la marge EGT par type de moteur\n",
    "\n",
    "La pente de la marge EGT correspond à sa vitesse de décroissance par cycle.\n",
    "\n",
    "1. Quelle est son unité ?\n",
    "2. Représentez ces valeurs par type de moteur sur un boxplot. Décrivez le résultat obtenu.\n",
    "3. Calculez moyenne de la pente par type de moteur. Quel type de moteur a la plus faible vitesse de décroissance et donc la plus faible vitesse d'usure ?"
   ]
  },
  {
   "cell_type": "code",
   "execution_count": null,
   "metadata": {},
   "outputs": [],
   "source": []
  }
 ],
 "metadata": {
  "kernelspec": {
   "display_name": "Python 3.9.12 ('base')",
   "language": "python",
   "name": "python3"
  },
  "language_info": {
   "codemirror_mode": {
    "name": "ipython",
    "version": 3
   },
   "file_extension": ".py",
   "mimetype": "text/x-python",
   "name": "python",
   "nbconvert_exporter": "python",
   "pygments_lexer": "ipython3",
   "version": "3.7.0"
  },
  "vscode": {
   "interpreter": {
    "hash": "5a0b71172837420ef09fc066387a9e35f4f202d27408b79ef2ffa6f99ff5f570"
   }
  }
 },
 "nbformat": 4,
 "nbformat_minor": 4
}
