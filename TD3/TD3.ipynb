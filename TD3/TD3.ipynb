{
 "cells": [
  {
   "cell_type": "markdown",
   "metadata": {},
   "source": [
    "# TD 3 | Étude de la marge EGT d'un turboréacteur\n",
    "\n",
    "---\n",
    "\n",
    "Objectifs du TD :\n",
    "\n",
    "* pratiquer sur un premier use case concret d'analyse de données de moteurs d'avion\n",
    "* fonctions glissantes pandas (_rolling_)\n",
    "* régression linéaire\n",
    "\n",
    "---"
   ]
  },
  {
   "cell_type": "markdown",
   "metadata": {},
   "source": [
    "La table fournie contient les données moteurs disposant de l'information \"marge EGT\" (egthdm) issue\n",
    "des rapports ACARS. Il s'agit donc uniquement de rapports extraits au décollage (TAKEOFF). On a\n",
    "récupéré l'ensemble des rapports des moteurs livrés depuis avril 2016."
   ]
  },
  {
   "cell_type": "markdown",
   "metadata": {},
   "source": [
    "## 1. Chargement et nettoyage des données\n",
    "\n",
    "#### 1.1. Chargez les données ACARS à l'aide de la méthode pandas `read_excel`. Explorez les propriétés générales du jeu de données.\n",
    "\n",
    "Fichier de données : `./data/accars_b.xlsx`."
   ]
  },
  {
   "cell_type": "code",
   "execution_count": null,
   "metadata": {},
   "outputs": [],
   "source": [
    "!git clone https://github.com/MadaneA/MACS3-Statistiques-Descriptives-TDs.git"
   ]
  },
  {
   "cell_type": "code",
   "execution_count": 1,
   "metadata": {},
   "outputs": [
    {
     "data": {
      "text/plain": [
       "'/home/davidson/Documents/ING_MACS/MACS3_M2/courses/macs/Stat_descriptives/TD_stats/TD3'"
      ]
     },
     "execution_count": 1,
     "metadata": {},
     "output_type": "execute_result"
    }
   ],
   "source": [
    "import os\n",
    "os.getcwd()"
   ]
  },
  {
   "cell_type": "code",
   "execution_count": 2,
   "metadata": {},
   "outputs": [],
   "source": [
    "import os\n",
    "os.chdir('/home/davidson/Documents/ING_MACS/MACS3_M2/courses/macs/Stat_descriptives/TD_stats')"
   ]
  },
  {
   "cell_type": "code",
   "execution_count": 3,
   "metadata": {},
   "outputs": [],
   "source": [
    "import pandas as pd\n",
    "import numpy as np\n",
    "import seaborn as sns\n",
    "import matplotlib.pyplot as plt"
   ]
  },
  {
   "cell_type": "code",
   "execution_count": 4,
   "metadata": {},
   "outputs": [],
   "source": [
    "data_accars = pd.read_excel('./data/accars_b.xlsx')"
   ]
  },
  {
   "cell_type": "code",
   "execution_count": 22,
   "metadata": {},
   "outputs": [
    {
     "data": {
      "text/html": [
       "<div>\n",
       "<style scoped>\n",
       "    .dataframe tbody tr th:only-of-type {\n",
       "        vertical-align: middle;\n",
       "    }\n",
       "\n",
       "    .dataframe tbody tr th {\n",
       "        vertical-align: top;\n",
       "    }\n",
       "\n",
       "    .dataframe thead th {\n",
       "        text-align: right;\n",
       "    }\n",
       "</style>\n",
       "<table border=\"1\" class=\"dataframe\">\n",
       "  <thead>\n",
       "    <tr style=\"text-align: right;\">\n",
       "      <th></th>\n",
       "      <th>flight_phase</th>\n",
       "      <th>engine_number</th>\n",
       "      <th>engine_type</th>\n",
       "      <th>aircraft_number</th>\n",
       "      <th>engine_position</th>\n",
       "      <th>airline_classif_environment</th>\n",
       "      <th>brat</th>\n",
       "      <th>cas</th>\n",
       "      <th>cycles</th>\n",
       "      <th>delfn</th>\n",
       "      <th>...</th>\n",
       "      <th>ztoil</th>\n",
       "      <th>zvb1f</th>\n",
       "      <th>zvb1r</th>\n",
       "      <th>zvb2f</th>\n",
       "      <th>zvb2r</th>\n",
       "      <th>zvsv</th>\n",
       "      <th>zwbp1</th>\n",
       "      <th>zwbp2</th>\n",
       "      <th>zwf36</th>\n",
       "      <th>zxm</th>\n",
       "    </tr>\n",
       "  </thead>\n",
       "  <tbody>\n",
       "    <tr>\n",
       "      <th>0</th>\n",
       "      <td>CLIMB</td>\n",
       "      <td>186</td>\n",
       "      <td>10</td>\n",
       "      <td>192</td>\n",
       "      <td>1</td>\n",
       "      <td>Neutral</td>\n",
       "      <td>1.0</td>\n",
       "      <td>151.0</td>\n",
       "      <td>6.0</td>\n",
       "      <td>-0.1146</td>\n",
       "      <td>...</td>\n",
       "      <td>88.0</td>\n",
       "      <td>0.57</td>\n",
       "      <td>0.73</td>\n",
       "      <td>0.12</td>\n",
       "      <td>0.13</td>\n",
       "      <td>8.9</td>\n",
       "      <td>5.0</td>\n",
       "      <td>5.0</td>\n",
       "      <td>5335.0</td>\n",
       "      <td>0.637</td>\n",
       "    </tr>\n",
       "    <tr>\n",
       "      <th>1</th>\n",
       "      <td>CLIMB</td>\n",
       "      <td>186</td>\n",
       "      <td>10</td>\n",
       "      <td>192</td>\n",
       "      <td>1</td>\n",
       "      <td>Neutral</td>\n",
       "      <td>1.0</td>\n",
       "      <td>143.0</td>\n",
       "      <td>7.0</td>\n",
       "      <td>-0.2464</td>\n",
       "      <td>...</td>\n",
       "      <td>90.8</td>\n",
       "      <td>0.58</td>\n",
       "      <td>0.76</td>\n",
       "      <td>0.15</td>\n",
       "      <td>0.10</td>\n",
       "      <td>9.0</td>\n",
       "      <td>5.6</td>\n",
       "      <td>5.6</td>\n",
       "      <td>4987.0</td>\n",
       "      <td>0.624</td>\n",
       "    </tr>\n",
       "    <tr>\n",
       "      <th>2</th>\n",
       "      <td>CLIMB</td>\n",
       "      <td>186</td>\n",
       "      <td>10</td>\n",
       "      <td>192</td>\n",
       "      <td>1</td>\n",
       "      <td>Neutral</td>\n",
       "      <td>1.0</td>\n",
       "      <td>163.0</td>\n",
       "      <td>8.0</td>\n",
       "      <td>NaN</td>\n",
       "      <td>...</td>\n",
       "      <td>89.0</td>\n",
       "      <td>0.28</td>\n",
       "      <td>0.48</td>\n",
       "      <td>0.16</td>\n",
       "      <td>0.05</td>\n",
       "      <td>10.1</td>\n",
       "      <td>5.0</td>\n",
       "      <td>5.2</td>\n",
       "      <td>4251.0</td>\n",
       "      <td>0.530</td>\n",
       "    </tr>\n",
       "    <tr>\n",
       "      <th>3</th>\n",
       "      <td>CLIMB</td>\n",
       "      <td>186</td>\n",
       "      <td>10</td>\n",
       "      <td>192</td>\n",
       "      <td>1</td>\n",
       "      <td>Neutral</td>\n",
       "      <td>1.0</td>\n",
       "      <td>152.0</td>\n",
       "      <td>9.0</td>\n",
       "      <td>NaN</td>\n",
       "      <td>...</td>\n",
       "      <td>87.0</td>\n",
       "      <td>0.44</td>\n",
       "      <td>0.67</td>\n",
       "      <td>0.14</td>\n",
       "      <td>0.08</td>\n",
       "      <td>8.9</td>\n",
       "      <td>5.6</td>\n",
       "      <td>5.6</td>\n",
       "      <td>5356.0</td>\n",
       "      <td>0.380</td>\n",
       "    </tr>\n",
       "    <tr>\n",
       "      <th>4</th>\n",
       "      <td>CLIMB</td>\n",
       "      <td>186</td>\n",
       "      <td>10</td>\n",
       "      <td>192</td>\n",
       "      <td>1</td>\n",
       "      <td>Neutral</td>\n",
       "      <td>1.0</td>\n",
       "      <td>154.0</td>\n",
       "      <td>10.0</td>\n",
       "      <td>NaN</td>\n",
       "      <td>...</td>\n",
       "      <td>85.3</td>\n",
       "      <td>0.26</td>\n",
       "      <td>0.48</td>\n",
       "      <td>0.25</td>\n",
       "      <td>0.06</td>\n",
       "      <td>10.5</td>\n",
       "      <td>5.6</td>\n",
       "      <td>5.6</td>\n",
       "      <td>NaN</td>\n",
       "      <td>0.543</td>\n",
       "    </tr>\n",
       "  </tbody>\n",
       "</table>\n",
       "<p>5 rows × 50 columns</p>\n",
       "</div>"
      ],
      "text/plain": [
       "  flight_phase  engine_number  engine_type  aircraft_number  engine_position  \\\n",
       "0        CLIMB            186           10              192                1   \n",
       "1        CLIMB            186           10              192                1   \n",
       "2        CLIMB            186           10              192                1   \n",
       "3        CLIMB            186           10              192                1   \n",
       "4        CLIMB            186           10              192                1   \n",
       "\n",
       "  airline_classif_environment  brat    cas  cycles   delfn  ...  ztoil  zvb1f  \\\n",
       "0                     Neutral   1.0  151.0     6.0 -0.1146  ...   88.0   0.57   \n",
       "1                     Neutral   1.0  143.0     7.0 -0.2464  ...   90.8   0.58   \n",
       "2                     Neutral   1.0  163.0     8.0     NaN  ...   89.0   0.28   \n",
       "3                     Neutral   1.0  152.0     9.0     NaN  ...   87.0   0.44   \n",
       "4                     Neutral   1.0  154.0    10.0     NaN  ...   85.3   0.26   \n",
       "\n",
       "   zvb1r  zvb2f  zvb2r  zvsv  zwbp1  zwbp2   zwf36    zxm  \n",
       "0   0.73   0.12   0.13   8.9    5.0    5.0  5335.0  0.637  \n",
       "1   0.76   0.15   0.10   9.0    5.6    5.6  4987.0  0.624  \n",
       "2   0.48   0.16   0.05  10.1    5.0    5.2  4251.0  0.530  \n",
       "3   0.67   0.14   0.08   8.9    5.6    5.6  5356.0  0.380  \n",
       "4   0.48   0.25   0.06  10.5    5.6    5.6     NaN  0.543  \n",
       "\n",
       "[5 rows x 50 columns]"
      ]
     },
     "execution_count": 22,
     "metadata": {},
     "output_type": "execute_result"
    }
   ],
   "source": [
    "data_accars.head()"
   ]
  },
  {
   "cell_type": "markdown",
   "metadata": {},
   "source": [
    "#### 1.2. Y a-t-il des valeurs manquantes ? Si oui, décrivez leur répartition et affichez le nombre de valeurs manquantes par colonne sous forme d'un bar plot."
   ]
  },
  {
   "cell_type": "markdown",
   "metadata": {},
   "source": [
    "Oui, il a des valeurs manquantes"
   ]
  },
  {
   "cell_type": "code",
   "execution_count": 28,
   "metadata": {},
   "outputs": [
    {
     "data": {
      "image/png": "[encoded data removed]",
      "text/plain": [
       "<Figure size 2160x360 with 1 Axes>"
      ]
     },
     "metadata": {
      "needs_background": "light"
     },
     "output_type": "display_data"
    }
   ],
   "source": [
    "isna_accars = data_accars.isna()\n",
    "nb_insa_col = ((np.array(isna_accars.sum()))/data_accars.shape[0])*100\n",
    "plt.figure(figsize=(30,5))\n",
    "plt.bar(x = data_accars.columns, height = nb_insa_col)\n",
    "plt.title(\"repatition des valeurs en fonctions de colonnes\")\n",
    "plt.xlabel(\"Numero de colonnes\")\n",
    "plt.ylabel(\"Pourcentage de valeur manquante\")\n",
    "plt.show()"
   ]
  },
  {
   "cell_type": "markdown",
   "metadata": {},
   "source": [
    "#### 1.3. Ne gardez que les lignes où le nombre de cycles (variable `cycles`) et la marge EGT (variable `egthdm`) sont présentes."
   ]
  },
  {
   "cell_type": "code",
   "execution_count": 36,
   "metadata": {},
   "outputs": [],
   "source": [
    "data_accars_clc = data_accars[isna_accars[\"cycles\"].isin([False])]\n",
    "isna_accars_clc = data_accars_clc.isna()\n",
    "data_accars_clean = data_accars_clc[isna_accars_clc[\"egthdm\"].isin([False])]"
   ]
  },
  {
   "cell_type": "code",
   "execution_count": 42,
   "metadata": {},
   "outputs": [
    {
     "name": "stdout",
     "output_type": "stream",
     "text": [
      "le nombre de valeurs manquantes dans la colonne cycles : 0\n",
      "le nombre de valeurs manquantes dans la colonne egthdm : 0\n"
     ]
    }
   ],
   "source": [
    "print(\"le nombre de valeurs manquantes dans la colonne cycles : {}\".format(data_accars_clean.isna().sum()[\"cycles\"]))\n",
    "print(\"le nombre de valeurs manquantes dans la colonne egthdm : {}\".format(data_accars_clean.isna().sum()[\"egthdm\"]))"
   ]
  },
  {
   "cell_type": "markdown",
   "metadata": {},
   "source": [
    "#### 1.4. Affichez les différents types de moteurs (indice : utilisez la méthode `unique()`)."
   ]
  },
  {
   "cell_type": "code",
   "execution_count": 43,
   "metadata": {},
   "outputs": [
    {
     "name": "stdout",
     "output_type": "stream",
     "text": [
      "Les types de moteurs : [ 5  7 10]\n"
     ]
    }
   ],
   "source": [
    "print(\"Les types de moteurs : {}\".format(np.unique(data_accars_clean['engine_type'])))"
   ]
  },
  {
   "cell_type": "markdown",
   "metadata": {},
   "source": [
    "#### 1.5. Sélectionnez uniquement les moteurs de type 10. Combien y a-t-il d'avions distincts ? Combien de vols par avion ? (attention : il y a 2 moteurs sur un avion)"
   ]
  },
  {
   "cell_type": "code",
   "execution_count": 46,
   "metadata": {},
   "outputs": [
    {
     "data": {
      "text/html": [
       "<div>\n",
       "<style scoped>\n",
       "    .dataframe tbody tr th:only-of-type {\n",
       "        vertical-align: middle;\n",
       "    }\n",
       "\n",
       "    .dataframe tbody tr th {\n",
       "        vertical-align: top;\n",
       "    }\n",
       "\n",
       "    .dataframe thead th {\n",
       "        text-align: right;\n",
       "    }\n",
       "</style>\n",
       "<table border=\"1\" class=\"dataframe\">\n",
       "  <thead>\n",
       "    <tr style=\"text-align: right;\">\n",
       "      <th></th>\n",
       "      <th>flight_phase</th>\n",
       "      <th>engine_number</th>\n",
       "      <th>engine_type</th>\n",
       "      <th>aircraft_number</th>\n",
       "      <th>engine_position</th>\n",
       "      <th>airline_classif_environment</th>\n",
       "      <th>brat</th>\n",
       "      <th>cas</th>\n",
       "      <th>cycles</th>\n",
       "      <th>delfn</th>\n",
       "      <th>...</th>\n",
       "      <th>ztoil</th>\n",
       "      <th>zvb1f</th>\n",
       "      <th>zvb1r</th>\n",
       "      <th>zvb2f</th>\n",
       "      <th>zvb2r</th>\n",
       "      <th>zvsv</th>\n",
       "      <th>zwbp1</th>\n",
       "      <th>zwbp2</th>\n",
       "      <th>zwf36</th>\n",
       "      <th>zxm</th>\n",
       "    </tr>\n",
       "  </thead>\n",
       "  <tbody>\n",
       "    <tr>\n",
       "      <th>104</th>\n",
       "      <td>TAKEOFF</td>\n",
       "      <td>186</td>\n",
       "      <td>10</td>\n",
       "      <td>192</td>\n",
       "      <td>1</td>\n",
       "      <td>Neutral</td>\n",
       "      <td>0.0</td>\n",
       "      <td>88.0</td>\n",
       "      <td>5.0</td>\n",
       "      <td>23.8191</td>\n",
       "      <td>...</td>\n",
       "      <td>84.3</td>\n",
       "      <td>0.39</td>\n",
       "      <td>0.58</td>\n",
       "      <td>0.05</td>\n",
       "      <td>0.15</td>\n",
       "      <td>12.3</td>\n",
       "      <td>0.2</td>\n",
       "      <td>0.0</td>\n",
       "      <td>NaN</td>\n",
       "      <td>0.133</td>\n",
       "    </tr>\n",
       "    <tr>\n",
       "      <th>105</th>\n",
       "      <td>TAKEOFF</td>\n",
       "      <td>186</td>\n",
       "      <td>10</td>\n",
       "      <td>192</td>\n",
       "      <td>1</td>\n",
       "      <td>Neutral</td>\n",
       "      <td>0.0</td>\n",
       "      <td>93.0</td>\n",
       "      <td>6.0</td>\n",
       "      <td>25.4038</td>\n",
       "      <td>...</td>\n",
       "      <td>95.1</td>\n",
       "      <td>0.24</td>\n",
       "      <td>0.69</td>\n",
       "      <td>0.16</td>\n",
       "      <td>0.10</td>\n",
       "      <td>11.1</td>\n",
       "      <td>0.2</td>\n",
       "      <td>0.0</td>\n",
       "      <td>NaN</td>\n",
       "      <td>0.148</td>\n",
       "    </tr>\n",
       "    <tr>\n",
       "      <th>106</th>\n",
       "      <td>TAKEOFF</td>\n",
       "      <td>186</td>\n",
       "      <td>10</td>\n",
       "      <td>192</td>\n",
       "      <td>1</td>\n",
       "      <td>Neutral</td>\n",
       "      <td>0.0</td>\n",
       "      <td>92.0</td>\n",
       "      <td>7.0</td>\n",
       "      <td>22.7509</td>\n",
       "      <td>...</td>\n",
       "      <td>81.6</td>\n",
       "      <td>0.23</td>\n",
       "      <td>0.46</td>\n",
       "      <td>0.13</td>\n",
       "      <td>0.11</td>\n",
       "      <td>12.1</td>\n",
       "      <td>0.3</td>\n",
       "      <td>0.0</td>\n",
       "      <td>NaN</td>\n",
       "      <td>0.140</td>\n",
       "    </tr>\n",
       "    <tr>\n",
       "      <th>107</th>\n",
       "      <td>TAKEOFF</td>\n",
       "      <td>186</td>\n",
       "      <td>10</td>\n",
       "      <td>192</td>\n",
       "      <td>1</td>\n",
       "      <td>Neutral</td>\n",
       "      <td>0.0</td>\n",
       "      <td>87.0</td>\n",
       "      <td>8.0</td>\n",
       "      <td>22.1533</td>\n",
       "      <td>...</td>\n",
       "      <td>87.8</td>\n",
       "      <td>0.59</td>\n",
       "      <td>0.80</td>\n",
       "      <td>0.12</td>\n",
       "      <td>0.13</td>\n",
       "      <td>11.1</td>\n",
       "      <td>0.2</td>\n",
       "      <td>0.0</td>\n",
       "      <td>NaN</td>\n",
       "      <td>0.140</td>\n",
       "    </tr>\n",
       "    <tr>\n",
       "      <th>108</th>\n",
       "      <td>TAKEOFF</td>\n",
       "      <td>186</td>\n",
       "      <td>10</td>\n",
       "      <td>192</td>\n",
       "      <td>1</td>\n",
       "      <td>Neutral</td>\n",
       "      <td>0.0</td>\n",
       "      <td>88.0</td>\n",
       "      <td>9.0</td>\n",
       "      <td>23.8673</td>\n",
       "      <td>...</td>\n",
       "      <td>79.3</td>\n",
       "      <td>0.43</td>\n",
       "      <td>0.47</td>\n",
       "      <td>0.13</td>\n",
       "      <td>0.17</td>\n",
       "      <td>12.5</td>\n",
       "      <td>0.3</td>\n",
       "      <td>0.0</td>\n",
       "      <td>NaN</td>\n",
       "      <td>0.136</td>\n",
       "    </tr>\n",
       "  </tbody>\n",
       "</table>\n",
       "<p>5 rows × 50 columns</p>\n",
       "</div>"
      ],
      "text/plain": [
       "    flight_phase  engine_number  engine_type  aircraft_number  \\\n",
       "104      TAKEOFF            186           10              192   \n",
       "105      TAKEOFF            186           10              192   \n",
       "106      TAKEOFF            186           10              192   \n",
       "107      TAKEOFF            186           10              192   \n",
       "108      TAKEOFF            186           10              192   \n",
       "\n",
       "     engine_position airline_classif_environment  brat   cas  cycles    delfn  \\\n",
       "104                1                     Neutral   0.0  88.0     5.0  23.8191   \n",
       "105                1                     Neutral   0.0  93.0     6.0  25.4038   \n",
       "106                1                     Neutral   0.0  92.0     7.0  22.7509   \n",
       "107                1                     Neutral   0.0  87.0     8.0  22.1533   \n",
       "108                1                     Neutral   0.0  88.0     9.0  23.8673   \n",
       "\n",
       "     ...  ztoil  zvb1f  zvb1r  zvb2f  zvb2r  zvsv  zwbp1  zwbp2  zwf36    zxm  \n",
       "104  ...   84.3   0.39   0.58   0.05   0.15  12.3    0.2    0.0    NaN  0.133  \n",
       "105  ...   95.1   0.24   0.69   0.16   0.10  11.1    0.2    0.0    NaN  0.148  \n",
       "106  ...   81.6   0.23   0.46   0.13   0.11  12.1    0.3    0.0    NaN  0.140  \n",
       "107  ...   87.8   0.59   0.80   0.12   0.13  11.1    0.2    0.0    NaN  0.140  \n",
       "108  ...   79.3   0.43   0.47   0.13   0.17  12.5    0.3    0.0    NaN  0.136  \n",
       "\n",
       "[5 rows x 50 columns]"
      ]
     },
     "execution_count": 46,
     "metadata": {},
     "output_type": "execute_result"
    }
   ],
   "source": [
    "by_egn_type = data_accars_clean[data_accars_clean[\"engine_type\"].isin([10])] \n",
    "by_egn_type.head()"
   ]
  },
  {
   "cell_type": "code",
   "execution_count": 48,
   "metadata": {},
   "outputs": [
    {
     "data": {
      "text/plain": [
       "(712, 50)"
      ]
     },
     "execution_count": 48,
     "metadata": {},
     "output_type": "execute_result"
    }
   ],
   "source": [
    "by_egn_type.shape"
   ]
  },
  {
   "cell_type": "code",
   "execution_count": 54,
   "metadata": {},
   "outputs": [
    {
     "name": "stdout",
     "output_type": "stream",
     "text": [
      "le nombre de moteur sur un avion est : 2\n",
      "le nombre d'avion distinct est : 5\n"
     ]
    }
   ],
   "source": [
    "print(\"le nombre de moteur sur un avion est : {}\".format(len(np.unique(by_egn_type[\"engine_position\"]))))\n",
    "print(\"le nombre d'avion distinct est : {}\".format(len(np.unique(by_egn_type[\"aircraft_number\"]))))"
   ]
  },
  {
   "cell_type": "code",
   "execution_count": 57,
   "metadata": {},
   "outputs": [
    {
     "name": "stdout",
     "output_type": "stream",
     "text": [
      "le nombre d'avion distinct est : [ 11  14 190 191 192]\n"
     ]
    }
   ],
   "source": [
    "print(\"le nombre d'avion distinct est : {}\".format(np.unique(by_egn_type[\"aircraft_number\"])))"
   ]
  },
  {
   "cell_type": "code",
   "execution_count": 56,
   "metadata": {},
   "outputs": [
    {
     "name": "stdout",
     "output_type": "stream",
     "text": [
      "['TAKEOFF']\n"
     ]
    }
   ],
   "source": [
    "print(np.unique(by_egn_type[\"flight_phase\"]))"
   ]
  },
  {
   "cell_type": "markdown",
   "metadata": {},
   "source": [
    "## 2. Étude de la marge EGT de l'avion 190\n",
    "\n",
    "#### 2.1. Récupérez les variables `engine_number`, nombre de cycles (`cycles`) et marge EGT (`egthdm`) pour l'avion identifié par le numéro 190."
   ]
  },
  {
   "cell_type": "code",
   "execution_count": 63,
   "metadata": {},
   "outputs": [
    {
     "name": "stdout",
     "output_type": "stream",
     "text": [
      "       engine_number  cycles   egthdm\n",
      "11398            179    98.0  52.0118\n",
      "11399            180    69.0  57.6415\n",
      "11400            180    75.0  48.7217\n",
      "11755            179     0.0  37.6572\n",
      "11756            179     1.0  37.2208\n",
      "...              ...     ...      ...\n",
      "45809            180    48.0  51.9444\n",
      "45810            180    58.0  59.0032\n",
      "46111            179   163.0  45.8711\n",
      "46411            179    30.0  56.5585\n",
      "46412            179   101.0  41.0874\n",
      "\n",
      "[220 rows x 3 columns]\n"
     ]
    }
   ],
   "source": [
    "row_ = data_accars_clean[data_accars_clean[\"aircraft_number\"].isin([190])].loc[:, [\"engine_number\",\"cycles\", \"egthdm\"]]\n",
    "print(row_)"
   ]
  },
  {
   "cell_type": "markdown",
   "metadata": {},
   "source": [
    "#### 2.2. Affichez la courbe de l'évolution de la marge EGT au cours du temps pour les deux moteurs de l'avion, sur deux graphes séparés et en prenant soin d'ajouter des légendes."
   ]
  },
  {
   "cell_type": "code",
   "execution_count": 67,
   "metadata": {},
   "outputs": [],
   "source": [
    "engines_num = np.unique(row_[\"engine_number\"])\n",
    "egn1 = row_[row_[\"engine_number\"].isin([engines_num[0]])]\n",
    "egn2 = row_[row_[\"engine_number\"].isin([engines_num[1]])]"
   ]
  },
  {
   "cell_type": "code",
   "execution_count": 77,
   "metadata": {},
   "outputs": [
    {
     "data": {
      "text/plain": [
       "[Text(0.5, 0, 'Time'),\n",
       " Text(0.5, 1.0, 'Evolution de la marge EGT au cours du temps pour le moteur 179')]"
      ]
     },
     "execution_count": 77,
     "metadata": {},
     "output_type": "execute_result"
    },
    {
     "data": {
      "image/png": "[encoded data removed]",
      "text/plain": [
       "<Figure size 432x288 with 1 Axes>"
      ]
     },
     "metadata": {
      "needs_background": "light"
     },
     "output_type": "display_data"
    }
   ],
   "source": [
    "sns.lineplot(data = egn1, x = range(len(egn1)), y = \"egthdm\").set( xlabel = \"Time\", title = \"Evolution de la marge EGT au cours du temps pour le moteur {}\".format(engines_num[0]))"
   ]
  },
  {
   "cell_type": "code",
   "execution_count": 78,
   "metadata": {},
   "outputs": [
    {
     "data": {
      "text/plain": [
       "[Text(0.5, 0, 'Time'),\n",
       " Text(0.5, 1.0, 'Evolution de la marge EGT au cours du temps pour le moteur 180')]"
      ]
     },
     "execution_count": 78,
     "metadata": {},
     "output_type": "execute_result"
    },
    {
     "data": {
      "image/png": "[encoded data removed]",
      "text/plain": [
       "<Figure size 432x288 with 1 Axes>"
      ]
     },
     "metadata": {
      "needs_background": "light"
     },
     "output_type": "display_data"
    }
   ],
   "source": [
    "sns.lineplot(data = egn1, x = range(len(egn2)), y = \"egthdm\").set( xlabel = \"Time\", title = \"Evolution de la marge EGT au cours du temps pour le moteur {}\".format(engines_num[1]))"
   ]
  },
  {
   "cell_type": "markdown",
   "metadata": {},
   "source": [
    "#### 2.3. Pour la suite, on ne s'intéresse qu'au moteur 179. Quel est le nombre de vols manquant dans les données ?"
   ]
  },
  {
   "cell_type": "code",
   "execution_count": 80,
   "metadata": {},
   "outputs": [
    {
     "data": {
      "text/plain": [
       "engine_number    0\n",
       "cycles           0\n",
       "egthdm           0\n",
       "dtype: int64"
      ]
     },
     "execution_count": 80,
     "metadata": {},
     "output_type": "execute_result"
    }
   ],
   "source": [
    "isna_egn1 = egn1.isna()\n",
    "isna_egn1.sum()"
   ]
  },
  {
   "cell_type": "markdown",
   "metadata": {},
   "source": [
    "#### 2.4. Nettoyage de la marge EGT\n",
    "\n",
    "On constate que sur un même cycle, il peut y avoir 2 valeurs de la variable `egthdm` mesurées. On ne souhaite garder que la plus grande des deux, et avoir une seule ligne par cycle, afin que l'on puisse utiliser le nombre de cycles comme index. Enfin, on veut compléter l'index pour les vols manquants, en remplissant les lignes par `NaN`. Pour cela, effectuez l'exercice suivant:\n",
    "\n",
    "1. Utilisez une aggrégation pour obtenir la plus grande valeur à chaque cycle et stockez le résultat dans une Series pandas appelée 'egt'.\n",
    "2. Ré-indexez le DataFrame pour avoir une ligne pour tout nombre de cycles (indice : passez par la méthode reindex)."
   ]
  },
  {
   "cell_type": "code",
   "execution_count": null,
   "metadata": {},
   "outputs": [],
   "source": []
  },
  {
   "cell_type": "markdown",
   "metadata": {},
   "source": [
    "#### 2.5. On souhaite lisser les valeurs et se débarasser des outliers à l'aide d'une médiane glissante sur 15 cycles. Affichez sur un même graphe la marge EGT brute (points) et la marge lissée (ligne).\n",
    "http://pandas.pydata.org/pandas-docs/stable/generated/pandas.Series.rolling.html#pandas.Series.rolling\n",
    "\n",
    "Utilisez une fenêtre glissante de taille 15 cycles, avec un minimum de 3 observations non-nulles par fenêtre (paramètre `min_periods`)."
   ]
  },
  {
   "cell_type": "code",
   "execution_count": null,
   "metadata": {},
   "outputs": [],
   "source": []
  },
  {
   "cell_type": "markdown",
   "metadata": {},
   "source": [
    "#### 2.6. Nettoyage de la marge EGT lissée\n",
    "\n",
    "La marge EGT ne peut être que décroissante, sauf en cas de nettoyage moteur (waterwash) ou peut-être à cause d'éléments extérieurs, on va donc éviter de tenir compte des remontées de marge et ne prendre en considération que les points descendants. Cette estimation est pessimiste mais évite de prendre en compte ces facteurs extérieurs.\n",
    "\n",
    "1. Calculez une série ne contenant que les valeurs décroissantes de la amrge EGT lissée.\n",
    "2. Sur le graphique précédent, ajoutez ces points par-dessus la courbe."
   ]
  },
  {
   "cell_type": "code",
   "execution_count": null,
   "metadata": {},
   "outputs": [],
   "source": []
  },
  {
   "cell_type": "markdown",
   "metadata": {},
   "source": [
    "#### 2.7. Estimation de la pente de la marge EGT\n",
    "\n",
    "La pente de la marge EGT est un indicateur très intéressant de l'usure du moteur. On l'estime par régression linéaire par rapport au nombre de cycles. Pour cela, on utilise les points conservés précédemment qui constituent une estimation pessimiste.\n",
    "\n",
    "Pour la régression linéaire, on utilisera le modèle `LinearRegression` de scikit-learn. Son utilisation est similaire aux autres modèles de scikit-learn :\n",
    "```python\n",
    "lr = LinearRegression()\n",
    "model = lr.fit(X, y)\n",
    "```\n",
    "\n",
    "1. Apprenez un modèle `LinearRegression` sur les données calculées précédemment. Affichez les coefficients et l'ordonnée à l'origine (_intercept_) du modèle obtenu. Les valeurs sont-elles cohérentes ? (indices : pour passer d'un objet pandas (DataFrame ou Series) à un array numpy, utilisez la propriété `values`)\n",
    "2. Tracez la droite obtenue sur le graphe précédent."
   ]
  },
  {
   "cell_type": "code",
   "execution_count": null,
   "metadata": {},
   "outputs": [],
   "source": [
    "from sklearn.linear_model import LinearRegression"
   ]
  },
  {
   "cell_type": "code",
   "execution_count": null,
   "metadata": {},
   "outputs": [],
   "source": []
  },
  {
   "cell_type": "markdown",
   "metadata": {},
   "source": [
    "### 3. Écriture d'une fonction de calcul de la pente EGT pour tous les moteurs\n",
    "\n",
    "Tout d'abord, bravo si vous êtes arrivés jusque là ! Toutes les opérations que l'on a effectuées ont permis d'estimer la pente de la marge EGT du moteur 179 de l'avion 190 de type 10, et donc son usure. Maintenant, on souhaite répéter ce processus sur tous les moteurs ! Pour cela, il faudra créer une fonction Python générique, prenant en entrée l'ensemble du jeu de données ACARS et produisant en sortie l'ensemble des pentes/intercept des modèles de régression linéaire appris pour chaque moteur.\n",
    "\n",
    "L'un des intérêts est de pouvoir prédire l'usure des moteurs, après un nombre de cycles donné.\n",
    "\n",
    "Voici le squelette de la fonction à écrire (en ré-utilisant et adaptant tout les morceaux de code précédents) :\n",
    "\n",
    "```python\n",
    "def regress_egt_margin(df_acars):\n",
    "    ...\n",
    "    return df_regress_models # Contient les pentes et intercept pour tous les moteurs\n",
    "```"
   ]
  },
  {
   "cell_type": "markdown",
   "metadata": {},
   "source": [
    "### 4. Comparaison de l'usure des 3 types de moteurs"
   ]
  },
  {
   "cell_type": "markdown",
   "metadata": {},
   "source": [
    "#### 4.1. Prédiction de la marge EGT au 150ème par type de moteur\n",
    "\n",
    "1. Pour chaque moteur, utilisez son modèle de régression pour prédire la valeur de la marge EGT après 150 cycles d'utilisation (indice : méthode `apply`).\n",
    "2. Représentez ces valeurs par type moteur sur un box plot. Décrivez le résultat obtenu.\n",
    "3. Calculez la moyenne de la marge au 150ème cycle par type de moteur. Quel type de moteur a la plus grande marge moyenne après 150 cycles ?"
   ]
  },
  {
   "cell_type": "code",
   "execution_count": null,
   "metadata": {},
   "outputs": [],
   "source": []
  },
  {
   "cell_type": "markdown",
   "metadata": {},
   "source": [
    "#### 4.3. Vitesse de décroissance de la marge EGT par type de moteur\n",
    "\n",
    "La pente de la marge EGT correspond à sa vitesse de décroissance par cycle.\n",
    "\n",
    "1. Quelle est son unité ?\n",
    "2. Représentez ces valeurs par type de moteur sur un boxplot. Décrivez le résultat obtenu.\n",
    "3. Calculez moyenne de la pente par type de moteur. Quel type de moteur a la plus faible vitesse de décroissance et donc la plus faible vitesse d'usure ?"
   ]
  },
  {
   "cell_type": "code",
   "execution_count": null,
   "metadata": {},
   "outputs": [],
   "source": []
  }
 ],
 "metadata": {
  "kernelspec": {
   "display_name": "Python 3.9.12 ('base')",
   "language": "python",
   "name": "python3"
  },
  "language_info": {
   "codemirror_mode": {
    "name": "ipython",
    "version": 3
   },
   "file_extension": ".py",
   "mimetype": "text/x-python",
   "name": "python",
   "nbconvert_exporter": "python",
   "pygments_lexer": "ipython3",
   "version": "3.9.12"
  },
  "vscode": {
   "interpreter": {
    "hash": "5a0b71172837420ef09fc066387a9e35f4f202d27408b79ef2ffa6f99ff5f570"
   }
  }
 },
 "nbformat": 4,
 "nbformat_minor": 4
}
