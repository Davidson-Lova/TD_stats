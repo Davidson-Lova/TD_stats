{
 "cells": [
  {
   "cell_type": "markdown",
   "metadata": {},
   "source": [
    "# TD 4 | Étude des vibrations des aubes d'un rouet de compresseur d'un turbofan\n",
    "\n",
    "---\n",
    "\n",
    "Objectifs du TD :\n",
    "\n",
    "* pratiquer sur un use case concret d'analyse statistique de données de production aéronautiques\n",
    "* PCA\n",
    "* tests statistiques et coefficients de corrélation\n",
    "\n",
    "---"
   ]
  },
  {
   "cell_type": "markdown",
   "metadata": {},
   "source": [
    "## Présentation du problème"
   ]
  },
  {
   "cell_type": "markdown",
   "metadata": {},
   "source": [
    "On considère le **rouet de compresseur** de la **turbine à gaz d'un turbopropulseur** d'hélicoptère. Celui-ci est constitué de 13 **aubes**.\n",
    "\n",
    "<img src=\"rc/turbo-helico.png\" />\n",
    "\n",
    "<img src=\"rc/compresseur.png\" /> <img src=\"rc/compresseur-2.png\" />\n",
    "\n",
    "En production, après la fabrication et montage de la pièce, on mesure les vibrations des aubes grâce à une technique appelée **tip-timing**. Cette technique consiste à mesurer la position d'une aube en rotation par rapport à sa position au repos. En effet, les vibrations dues à la rotation entraînent un **décalage de la position des aubes** (voir schéma ci-dessous). \n",
    "\n",
    "<img src=\"rc/tiptiming.png\"/>\n",
    "\n",
    "La mesure de ce déplacement maximal à un régime (vitesse de rotation) donné permet de déduire le niveau vibratoire de chacune des aubes. Voici les résultats obtenus pour chacune des 13 aubes :\n",
    "\n",
    "<img src=\"rc/vibrations.png\" />"
   ]
  },
  {
   "cell_type": "markdown",
   "metadata": {},
   "source": [
    "<div style=\"color: #bb1111; font-size: 16px; background-color: #ffeeee; padding: 20px; border-radius: 15px\">\n",
    "    <p><b>Problème :</b> on observe un niveau de vibrations anormal pour l'aube numérotée 11 dans le tableau ci-dessus (déplacement maximal de 0.99 mm). Cependant, il est impossible d'identifier de manière certaine cette aube, car l'aube n°1 n'est pas identifiée : il peut y avoir un décalage circulaire des mesures. On sait seulement qu'une aube vibre davantage que les autres. Comment peut-on identifier cette aube afin de la remplacer ?</p>\n",
    "</div>"
   ]
  },
  {
   "cell_type": "markdown",
   "metadata": {},
   "source": [
    "## Présentation des données"
   ]
  },
  {
   "cell_type": "markdown",
   "metadata": {},
   "source": [
    "<div style=\"color: #1111bb; font-size: 16px; background-color: #eeeeff; padding: 20px; border-radius: 15px\">\n",
    "    <p>On dispose de données de production sur les aubes de ce compresseur !</p>\n",
    "</div>"
   ]
  },
  {
   "cell_type": "markdown",
   "metadata": {},
   "source": [
    "Durant la production, de nombreuses caractéristiques géométriques de chaque aube sont mesurées. Ces données géométriques sont les suivantes :\n",
    "\n",
    "* 17 variables géométriques concernant la forme (bord d'attaque BA, bord de fuite BF, etc.) de l'aube\n",
    "* 94 variables d'épaisseurs mesurées à différents points de l'aube\n",
    "\n",
    "soit un total de 111 variables mesurées par aube. Ces données se trouvent dans le fichier `Rouet_geometries.csv` (voir figures ci-dessous).\n",
    "\n",
    "<img src=\"rc/geometries.png\" />\n",
    "<img src=\"rc/epaisseurs.png\" />"
   ]
  },
  {
   "cell_type": "markdown",
   "metadata": {},
   "source": [
    "Enfin, les données de vibrations issues du tip-timing se trouvent dans le fichier `Rouet_vibrations.csv`.\n",
    "\n",
    "<img src=\"rc/vibrations.png\" />"
   ]
  },
  {
   "cell_type": "markdown",
   "metadata": {},
   "source": [
    "<div style=\"color: #1111bb; font-size: 16px; background-color: #eeeeff; padding: 20px; border-radius: 15px\">\n",
    "    <p><b>Attention :</b> Les numérotations des aubes dans les données géométriques et les résultats du tip-timing ne sont pas les mêmes (permutation circulaire) !</p>\n",
    "</div>"
   ]
  },
  {
   "cell_type": "markdown",
   "metadata": {},
   "source": [
    "## 1. Chargement et préparation des données\n",
    "\n",
    "### 1.1 Lecture des données\n",
    "\n",
    "Charger les deux jeux de données, géométries (`./data/Rouet_geometries.csv`) et vibrations (`./data/Rouet_vibrations.csv`), dans des DataFrames pandas. Il sera nécessaire de prêter attention au format des fichier (header, séparateur de colonnes, typage des colonnes, etc.).\n",
    "\n",
    "**Indice** : l'encodage des fichier CSV n'est pas UTF-8, il faudra donc préciser l'option `encoding='latin'` à la fonction `pandas.read_csv`."
   ]
  },
  {
   "cell_type": "code",
   "execution_count": 184,
   "metadata": {},
   "outputs": [],
   "source": [
    "import pandas as pd\n",
    "import numpy as np"
   ]
  },
  {
   "cell_type": "code",
   "execution_count": 185,
   "metadata": {},
   "outputs": [],
   "source": [
    "import os\n",
    "os.chdir(os.getcwd())"
   ]
  },
  {
   "cell_type": "code",
   "execution_count": 186,
   "metadata": {},
   "outputs": [
    {
     "data": {
      "text/html": [
       "<div>\n",
       "<style scoped>\n",
       "    .dataframe tbody tr th:only-of-type {\n",
       "        vertical-align: middle;\n",
       "    }\n",
       "\n",
       "    .dataframe tbody tr th {\n",
       "        vertical-align: top;\n",
       "    }\n",
       "\n",
       "    .dataframe thead th {\n",
       "        text-align: right;\n",
       "    }\n",
       "</style>\n",
       "<table border=\"1\" class=\"dataframe\">\n",
       "  <thead>\n",
       "    <tr style=\"text-align: right;\">\n",
       "      <th></th>\n",
       "      <th>N° Pale</th>\n",
       "      <th>BA in</th>\n",
       "      <th>MI in</th>\n",
       "      <th>BF intra</th>\n",
       "      <th>BA ex</th>\n",
       "      <th>MI Ex</th>\n",
       "      <th>BF ex</th>\n",
       "      <th>BA in.1</th>\n",
       "      <th>MI in.1</th>\n",
       "      <th>BF intra.1</th>\n",
       "      <th>...</th>\n",
       "      <th>85</th>\n",
       "      <th>86</th>\n",
       "      <th>87</th>\n",
       "      <th>88</th>\n",
       "      <th>89</th>\n",
       "      <th>90</th>\n",
       "      <th>91</th>\n",
       "      <th>92</th>\n",
       "      <th>93</th>\n",
       "      <th>94</th>\n",
       "    </tr>\n",
       "  </thead>\n",
       "  <tbody>\n",
       "    <tr>\n",
       "      <th>0</th>\n",
       "      <td>1</td>\n",
       "      <td>0.077</td>\n",
       "      <td>0.064</td>\n",
       "      <td>0.047</td>\n",
       "      <td>0.054</td>\n",
       "      <td>0.035</td>\n",
       "      <td>0.053</td>\n",
       "      <td>4.43</td>\n",
       "      <td>2.03</td>\n",
       "      <td>1.95</td>\n",
       "      <td>...</td>\n",
       "      <td>121.0</td>\n",
       "      <td>151.0</td>\n",
       "      <td>140.0</td>\n",
       "      <td>143.0</td>\n",
       "      <td>161.0</td>\n",
       "      <td>168.0</td>\n",
       "      <td>180.0</td>\n",
       "      <td>175.0</td>\n",
       "      <td>182.0</td>\n",
       "      <td>194.0</td>\n",
       "    </tr>\n",
       "    <tr>\n",
       "      <th>1</th>\n",
       "      <td>2</td>\n",
       "      <td>0.068</td>\n",
       "      <td>0.073</td>\n",
       "      <td>0.059</td>\n",
       "      <td>0.056</td>\n",
       "      <td>0.039</td>\n",
       "      <td>0.053</td>\n",
       "      <td>4.44</td>\n",
       "      <td>2.02</td>\n",
       "      <td>1.95</td>\n",
       "      <td>...</td>\n",
       "      <td>129.0</td>\n",
       "      <td>155.0</td>\n",
       "      <td>149.0</td>\n",
       "      <td>148.0</td>\n",
       "      <td>172.0</td>\n",
       "      <td>176.0</td>\n",
       "      <td>187.0</td>\n",
       "      <td>185.0</td>\n",
       "      <td>190.0</td>\n",
       "      <td>197.0</td>\n",
       "    </tr>\n",
       "    <tr>\n",
       "      <th>2</th>\n",
       "      <td>3</td>\n",
       "      <td>0.074</td>\n",
       "      <td>0.072</td>\n",
       "      <td>0.055</td>\n",
       "      <td>0.059</td>\n",
       "      <td>0.038</td>\n",
       "      <td>0.047</td>\n",
       "      <td>4.44</td>\n",
       "      <td>2.03</td>\n",
       "      <td>1.95</td>\n",
       "      <td>...</td>\n",
       "      <td>129.0</td>\n",
       "      <td>154.0</td>\n",
       "      <td>146.0</td>\n",
       "      <td>146.0</td>\n",
       "      <td>165.0</td>\n",
       "      <td>173.0</td>\n",
       "      <td>183.0</td>\n",
       "      <td>177.0</td>\n",
       "      <td>185.0</td>\n",
       "      <td>195.0</td>\n",
       "    </tr>\n",
       "    <tr>\n",
       "      <th>3</th>\n",
       "      <td>4</td>\n",
       "      <td>0.070</td>\n",
       "      <td>0.076</td>\n",
       "      <td>0.058</td>\n",
       "      <td>0.056</td>\n",
       "      <td>0.037</td>\n",
       "      <td>0.062</td>\n",
       "      <td>4.46</td>\n",
       "      <td>2.02</td>\n",
       "      <td>1.94</td>\n",
       "      <td>...</td>\n",
       "      <td>125.0</td>\n",
       "      <td>152.0</td>\n",
       "      <td>146.0</td>\n",
       "      <td>146.0</td>\n",
       "      <td>168.0</td>\n",
       "      <td>171.0</td>\n",
       "      <td>186.0</td>\n",
       "      <td>182.0</td>\n",
       "      <td>189.0</td>\n",
       "      <td>196.0</td>\n",
       "    </tr>\n",
       "    <tr>\n",
       "      <th>4</th>\n",
       "      <td>5</td>\n",
       "      <td>0.086</td>\n",
       "      <td>0.060</td>\n",
       "      <td>0.041</td>\n",
       "      <td>0.042</td>\n",
       "      <td>0.043</td>\n",
       "      <td>0.065</td>\n",
       "      <td>4.42</td>\n",
       "      <td>2.03</td>\n",
       "      <td>1.97</td>\n",
       "      <td>...</td>\n",
       "      <td>126.0</td>\n",
       "      <td>150.0</td>\n",
       "      <td>147.0</td>\n",
       "      <td>146.0</td>\n",
       "      <td>164.0</td>\n",
       "      <td>172.0</td>\n",
       "      <td>185.0</td>\n",
       "      <td>178.0</td>\n",
       "      <td>184.0</td>\n",
       "      <td>194.0</td>\n",
       "    </tr>\n",
       "    <tr>\n",
       "      <th>5</th>\n",
       "      <td>6</td>\n",
       "      <td>0.066</td>\n",
       "      <td>0.066</td>\n",
       "      <td>0.046</td>\n",
       "      <td>0.048</td>\n",
       "      <td>0.047</td>\n",
       "      <td>0.063</td>\n",
       "      <td>4.47</td>\n",
       "      <td>2.02</td>\n",
       "      <td>1.96</td>\n",
       "      <td>...</td>\n",
       "      <td>116.0</td>\n",
       "      <td>145.0</td>\n",
       "      <td>139.0</td>\n",
       "      <td>135.0</td>\n",
       "      <td>153.0</td>\n",
       "      <td>168.0</td>\n",
       "      <td>177.0</td>\n",
       "      <td>164.0</td>\n",
       "      <td>170.0</td>\n",
       "      <td>185.0</td>\n",
       "    </tr>\n",
       "    <tr>\n",
       "      <th>6</th>\n",
       "      <td>7</td>\n",
       "      <td>0.079</td>\n",
       "      <td>0.059</td>\n",
       "      <td>0.050</td>\n",
       "      <td>0.049</td>\n",
       "      <td>0.048</td>\n",
       "      <td>0.050</td>\n",
       "      <td>4.46</td>\n",
       "      <td>2.04</td>\n",
       "      <td>1.95</td>\n",
       "      <td>...</td>\n",
       "      <td>121.0</td>\n",
       "      <td>148.0</td>\n",
       "      <td>140.0</td>\n",
       "      <td>142.0</td>\n",
       "      <td>158.0</td>\n",
       "      <td>172.0</td>\n",
       "      <td>183.0</td>\n",
       "      <td>171.0</td>\n",
       "      <td>175.0</td>\n",
       "      <td>191.0</td>\n",
       "    </tr>\n",
       "    <tr>\n",
       "      <th>7</th>\n",
       "      <td>8</td>\n",
       "      <td>0.076</td>\n",
       "      <td>0.075</td>\n",
       "      <td>0.056</td>\n",
       "      <td>0.053</td>\n",
       "      <td>0.042</td>\n",
       "      <td>0.051</td>\n",
       "      <td>4.43</td>\n",
       "      <td>2.01</td>\n",
       "      <td>1.94</td>\n",
       "      <td>...</td>\n",
       "      <td>132.0</td>\n",
       "      <td>160.0</td>\n",
       "      <td>153.0</td>\n",
       "      <td>151.0</td>\n",
       "      <td>174.0</td>\n",
       "      <td>181.0</td>\n",
       "      <td>191.0</td>\n",
       "      <td>185.0</td>\n",
       "      <td>192.0</td>\n",
       "      <td>200.0</td>\n",
       "    </tr>\n",
       "    <tr>\n",
       "      <th>8</th>\n",
       "      <td>9</td>\n",
       "      <td>0.080</td>\n",
       "      <td>0.066</td>\n",
       "      <td>0.058</td>\n",
       "      <td>0.046</td>\n",
       "      <td>0.050</td>\n",
       "      <td>0.053</td>\n",
       "      <td>4.42</td>\n",
       "      <td>2.02</td>\n",
       "      <td>1.95</td>\n",
       "      <td>...</td>\n",
       "      <td>132.0</td>\n",
       "      <td>164.0</td>\n",
       "      <td>157.0</td>\n",
       "      <td>159.0</td>\n",
       "      <td>182.0</td>\n",
       "      <td>186.0</td>\n",
       "      <td>195.0</td>\n",
       "      <td>194.0</td>\n",
       "      <td>201.0</td>\n",
       "      <td>202.0</td>\n",
       "    </tr>\n",
       "    <tr>\n",
       "      <th>9</th>\n",
       "      <td>10</td>\n",
       "      <td>0.086</td>\n",
       "      <td>0.062</td>\n",
       "      <td>0.054</td>\n",
       "      <td>0.049</td>\n",
       "      <td>0.047</td>\n",
       "      <td>0.070</td>\n",
       "      <td>4.42</td>\n",
       "      <td>2.02</td>\n",
       "      <td>1.94</td>\n",
       "      <td>...</td>\n",
       "      <td>157.0</td>\n",
       "      <td>187.0</td>\n",
       "      <td>183.0</td>\n",
       "      <td>181.0</td>\n",
       "      <td>201.0</td>\n",
       "      <td>211.0</td>\n",
       "      <td>220.0</td>\n",
       "      <td>210.0</td>\n",
       "      <td>214.0</td>\n",
       "      <td>229.0</td>\n",
       "    </tr>\n",
       "    <tr>\n",
       "      <th>10</th>\n",
       "      <td>11</td>\n",
       "      <td>0.087</td>\n",
       "      <td>0.066</td>\n",
       "      <td>0.047</td>\n",
       "      <td>0.054</td>\n",
       "      <td>0.040</td>\n",
       "      <td>0.046</td>\n",
       "      <td>4.42</td>\n",
       "      <td>2.03</td>\n",
       "      <td>1.96</td>\n",
       "      <td>...</td>\n",
       "      <td>125.0</td>\n",
       "      <td>154.0</td>\n",
       "      <td>147.0</td>\n",
       "      <td>147.0</td>\n",
       "      <td>168.0</td>\n",
       "      <td>176.0</td>\n",
       "      <td>185.0</td>\n",
       "      <td>178.0</td>\n",
       "      <td>183.0</td>\n",
       "      <td>194.0</td>\n",
       "    </tr>\n",
       "    <tr>\n",
       "      <th>11</th>\n",
       "      <td>12</td>\n",
       "      <td>0.081</td>\n",
       "      <td>0.068</td>\n",
       "      <td>0.045</td>\n",
       "      <td>0.051</td>\n",
       "      <td>0.039</td>\n",
       "      <td>0.050</td>\n",
       "      <td>4.42</td>\n",
       "      <td>2.02</td>\n",
       "      <td>1.95</td>\n",
       "      <td>...</td>\n",
       "      <td>138.0</td>\n",
       "      <td>172.0</td>\n",
       "      <td>164.0</td>\n",
       "      <td>164.0</td>\n",
       "      <td>184.0</td>\n",
       "      <td>192.0</td>\n",
       "      <td>202.0</td>\n",
       "      <td>193.0</td>\n",
       "      <td>199.0</td>\n",
       "      <td>211.0</td>\n",
       "    </tr>\n",
       "    <tr>\n",
       "      <th>12</th>\n",
       "      <td>13</td>\n",
       "      <td>0.086</td>\n",
       "      <td>0.061</td>\n",
       "      <td>0.049</td>\n",
       "      <td>0.047</td>\n",
       "      <td>0.048</td>\n",
       "      <td>0.073</td>\n",
       "      <td>4.41</td>\n",
       "      <td>2.02</td>\n",
       "      <td>1.96</td>\n",
       "      <td>...</td>\n",
       "      <td>153.0</td>\n",
       "      <td>183.0</td>\n",
       "      <td>180.0</td>\n",
       "      <td>180.0</td>\n",
       "      <td>198.0</td>\n",
       "      <td>204.0</td>\n",
       "      <td>216.0</td>\n",
       "      <td>206.0</td>\n",
       "      <td>208.0</td>\n",
       "      <td>223.0</td>\n",
       "    </tr>\n",
       "  </tbody>\n",
       "</table>\n",
       "<p>13 rows × 112 columns</p>\n",
       "</div>"
      ],
      "text/plain": [
       "    N° Pale  BA in  MI in  BF intra  BA ex  MI Ex  BF ex  BA in.1  MI in.1  \\\n",
       "0         1  0.077  0.064     0.047  0.054  0.035  0.053     4.43     2.03   \n",
       "1         2  0.068  0.073     0.059  0.056  0.039  0.053     4.44     2.02   \n",
       "2         3  0.074  0.072     0.055  0.059  0.038  0.047     4.44     2.03   \n",
       "3         4  0.070  0.076     0.058  0.056  0.037  0.062     4.46     2.02   \n",
       "4         5  0.086  0.060     0.041  0.042  0.043  0.065     4.42     2.03   \n",
       "5         6  0.066  0.066     0.046  0.048  0.047  0.063     4.47     2.02   \n",
       "6         7  0.079  0.059     0.050  0.049  0.048  0.050     4.46     2.04   \n",
       "7         8  0.076  0.075     0.056  0.053  0.042  0.051     4.43     2.01   \n",
       "8         9  0.080  0.066     0.058  0.046  0.050  0.053     4.42     2.02   \n",
       "9        10  0.086  0.062     0.054  0.049  0.047  0.070     4.42     2.02   \n",
       "10       11  0.087  0.066     0.047  0.054  0.040  0.046     4.42     2.03   \n",
       "11       12  0.081  0.068     0.045  0.051  0.039  0.050     4.42     2.02   \n",
       "12       13  0.086  0.061     0.049  0.047  0.048  0.073     4.41     2.02   \n",
       "\n",
       "    BF intra.1  ...       85     86     87     88     89     90     91     92  \\\n",
       "0         1.95  ...    121.0  151.0  140.0  143.0  161.0  168.0  180.0  175.0   \n",
       "1         1.95  ...    129.0  155.0  149.0  148.0  172.0  176.0  187.0  185.0   \n",
       "2         1.95  ...    129.0  154.0  146.0  146.0  165.0  173.0  183.0  177.0   \n",
       "3         1.94  ...    125.0  152.0  146.0  146.0  168.0  171.0  186.0  182.0   \n",
       "4         1.97  ...    126.0  150.0  147.0  146.0  164.0  172.0  185.0  178.0   \n",
       "5         1.96  ...    116.0  145.0  139.0  135.0  153.0  168.0  177.0  164.0   \n",
       "6         1.95  ...    121.0  148.0  140.0  142.0  158.0  172.0  183.0  171.0   \n",
       "7         1.94  ...    132.0  160.0  153.0  151.0  174.0  181.0  191.0  185.0   \n",
       "8         1.95  ...    132.0  164.0  157.0  159.0  182.0  186.0  195.0  194.0   \n",
       "9         1.94  ...    157.0  187.0  183.0  181.0  201.0  211.0  220.0  210.0   \n",
       "10        1.96  ...    125.0  154.0  147.0  147.0  168.0  176.0  185.0  178.0   \n",
       "11        1.95  ...    138.0  172.0  164.0  164.0  184.0  192.0  202.0  193.0   \n",
       "12        1.96  ...    153.0  183.0  180.0  180.0  198.0  204.0  216.0  206.0   \n",
       "\n",
       "       93     94  \n",
       "0   182.0  194.0  \n",
       "1   190.0  197.0  \n",
       "2   185.0  195.0  \n",
       "3   189.0  196.0  \n",
       "4   184.0  194.0  \n",
       "5   170.0  185.0  \n",
       "6   175.0  191.0  \n",
       "7   192.0  200.0  \n",
       "8   201.0  202.0  \n",
       "9   214.0  229.0  \n",
       "10  183.0  194.0  \n",
       "11  199.0  211.0  \n",
       "12  208.0  223.0  \n",
       "\n",
       "[13 rows x 112 columns]"
      ]
     },
     "execution_count": 186,
     "metadata": {},
     "output_type": "execute_result"
    }
   ],
   "source": [
    "# geometries = pd.read_csv(\"../data/Rouet_geometries.csv\", encoding= 'latin', sep = ';', header= [2]).drop(0).dropna(how='any')\n",
    "\n",
    "geometries = pd.read_csv(\"../data/Rouet_geometries.csv\", encoding= 'latin', sep = ';', header= [2], decimal=\",\").iloc[:-1,:]\n",
    "geometries[\"BF\"] = geometries[\"BF\"].str.replace(',', '.').astype(float)\n",
    "geometries[\"N° Pale\"] = geometries[\"N° Pale\"].apply(int)\n",
    "geometries"
   ]
  },
  {
   "cell_type": "code",
   "execution_count": 187,
   "metadata": {},
   "outputs": [
    {
     "data": {
      "text/html": [
       "<div>\n",
       "<style scoped>\n",
       "    .dataframe tbody tr th:only-of-type {\n",
       "        vertical-align: middle;\n",
       "    }\n",
       "\n",
       "    .dataframe tbody tr th {\n",
       "        vertical-align: top;\n",
       "    }\n",
       "\n",
       "    .dataframe thead th {\n",
       "        text-align: right;\n",
       "    }\n",
       "</style>\n",
       "<table border=\"1\" class=\"dataframe\">\n",
       "  <thead>\n",
       "    <tr style=\"text-align: right;\">\n",
       "      <th></th>\n",
       "      <th>N° Pale</th>\n",
       "      <th>Niveau vibratoire 1FPP (mm)</th>\n",
       "      <th>Vitesse de rotation - Régime (RPM)</th>\n",
       "    </tr>\n",
       "  </thead>\n",
       "  <tbody>\n",
       "    <tr>\n",
       "      <th>0</th>\n",
       "      <td>1</td>\n",
       "      <td>0.54</td>\n",
       "      <td>16532.3</td>\n",
       "    </tr>\n",
       "    <tr>\n",
       "      <th>1</th>\n",
       "      <td>2</td>\n",
       "      <td>0.60</td>\n",
       "      <td>16538.4</td>\n",
       "    </tr>\n",
       "    <tr>\n",
       "      <th>2</th>\n",
       "      <td>3</td>\n",
       "      <td>0.61</td>\n",
       "      <td>16543.6</td>\n",
       "    </tr>\n",
       "    <tr>\n",
       "      <th>3</th>\n",
       "      <td>4</td>\n",
       "      <td>0.53</td>\n",
       "      <td>16560.2</td>\n",
       "    </tr>\n",
       "    <tr>\n",
       "      <th>4</th>\n",
       "      <td>5</td>\n",
       "      <td>0.43</td>\n",
       "      <td>16550.8</td>\n",
       "    </tr>\n",
       "    <tr>\n",
       "      <th>5</th>\n",
       "      <td>6</td>\n",
       "      <td>0.65</td>\n",
       "      <td>16605.0</td>\n",
       "    </tr>\n",
       "    <tr>\n",
       "      <th>6</th>\n",
       "      <td>7</td>\n",
       "      <td>0.38</td>\n",
       "      <td>16662.8</td>\n",
       "    </tr>\n",
       "    <tr>\n",
       "      <th>7</th>\n",
       "      <td>8</td>\n",
       "      <td>0.43</td>\n",
       "      <td>16615.3</td>\n",
       "    </tr>\n",
       "    <tr>\n",
       "      <th>8</th>\n",
       "      <td>9</td>\n",
       "      <td>0.52</td>\n",
       "      <td>16635.0</td>\n",
       "    </tr>\n",
       "    <tr>\n",
       "      <th>9</th>\n",
       "      <td>10</td>\n",
       "      <td>0.46</td>\n",
       "      <td>16639.5</td>\n",
       "    </tr>\n",
       "    <tr>\n",
       "      <th>10</th>\n",
       "      <td>11</td>\n",
       "      <td>0.99</td>\n",
       "      <td>16635.5</td>\n",
       "    </tr>\n",
       "    <tr>\n",
       "      <th>11</th>\n",
       "      <td>12</td>\n",
       "      <td>0.39</td>\n",
       "      <td>16633.0</td>\n",
       "    </tr>\n",
       "    <tr>\n",
       "      <th>12</th>\n",
       "      <td>13</td>\n",
       "      <td>0.41</td>\n",
       "      <td>16520.5</td>\n",
       "    </tr>\n",
       "  </tbody>\n",
       "</table>\n",
       "</div>"
      ],
      "text/plain": [
       "    N° Pale  Niveau vibratoire 1FPP (mm)  Vitesse de rotation - Régime (RPM)\n",
       "0         1                         0.54                             16532.3\n",
       "1         2                         0.60                             16538.4\n",
       "2         3                         0.61                             16543.6\n",
       "3         4                         0.53                             16560.2\n",
       "4         5                         0.43                             16550.8\n",
       "5         6                         0.65                             16605.0\n",
       "6         7                         0.38                             16662.8\n",
       "7         8                         0.43                             16615.3\n",
       "8         9                         0.52                             16635.0\n",
       "9        10                         0.46                             16639.5\n",
       "10       11                         0.99                             16635.5\n",
       "11       12                         0.39                             16633.0\n",
       "12       13                         0.41                             16520.5"
      ]
     },
     "execution_count": 187,
     "metadata": {},
     "output_type": "execute_result"
    }
   ],
   "source": [
    "vibrations = pd.read_csv(\"../data/Rouet_vibrations.csv\", encoding= 'latin', sep = \";\", header= [1], decimal=',')\n",
    "vibrations"
   ]
  },
  {
   "cell_type": "markdown",
   "metadata": {},
   "source": [
    "### 1.2 Standardisez les variables géométriques afin d'obtenir des variables centrées (moyenne 0) et réduites (variance 1)."
   ]
  },
  {
   "cell_type": "code",
   "execution_count": 188,
   "metadata": {},
   "outputs": [
    {
     "name": "stdout",
     "output_type": "stream",
     "text": [
      "[-5.12410627e-17 -4.44089210e-16 -8.71098065e-16 -2.57486340e-15\n",
      " -2.55351296e-15  1.36642834e-16 -6.83214169e-17 -8.25835127e-14\n",
      " -9.25755199e-15 -1.97961305e-14 -2.18756637e-14 -3.65007170e-14\n",
      "  1.93349610e-14 -1.04873375e-14 -1.15074189e-12 -3.04115707e-13\n",
      "  1.05966518e-12 -1.34133047e-11 -3.58687439e-16  7.34455232e-16\n",
      "  3.92848147e-16 -1.00774090e-15 -5.80732044e-16 -6.49053461e-16\n",
      " -1.70803542e-17 -7.51535586e-16 -3.75767793e-16 -7.17374877e-16\n",
      " -6.31973106e-16 -1.36642834e-16  1.53723188e-16  2.90366022e-16\n",
      "  5.80732044e-16  1.02482125e-15 -2.04964251e-16 -2.04964251e-16\n",
      " -6.83214169e-16  7.85696294e-16 -2.04964251e-16 -8.54017711e-17\n",
      "  8.88178420e-16  3.24526730e-16  4.78249918e-16 -3.07446376e-16\n",
      "  3.07446376e-16 -1.70803542e-17  6.49053461e-16 -2.39124959e-16\n",
      " -7.17374877e-16 -3.41607085e-17 -8.54017711e-16  2.73285668e-16\n",
      " -1.70803542e-16  4.09928501e-16  2.39124959e-16  1.36642834e-16\n",
      " -6.49053461e-16 -1.00774090e-15 -8.19857003e-16  2.73285668e-16\n",
      "  2.73285668e-16  2.22044605e-16  3.75767793e-16 -3.41607085e-17\n",
      " -1.02482125e-16 -3.41607085e-16  3.41607085e-16 -9.22339128e-16\n",
      "  8.88178420e-16 -1.26394621e-15 -7.17374877e-16  7.51535586e-16\n",
      "  1.12730338e-15 -2.73285668e-16  4.78249918e-16 -1.02482125e-16\n",
      "  7.34455232e-16  1.02482125e-15 -8.19857003e-16 -6.49053461e-16\n",
      " -1.02482125e-15  8.88178420e-16 -4.27008856e-16 -5.63651689e-16\n",
      "  3.41607085e-17 -1.33226763e-15  6.31973106e-16  2.39124959e-16\n",
      "  3.75767793e-16 -6.49053461e-16  1.70803542e-16  1.87883896e-16\n",
      "  1.19562480e-16  2.39124959e-16 -2.22044605e-16 -3.92848147e-16\n",
      "  4.44089210e-16  3.41607085e-17  2.39124959e-16  2.39124959e-16\n",
      "  1.36642834e-16 -5.12410627e-17  1.02482125e-15  1.53723188e-16\n",
      " -5.12410627e-16 -7.68615940e-16 -6.83214169e-16 -3.58687439e-16\n",
      " -6.31973106e-16  7.34455232e-16 -5.80732044e-16  5.63651689e-16]\n",
      "[1. 1. 1. 1. 1. 1. 1. 1. 1. 1. 1. 1. 1. 1. 1. 1. 1. 1. 1. 1. 1. 1. 1. 1.\n",
      " 1. 1. 1. 1. 1. 1. 1. 1. 1. 1. 1. 1. 1. 1. 1. 1. 1. 1. 1. 1. 1. 1. 1. 1.\n",
      " 1. 1. 1. 1. 1. 1. 1. 1. 1. 1. 1. 1. 1. 1. 1. 1. 1. 1. 1. 1. 1. 1. 1. 1.\n",
      " 1. 1. 1. 1. 1. 1. 1. 1. 1. 1. 1. 1. 1. 1. 1. 1. 1. 1. 1. 1. 1. 1. 1. 1.\n",
      " 1. 1. 1. 1. 1. 1. 1. 1. 1. 1. 1. 1. 1. 1. 1. 1.]\n"
     ]
    }
   ],
   "source": [
    "from sklearn.preprocessing import StandardScaler\n",
    "\n",
    "geometries_norm = pd.DataFrame(data = StandardScaler().fit_transform(geometries.values), columns = geometries.columns)\n",
    "print(geometries_norm.values.mean(axis = 0))\n",
    "print(geometries_norm.values.std(axis = 0))"
   ]
  },
  {
   "cell_type": "markdown",
   "metadata": {},
   "source": [
    "## 2. Analyse exploratoire des données\n",
    "\n",
    "### 2.1 Affichez le niveau vibratoire de chaque aube sur un bar plot"
   ]
  },
  {
   "cell_type": "code",
   "execution_count": 189,
   "metadata": {},
   "outputs": [],
   "source": [
    "import matplotlib.pyplot as plt"
   ]
  },
  {
   "cell_type": "code",
   "execution_count": 190,
   "metadata": {},
   "outputs": [
    {
     "data": {
      "text/plain": [
       "<matplotlib.axes._subplots.AxesSubplot at 0x7f56e8da12b0>"
      ]
     },
     "execution_count": 190,
     "metadata": {},
     "output_type": "execute_result"
    },
    {
     "data": {
      "image/png": "[encoded data removed]",
      "text/plain": [
       "<Figure size 432x288 with 1 Axes>"
      ]
     },
     "metadata": {
      "needs_background": "light"
     },
     "output_type": "display_data"
    }
   ],
   "source": [
    "vibrations.plot.bar(x = vibrations.columns[0], y = vibrations.columns[1])"
   ]
  },
  {
   "cell_type": "markdown",
   "metadata": {},
   "source": [
    "### 2.2 Analyse par ACP de l'importance des variables géométriques\n",
    "\n",
    "On dispose d'un grand nombre de variables géométriques (111 variables). On souhaite déterminer quelles sont les variables géométriques importantes en analysant leurs poids dans les composantes principales du jeu de données.\n",
    "\n",
    "#### 2.2.1 Effectuez une ACP sur le jeu de données géométriques, puis calculez et visualisez la part de variance expliquée par chaque composante principale. Interprétez le résultat. Quelle part de variance est expliquée par les 2 premières CP ?"
   ]
  },
  {
   "cell_type": "code",
   "execution_count": 191,
   "metadata": {},
   "outputs": [],
   "source": [
    "from sklearn.decomposition import PCA"
   ]
  },
  {
   "cell_type": "code",
   "execution_count": 192,
   "metadata": {},
   "outputs": [
    {
     "data": {
      "text/plain": [
       "Text(0.5,1,'Part de variance expliquée par chaque composante principale')"
      ]
     },
     "execution_count": 192,
     "metadata": {},
     "output_type": "execute_result"
    },
    {
     "data": {
      "image/png": "[encoded data removed]",
      "text/plain": [
       "<Figure size 432x288 with 1 Axes>"
      ]
     },
     "metadata": {
      "needs_background": "light"
     },
     "output_type": "display_data"
    }
   ],
   "source": [
    "mypca = PCA()\n",
    "mypca.fit(geometries_norm.values)\n",
    "\n",
    "plt.bar(x = [\"PC\"+str(_+1) for _ in range(0, 2)], height= mypca.explained_variance_ratio_[:2])\n",
    "plt.xlabel(\"Composante principales\")\n",
    "plt.ylabel(\"Part de variance expliquée\")\n",
    "plt.title(\"Part de variance expliquée par chaque composante principale\")"
   ]
  },
  {
   "cell_type": "code",
   "execution_count": 193,
   "metadata": {},
   "outputs": [
    {
     "name": "stdout",
     "output_type": "stream",
     "text": [
      "La part de variance expliqué par les deux composantes principales : 83.90150882735637 %\n"
     ]
    }
   ],
   "source": [
    "print(\"La part de variance expliqué par les deux composantes principales : {} %\".format(sum(mypca.explained_variance_ratio_[:2])*100))"
   ]
  },
  {
   "cell_type": "markdown",
   "metadata": {},
   "source": [
    "Une technique très courante pour analyser l'importance des variables est de visualiser leurs poids dans le plan des 2 premières composantes principales."
   ]
  },
  {
   "cell_type": "markdown",
   "metadata": {},
   "source": [
    "#### 2.2.2 Visualisez le poids des variables géométriques dans le plan (PC1, PC2)\n",
    "\n",
    "**Indice 1 :** utilisez pour cela les composantes des vecteurs principaux de la matrice `pca.components_`.\n",
    "\n",
    "**Indice 2 :** Afin d'obtenir une graphique avec une bonne échelle entre -1 et 1, il est nécessaire d'appliquer aux poids de chaque composante principale un facteur d'échelle égal à $\\sqrt{\\text{variance expliquée}}$.\n",
    "\n",
    "Voici le type de graphique, appelé _PCA factor loadings plot_ en anglais, que vous devriez obtenir :\n",
    "\n",
    "<img src=\"rc/pca-plot.png\" height=500px width=500px />"
   ]
  },
  {
   "cell_type": "code",
   "execution_count": 194,
   "metadata": {},
   "outputs": [
    {
     "data": {
      "text/plain": [
       "(-1, 1)"
      ]
     },
     "execution_count": 194,
     "metadata": {},
     "output_type": "execute_result"
    },
    {
     "data": {
      "image/png": "[encoded data removed]",
      "text/plain": [
       "<Figure size 432x288 with 1 Axes>"
      ]
     },
     "metadata": {
      "needs_background": "light"
     },
     "output_type": "display_data"
    }
   ],
   "source": [
    "from math import sqrt\n",
    "\n",
    "##Pour le cercle\n",
    "\n",
    "angle = np.linspace( 0 , 2 * np.pi , 150 ) \n",
    " \n",
    "radius = 1\n",
    " \n",
    "x = radius * np.cos( angle ) \n",
    "y = radius * np.sin( angle )\n",
    "\n",
    "##\n",
    "PC1 = mypca.components_[:2,:][0,:]*(sqrt(mypca.explained_variance_[0]))\n",
    "PC2 = mypca.components_[:2,:][1,:]*(sqrt(mypca.explained_variance_[1]))\n",
    "plt.plot(PC1, PC2, 'ro', alpha = 0.5)\n",
    "for i in range(len(PC1)):\n",
    "    plt.text(PC1[i], PC2[i], geometries.columns.values[i])\n",
    "plt.xlabel(\"PC1 ({}%)\".format(mypca.explained_variance_ratio_[0]*100))\n",
    "plt.ylabel(\"PC2 ({}%)\".format(mypca.explained_variance_ratio_[1]*100))\n",
    "plt.title(\"Principal components PC1 and PC2 {}%\".format(sum(mypca.explained_variance_ratio_[:2])*100))\n",
    "plt.axhline(y=0, color  = 'k')\n",
    "plt.axvline(x=0, color  = 'k')\n",
    "plt.plot(x,y, color = 'k')\n",
    "plt.xlim(-1,1)\n",
    "plt.ylim(-1,1)"
   ]
  },
  {
   "cell_type": "markdown",
   "metadata": {},
   "source": [
    "#### 2.2.3 Interprétez le graphique précédent. Quelles sont les variables géométriques les plus importantes ?"
   ]
  },
  {
   "cell_type": "markdown",
   "metadata": {},
   "source": [
    "Les variables d'épaisseurs (numérotées de 1 à 94) sont toutes situées dans la partie la plus à droite du plan des composantes principales. Elles ont donc un poids très important sur la PC1, beaucoup plus que les autres variables géométriques. Étant donné que la PC1 représente presque 80% de la variance, on peut en conclure que les variables d'épaisseurs sont les plus importantes."
   ]
  },
  {
   "cell_type": "markdown",
   "metadata": {},
   "source": [
    "## 3. Identification de l'aube anormale par analyse des corrélations\n",
    "\n",
    "Suite aux analyses précédentes, on décide de se focaliser sur les variables géométriques correspondant aux épaisseurs de l'aube (variables 1-94). Par ailleurs, les experts mécaniciens nous ont informés que les vibrations étaient corrélées à l'épaisseur de l'aube en différentes points. Par conséquent, nous pouvons décrire les données géométriques en utilisant **seulement la première composante principale** : on se ramène donc à un cas **univarié**, avec une seule variable $\\text{PC1}$ (projection sur la première composante principale).\n",
    "\n",
    "**Objectif :** trouver la permutation circulaire des numérotations d'aubes qui **maximise** la corrélation entre vibrations et épaisseurs des aubes, afin d'identifier l'aube défectueuse.\n",
    "\n",
    "Voici 3 coefficients de corrélation usuels permettant de mesurer l'association de deux variables (ici, $X =\\text{PC1} $ et $Y = \\text{vibration}$) :\n",
    "\n",
    "Coefficient de corrélation | formule | lien wikipédia\n",
    "---------------------------|----------|---------------\n",
    "Corrélation de Pearson     | $\\rho(X, Y) = \\frac{\\text{Cov}(X, Y)}{\\sigma_X \\sigma_Y}$ | https://fr.wikipedia.org/wiki/Corr%C3%A9lation_(statistiques)\n",
    "Corrélation de Spearman    | $\\rho_S(X, Y) = \\frac{\\text{Cov}(\\text{rank}(X), \\text{rank}(Y))}{\\sigma_{\\text{rank}_X} \\sigma_{\\text{rank}(Y)}}$ | https://fr.wikipedia.org/wiki/Corr%C3%A9lation_de_Spearman\n",
    "Corrélation de Kendall     | $\\tau(X, Y) = \\frac{2\\sum_{i<j}\\text{sign}(x_j-x_i)\\text{sign}(y_j-y_i)}{N(N-1)}$ | https://fr.wikipedia.org/wiki/Tau_de_Kendall\n"
   ]
  },
  {
   "cell_type": "markdown",
   "metadata": {},
   "source": [
    "### 3.1 Quel(s) coefficient(s) vous semble(nt) adapté(s) pour analyser les corrélations entre nos variables ?"
   ]
  },
  {
   "cell_type": "markdown",
   "metadata": {},
   "source": [
    "Je pense que c'est corellation de Kendall vu qu'on correspondre deux à deux les aubes dans le tableau de vibration avec leurs vibrations"
   ]
  },
  {
   "cell_type": "markdown",
   "metadata": {},
   "source": [
    "### 3.2 Calculez les corrélations pour les 12 décalages circulaires possibles entre les données géométriques et les vibrations. Visualisez-les sur un graphique.\n",
    "\n",
    "**Indice :** on peut facilement obtenir une permuation circulaire d'un jeu de données à l'aide de la fonction `numpy.roll(...)`."
   ]
  },
  {
   "cell_type": "markdown",
   "metadata": {},
   "source": [
    "<div style=\"color: #1111bb; font-size: 16px; background-color: #eeeeff; padding: 20px; border-radius: 15px\">\n",
    "    <p><b>Rappel :</b> On n'utilise que la PC1 des variables géométriques !</p>\n",
    "</div>"
   ]
  },
  {
   "cell_type": "markdown",
   "metadata": {},
   "source": [
    "Il est recommandé de calculer les _$p$-values_ associées au coefficient de corrélation choisi. Ces valeurs permettent de déterminer si les corrélations trouvées sont **significatives ou non**. La $p$-value est associée aux deux hypothèses statistiques suivantes :\n",
    "\n",
    "* $\\mathcal{H}_0$ : les variables X et Y sont indépendantes (pas de corrélation)\n",
    "* $\\mathcal{H}_1$ : les variables X et Y sont dépendantes (corrélation)\n",
    "\n",
    "La $p$-value correspond à la **probabilité de se tromper en rejetant l'hypothèse null $\\mathcal{H}_0$**. On fait généralement le choix de rejeter l'hypothèse nulle lorsque $p$-value < 0.05, i.e. moins de 5% de chances de se tromper."
   ]
  },
  {
   "cell_type": "code",
   "execution_count": 195,
   "metadata": {},
   "outputs": [],
   "source": [
    "import math\n",
    "def kendall_tau(x, y):\n",
    "    \"\"\"Compute Kendall's tau correlation\n",
    "    \n",
    "    Arguments\n",
    "        xs : float array (n)\n",
    "            input variable 1\n",
    "        ys : float array (n)\n",
    "        input variable 2\n",
    "        \n",
    "    Returns\n",
    "        tau : float in [-1, 1]\n",
    "            correlation coefficient\n",
    "        pvalue : float\n",
    "            p-value\n",
    "    \"\"\"\n",
    "    assert x.size == y.size\n",
    "    size = x.size\n",
    "    \n",
    "    tot = (size * (size-1)) // 2\n",
    "    s = np.array([np.sign(x[j] - x[i]) * np.sign(y[j] - y[i]) for j in range(size) for i in range(j)])\n",
    "    tau = np.sum(s) / tot\n",
    "    \n",
    "    dis = np.sum(s < 0)  # number of discordant pairs\n",
    "    # Exact p-value, see Maurice G. Kendall, \"Rank Correlation Methods\" (4th Edition), Charles Griffin & Co., 1970.\n",
    "    c = min(dis, tot-dis)\n",
    "    if size <= 0:\n",
    "        raise ValueError\n",
    "    elif c < 0 or 2*c > size*(size-1):\n",
    "        raise ValueError\n",
    "    elif size == 1:\n",
    "        pvalue = 1.0\n",
    "    elif size == 2:\n",
    "        pvalue = 1.0\n",
    "    elif c == 0:\n",
    "        pvalue = 2.0/math.factorial(size) if size < 171 else 0.0\n",
    "    elif c == 1:\n",
    "        pvalue = 2.0/math.factorial(size-1) if (size-1) < 171 else 0.0\n",
    "    else:\n",
    "        new = [0.0]*(c+1)\n",
    "        new[0] = 1.0\n",
    "        new[1] = 1.0\n",
    "        for j in range(3,size+1):\n",
    "            old = new[:]\n",
    "            for k in range(1,min(j,c+1)):\n",
    "                new[k] += new[k-1]\n",
    "            for k in range(j,c+1):\n",
    "                new[k] += new[k-1] - old[k-j]\n",
    "        pvalue = 2.0*sum(new)/math.factorial(size) if size < 171 else 0.0\n",
    "        \n",
    "    return tau, pvalue"
   ]
  },
  {
   "cell_type": "code",
   "execution_count": 216,
   "metadata": {},
   "outputs": [
    {
     "data": {
      "text/plain": [
       "<BarContainer object of 13 artists>"
      ]
     },
     "execution_count": 216,
     "metadata": {},
     "output_type": "execute_result"
    },
    {
     "data": {
      "image/png": "[encoded data removed]",
      "text/plain": [
       "<Figure size 432x288 with 1 Axes>"
      ]
     },
     "metadata": {
      "needs_background": "light"
     },
     "output_type": "display_data"
    }
   ],
   "source": [
    "PC1 = mypca.transform(geometries_norm.values)[0]\n",
    "Y = vibrations[vibrations.columns[1]]\n",
    "\n",
    "list_tau = []\n",
    "list_pvalue = []\n",
    "for i in range(13) :\n",
    "    tau, pvalue = kendall_tau(PC1, Y)\n",
    "    list_tau.append(tau)\n",
    "    list_pvalue.append(pvalue)\n",
    "    Y = np.roll(Y,1)\n",
    "plt.bar(x = range(13),height =list_pvalue)\n",
    "plt.bar(x = range(13),height =list_tau)\n"
   ]
  },
  {
   "cell_type": "markdown",
   "metadata": {},
   "source": [
    "### 3.3 Quel est le décalage circulaire qui maximise la corrélation ? (il peut éventuellement en y avoir plusieurs) Peut-on en déduire l'aube anormale ?"
   ]
  },
  {
   "cell_type": "markdown",
   "metadata": {},
   "source": []
  },
  {
   "cell_type": "markdown",
   "metadata": {},
   "source": [
    "### 3.4 L'analyse de la PC1 ne s'est pas révélée suffisante, une analyse plus fine est nécessaire. Calculez, pour chaque décalage circulaire de la numérotation des aubes, les corrélations entre toutes les variables d'épaisseur (94 variables) et le niveau vibratoire. Concluez sur l'identité de l'aube défaillante, ainsi que sur la zone précise du défaut."
   ]
  },
  {
   "cell_type": "code",
   "execution_count": null,
   "metadata": {},
   "outputs": [],
   "source": []
  }
 ],
 "metadata": {
  "kernelspec": {
   "display_name": "Python 3.7.0 ('base')",
   "language": "python",
   "name": "python3"
  },
  "language_info": {
   "codemirror_mode": {
    "name": "ipython",
    "version": 3
   },
   "file_extension": ".py",
   "mimetype": "text/x-python",
   "name": "python",
   "nbconvert_exporter": "python",
   "pygments_lexer": "ipython3",
   "version": "3.7.0"
  },
  "vscode": {
   "interpreter": {
    "hash": "5a0b71172837420ef09fc066387a9e35f4f202d27408b79ef2ffa6f99ff5f570"
   }
  }
 },
 "nbformat": 4,
 "nbformat_minor": 4
}
